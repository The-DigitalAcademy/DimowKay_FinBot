{
 "cells": [
  {
   "cell_type": "code",
   "execution_count": 12,
   "metadata": {},
   "outputs": [],
   "source": [
    "import pandas as pd\n",
    "import nltk\n",
    "import re"
   ]
  },
  {
   "cell_type": "code",
   "execution_count": 3,
   "metadata": {},
   "outputs": [
    {
     "data": {
      "application/vnd.microsoft.datawrangler.viewer.v0+json": {
       "columns": [
        {
         "name": "index",
         "rawType": "int64",
         "type": "integer"
        },
        {
         "name": "question",
         "rawType": "object",
         "type": "string"
        },
        {
         "name": "answer",
         "rawType": "object",
         "type": "string"
        }
       ],
       "conversionMethod": "pd.DataFrame",
       "ref": "3a494a37-edf6-447d-84d1-8f8bcd269e2e",
       "rows": [
        [
         "0",
         "Would I ever need credit card if my debit card is issued by MasterCardVisa?",
         "Skimmers are most likely at gas station pumps. If your debit card is compromised you are getting money taken out of your checking account which could cause a cascade of NSF fees. Never use debit card at pump. Clark Howard calls debit cards piece of trash fake visamc That is because of all the points mentioned above but the most important fact is back in the 60s when congress was protecting its constituents they made sure that the banks were responsible for fraud and maxed your liability at 50. Debit cards were introduced much later when congress was interested in protecting banks. So you have no protection on your debit card and if they find you negligent with your card they may not replace the stolen funds. I got rid of my debit card and only have an ATM card. So it cannot be used in stores which means you have to know the pin and then you can only get 200 a day."
        ],
        [
         "1",
         "Cheapest way to wire or withdraw money from US account while living in Europe ",
         "There is a number of cheaper online options that you could use. TranferWise was already mentioned here. Other options i know are Paysera or TransferGo. They state that international transfers are processed on the next day and they are substantially cheaper than those of banks. Currency exchange rate is usually not bad."
        ],
        [
         "2",
         "How do I go about finding an honest  ethical financial advisor?",
         "Large and wellknown companies are typically a good starting point. That doesnt mean that they are the best or even above average good, but at least they dont cheat you and run with your money. A core point is someone you pay, not the company whose investment he sell you. Although the latter seems cheaper on first glance, it isnt  if you pay him, his interest is to do good work for you if they pay him, his interest is to sell you the product with the highest payment for him. That does not imply that they are all that way its just a risk. There are many good advisers that live from commissions, and still dont recommend you bad investments. Depending on the amounts, you could also read up a bit and open an account with a online investment company. It is discussable, but I think the cost for an adviser only starts to become worth it if you are deep into 5 digits of money."
        ],
        [
         "3",
         "Why invest in becoming a landlord?",
         "why does it make sense financially to buy property and become a landlord? Because then your investment generates cash instead of just sitting idle. All taxes, fees and repairs aside it would take almost 21 years before I start making profits. No  your profit will be the rents that you collect minus expenses. You still have an asset that is worth roughly what you paid for it and might go up in value, so you dont need to recoup the entire cost of the property before making a profit. Compared to investing the same 150k in an ETF portfolio with conservative 4 in annual returns I would have made around 140k  after taxes in the same 21 years i.e. almost doubled the money. If you charge 600   month and never miss a month of rental income, after 21 years you have made 151k  in rents plus you still have a property. That property is most likely going to be worth more than you paid for it, so you should have at least 300k  in assets. Having said all that, it does NOT always make sense to invest in rental property. Being a landlord can be a hard job, and there are many risks involved that are different that risks in financial investments."
        ],
        [
         "4",
         "What could be the cause of a extreme highlow price in after hours market?",
         "Often these types of trades fall into two different categories. An error by broker or exchange. Exchange clearing out part of their books incorrectly is an example. Most exchanges make firms reopen their positions for after market hours. There may have been an issue doing so or exchange could incorrectly cancel positions. I was in the direct feed industry for years and this was a big issue. At the same time the broker can issue a no limit buy on accident or has software that is prospecting and said software has a bug or written poorly. unscrupulous parties looking to feign an upswing or downswing in market. Lets say you hold 500k shares in a stock that sells for 11. You could possibly buy 100 shares for 13. Trust me you will find a seller. Then you are hoping that people see that trade as a \"norm\" and trade from there, allowing you to rake in 1M for spending an extra 200  NOTE this is not normal and an extreme example. This was so common in the early days of NASDAQ after hours that they discontinued using the after hours trades as part of historical information that they keep like dailyyearly high or closing price. The liquidity allows for manipulation. It isnt seen as much now since this has been done a million times but it does still happen."
        ],
        [
         "5",
         "Cant the account information on my checks be easily used for fraud?",
         "Yes, those numbers are all that is needed to withdraw funds, or at least set online payment of bills which you dont owe. Donald Knuth also faced this problem, leading him to cease sending checks as payment for finding errors in his writings."
        ],
        [
         "6",
         "Legitimate unclaimed property that doesnt appear in any state directory?",
         "So while these companies are not a scam, 30 feels pretty darn high. How about you negotiate a much lower rate? 10 or 15? Here is why You will spend time and effort which technically isnt free to find the money. I bet you can find it if you look hard enough. But you could also just collect it and give this company a cut for their expertise. However if 30 bugs you and it would bug me then consider their reality. They spent money to find the funds and contact you. HOWEVER, that is a sunk cost. It is already spent. You can find it on your own and they get zip. Or you negotiate a lower percentage, they get enough to cover their costs and make some profit and you save a ton of time. Since they took the time to explain themselves here, they are either scammers trying to bully you into compliance, or they are legit. It is field that people might look down on, but it isnt criminal. I would look for the money if it were me, but I feel I have enough free time that it would be worth it."
        ],
        [
         "7",
         "Dollarcost averaging How often should one use it? What criteria to use when choosing stocks to apply it to?",
         "Dollar cost averaging is a great strategy to use for investment vehicles where you cant invest it in a lump sum. A 401K is perfect for this. You take a specific amount out of each paycheck and invest it either in a single fund, or multiple funds, or some programs let you invest it in a brokerage account so you can invest in virtually any mutual fund or stock. With annual or semiannual rebalancing of your investments dollar cost averaging is the way to invest in these programs. If you have a lump sum to invest, then dollar cost averaging is not the best way to invest. Imagine you want to invest 10K and you want to be 50 bonds and 50 stocks. Under dollar cost averaging you would take months to move the money from 100 cash to 5050 bondsstocks. While you are slowly moving towards the allocation you want, you will spend months not in the allocation you want. You will spend way too long in the heavy cash position you were trying to change. The problem works the other way also. Somebody trying to switch from stocks to gold a few years ago, would not have wanted to stay in limbo for months. Obviously day traders dont use dollar cost averaging. If you will will be a frequent trader, DCA is not the way to go. No particular stock type is better for DCA. It is dependent on how long you plan on keeping the investment, and if you will be working with a lump sum or not. EDIT There have be comments regarding DCA and 401Ks. When experts discuss why people should invest via a 401K, they mention DCA as a plus along with the company match. Many participants walk away with the belief that DCA is the BEST strategy. Many articles have been written about how to invest an inheritance or tax refund, many people want to use DCA because they believe that it is good. In fact in the last few years the experts have begun to discourage ever using DCA unless there is no other way."
        ],
        [
         "8",
         "When is the right time to buy a car andor a house?",
         "Buying a house is often more emotional than financial. Which makes that kind of advice tough to offer. Staying with the finance side  You wrote \"2 bedrooms is enough for me.\" Is it enough for your girlfriendfiancee? Is she on the same schedule for kids as you are? 2 bedrooms means that with just one child you are less able to host a guest and the second child will need to share the bedroom. Nothing wrong with that, just making sure you are aware of these things. If the long term plan is to move to a new house, a ten year horizon for the second house sounds good to me. Ill make one brief comment on rent vs buy  its easy to buy too big and discover you are paying for rooms you dont use. I have a house Ill be glad to get rid of when our daughter goes off to college. A dining room and formal living room go unused save for 3 or 4 days a year. It already sounds like youll avoid this mistake. Your question  the right time  when you are ready, with the downpayment, income, and desire to do so. You should at least have a feeling you plan to stay there for a time, else the cost of buyingselling would exceed any potential gain."
        ],
        [
         "9",
         "Using a FOREX platform to actually change money ",
         "If you wanted to spend money in another country, a specialist credit card would be the most costeffective way. Nearspot exchange rate, zeroloading, nolow ATM fees. Likewise a prepaid debit card would also allow for money transfer across borders. If this is the right situation, FOREX trading platforms are overkill to achieve a valid solution."
        ],
        [
         "10",
         "Can a wealthy investor invest in or make a deal with a company before it goes public  IPO?",
         "Yes, an investment can be made in a company before IPO. The valuation process is similar as that done for arriving at IPO or for a normal listed company. The difference may be the premium perceived for the idea in question. This would differ from one investor to other. For example, whether Facebook will be able to grow at the rate and generate enough revenues and win against competition is all a mathematical model based on projections. There are quite a few times the projection would go wrong, and quite a few times it would go correct. An individual investor cannot generally borrow from banks to invest into a company listed or otherwise or for any other purpose if he does not have any collateral that can be kept as security by the bank. An individual can get a loan only if he has sufficient collateral. The exceptions being small personal loans depending on ones credit history. The Private Equity placement arm of banks or firms in the business of private equity invest in startup and most of the time make an educated guess based on their experience. More than half of their investments into startups end up as wiped out. An occasional one or two companies are ones that they make a windfall gain on."
        ],
        [
         "11",
         "Why is the highest quintile the only quintile whose wealth exceeds its income? ",
         "There are a lot of forces at play here, one of which is addressed in your second bullet point. Housing, transportation, food, and healthcare are pretty much the staple expenses of a modern day human. While these expenses all have a range from minimum required to function and luxurious all humans incur these costs. The lower rung wage earners earn an amount closer to their actual costs than higher earners. As income scales up these expenses typically also scale up with different lifestyle choices. There reaches a breaking point though where is so much excess to your income that you begin meaningfully spending on investments you may also begin to take a meaningful portion of your compensation in securities rather than currency. In times where the economy is booming, folks who hold assets in securities rather than currency really win. In 2008 people in that highest rung really took a wealth hit and probably an income hit."
        ],
        [
         "12",
         "Why do stocks tend to trade at high volumes at the end of or start the trading day?",
         "Is it possible that mutual funds account for a significant portion of this volume. Investors may decide to buy or sell anytime within a 24 hour period, but the transaction only happened at the close of the market. Therefore at 359 pm the mutual fund knows if they will be buying or selling stocks that day. As nws pointed out the nonmarket hours are longer and therefore accumulate more news event. Some financial news is specifically given during the time the market is closed. Therefore the reaction to that news has to either be in the morning when the market opens or in the late afternoon if they are trying to anticipate the news. Also in the US market the early morning trader may be reacting to European market activities."
        ],
        [
         "13",
         "How smart is it to really be 100 debt free?",
         "My take is that there are many factors to consider when deciding whether to accelerate payment of a debt beyond the require minimum. Ideally you would want to be debtfree with a home owned outright, a pension big enough to lead a nice life for the rest of your days and plenty of savings to cover any unexpected expenses. Being debtfree is not a bad thing but it should not come at the expense of your overall financial health."
        ],
        [
         "14",
         "Probablity of touching In the money vs expiring in the money for an american option",
         "Conceptually, yes, you need to worry about it. As a practical matter, its less likely to be exercised until expiry or shortly prior. The way to think about paying a European option is [Odds of paying out]  [odds that strike is in the money at expiry] Whereas the American option can be thought of as [Odds of paying out]  [odds that strike price is in the money at expiry]   [odds that strike price is in the money prior to expiry]  [odds that other party will exercise early] . This is just a heuristic, not a formal financial tool. But the point is that you need to consider the odds that it will go into the money early, for how long maybe over multiple periods, and how likely the counterparty is to exercise early. Important considerations for whether they will exercise early are the strategy of the other side long, straddle, quick turnaround, the length of time the option is in the money early, and the anticipated future movement. A quick buck strategy might exercise immediately before the stock turns around. But that could leave further gains on the table, so its usually best to wait unless the expectation is that the stock will quickly reverse its movement. This sort of countermarket strategy is generally unlikely from someone who bought the option at a certain strike, and is equivalent to betting against their original purchase of the option. So most of these people will wait because they expect the possibility of a bigger payoff. A long strategy is usually in no hurry to exercise, and in fact they would prefer to wait until the end to hold the time value of the option the choice to get out of the option, if it goes back to being unprofitable. So it usually makes little sense for these people to exercise early. The same goes for a straddle, if someone is buying an option for insurance or to economically exit a position. So youre really just concerned that people will exercise early and forgo the time value of the American option. That may include people who really want to close a position, take their money, and move on. In some cases, it may include people who have become overextended or need liquidity, so they close positions. But for the most part, its less likely to happen until the expiration approaches because it leaves potential value on the table. The time value of an option dwindles at the end because the implicit option becomes less likely, especially if the option is fairly deep in the money the implicit option is then fairly deep out of the money. So early exercise becomes more meaningful concern as the expiration approaches. Otherwise, its usually less worrisome but more than a nonzero proposition."
        ],
        [
         "15",
         "Does a bid and ask price exist for indices like the SP500?",
         "Bid and ask prices of stocks change not just daily, but continuously. They are, as the names suggest, what price people are asking for to be willing to sell their stock, and how much people are bidding to be willing to buy it at that moment. Your equation is accurate in theory, but doesnt actually apply. The bid and ask prices are indicators of the value of the stock, but the only think you care about as a trader are what you actually pay and sell it for. So regardless of the bidask the equation is Since you cannot buy an index directly index, like indicator it doesnt make sense to discuss how much people are bidding or asking for it. Like JoeTaxpayer said, you can buy and therefore bidask for ETFs and funds that attempt to track the value of the SP 500."
        ],
        [
         "16",
         "Multiple hard inquiry for a single loan from car dealer?",
         "Im a bit surprised that nobody talked about the impact of multiple inquiries on a loan, since OP is concerned with credit building. Probably an answer as opposed to a comment is justified. Yes. In fact when you shop for auto loan you are expected to have your credit scorereport be pulled by different banks, credit unions, andor the financing arm of the car manufacturer or the dealership, so that you can hopefully get the best rate possible. This is especially true if the dealer is requesting quotes on rates on your behalf, as they would probably use a batch process to send out applications to multiple financial institutions all at once. Yes, and a bit unusual  CALVERT TOYO your dealer pulled your report twice on the same day. Presumably they are not getting any new information on the second pull. Maybe a fat finger? Regardless, you should not worry about this too much to be explained below. I would say \"dont bother\". The idea behind hard inquiries lowering credit score is that lenders see the number of hard inquiries as your desire for credit. Too high a number is often viewed as either \"desperate for credit\" or \"unable to qualify for credit\". But as explained above, it is very common for a person to request quotes for multiple financial institutions and thus to have multiple hard inquiries in a short period of time when shopping for loans. To account for that, the credit bureaus model would usually combine hard inquiries for a same type of loan auto, mortgage, etc. within 30 days. Hence a person sending quote request to 3 banks wont be rated higher for credit than if he were to request quotes from 5 banks. Therefore in your case your credit profile is not going to be different if you had been pulled just once. my credit score goes down for 15 points Im assuming you are talking about the credit score provided by Credit Karma. The score CK provided is FAKO. The score lenders care about is FICO. They are well correlated but still different. Google these two terms and you should be able to figure out the difference quickly. You can also refer to my answer to a different question here Equifax credit score discrepancy in 1 month, why?"
        ],
        [
         "17",
         "Options vs Stocks which is more profitable",
         "The first thing that I learned the hard way by trying my hand at actual options trading is that liquidity matters. So few people are interested in trading the same options that I am that it is easy to get stuck holding profitable contracts into expiration unless I offer to sell them for a lot less than they are worth. I also learned that options are a kind of insurance,and no one makes money in the long run buying insurance. So you can use options to hedge and thereby prevent losses, but you also blunt your gains. Edit IMO,options in the long run only make money for the brokers as you pay a commission both on the buy and on the sell. With my broker the commission on options is higher than the commission on stocks or ETFs."
        ],
        [
         "18",
         "Are wash sale rules different for stocks and ETFs  Mutual Funds?",
         "What JoeTaxpayer means is that you can sell one ETF and buy another that will perform substantially the same during the 30 day wash sale period without being considered substantially the same from a wash sale perspective more easily than you could with an individual stock. For example, you could sell an SP 500 index ETF and then temporarily buy a DJIA index ETF. As these track different indexes, they are not considered to be substantially the same for wash sale purposes, but for a short term investing period, their performance should still be substantially the same."
        ],
        [
         "19",
         "How to rebalance a portfolio without moving money into losing investments",
         "If you are making regular periodic investments e.g. each pay period into a 401k plan or via automatic investment scheme in a nontaxdeferred portfolio e.g. every month, 200 goes automatically from your checking account to your broker or mutual fund house, then one way of rebalancing over a period of time is to direct your investment differently into the various accounts you have, with more going into the pile that needs bringing up, and less into the pile that is too high. That way, you can avoid capital gains or losses etc in doing the sellingoff of assets. You do, of course, take longer to achieve the balance that you seek, but you do get some of the benefits of dollarcost averaging."
        ],
        [
         "20",
         "Why would preferred shares have less potential for capital gain compared to common stock?",
         "True blue preferred shares are considered loose hybrids of credit and equity. They are more senior than common equity in bankruptcy liquidation but pay out a dividend which is not mandatory. Financial institutions issue the bulk of genuine preferred shares because of their need for more flexibility than a bond but not so much that they can afford the cost to shareholders by diluting common equity. Since it is a creditlike security that receives none of the income from operations but merely pays out a potentially unpredictable yet fixed amount of income, it will perform much more like a bond, rising when interest rates fall and vice versa, and since interest rates do not move to the extent of common equity valuations, preferreds price variances will correspond much more to bonds than common equities. If the company stops paying the preferred dividend or looks to become in financial trouble, the price of the preferred share should be expected to fall. There are more modern preferred however. It has now become popular to fund intermediate startups with convertible preferred shares. Because these are derivatives based upon the common equity, they can be expected to be much more variant."
        ],
        [
         "21",
         "Foolish to place orders before the market opens?",
         "More on a technical note, but the spread on an ETF tends to be worst at market open and near market close. assuming the ETF constituents are traded on a synchronous basis. If possible, its often best to let market makers get up and running before allowing your order to flow into market."
        ],
        [
         "22",
         "Snowball debt or pay off a large amount?",
         "I want to know if I cut the citi card in half for example, how much would the min payment go down? If you goal is to become debtfree, the minimum payment shouldnt matter. Even if the minimum payment goes down, continue your current payment amount or more, if you can afford it until the balance is paid off. Paying the minimum will just keep you in debt longer."
        ],
        [
         "23",
         "As a young adult, what can I be doing with my excess income?",
         "This is all very basic and general advice, that works for most, but not all. You are unique with your own special needs and desires. Good luck! P.S. not exactly related to your question, but when you get more familiar with investing and utilizing your money, find more ways to save more. For example, change phone plan, cut the cable, home made food in bulk, etc."
        ],
        [
         "24",
         "Explain the significance of reviewing and adjusting an insurance policy based on changing circumstances.",
         "Regular reviews and adjustments of insurance policies are crucial due to Personalization Align policies with current needs for optimal coverage. Error Prevention Identify and correct errors in personal details, benefits, or schedule. Flexibility Some plans, like HDFC Lifes Click 2 Protect Life, offer flexibility to modify coverage and premiums. Adaptability Policy adjustments accommodate life changes, ensuring continued effectiveness. Regular reviews empower individuals to make informed decisions, keeping insurance coverage relevant and robust."
        ],
        [
         "25",
         "Annualized Rate of Return on Stock Purchased in Tranches",
         "So, there is no truly \"correct\" way to calculate return. Professionals will often calculate many different rates of return depending on what they wish to understand about their portfolio. However, the two most common ways of calculating multiperiod return though are timeweighted return and moneyweighted return. Ill leave the details to this good Investopeadia article, but the big picture is timeweighted returns help you understand how the stock performed during the period in question independent of how you invested it it. Whereas moneyweighted return helps you understand how you performed investing in the stock in question. From your question, it appears both methods would be useful in combination to help you evaluate your portfolio. Both methods should be fairly easy to calculate yourself in a spread sheet, but if you are interested there are plenty of examples of both in google docs on the web."
        ],
        [
         "26",
         "Where can I find all public companies information?",
         "Edgar Online is the SECs reporting repository where public companies post their forms, these forms contain financial data Stock screeners allow you to compare many companies based on many financial metrics. Many sites have them, Google Finance has one with a decent amount of utility"
        ],
        [
         "27",
         "30yearold saved 30,000 what should I do with it?",
         "First, two preliminaries, to address good points people made in comments. As AbraCadaver noted, before you move your 30k to something that might lose money, make sure you have enough cash to serve as an emergency fund in case you lose your income. Especially remember that big stock market crashes often go handinhand with widespread layoffs. Also, you mentioned that youre maxed out in a 401k. As JoeTaxpayer hinted, this could very well already be invested in stocks, and, if it isnt, probably a big part of it should be. Regarding your 30k, you dont need to pay anybody. In general, fees and expenses can form a big drag on your investments, and its good to avoid them as much as possible. In particular, especially with \"only\" 30k, its unlikely that advisers can save you more than they cost. Also, all financial advisers have a cost the \"free\" ones usually push you into investing in expensive funds that make them money at your expense. In that regard, keep in mind that, unlike a lawyer or a doctor, a financial adviser is not required by law to give advice thats in your best interest. When investing, there is a pretty short list of important considerations that you should keep in mind If anyone has any other points they think are similarly important, feel free to suggest an edit. Practically speaking, Id suggest investing in index funds. These are mutual funds that invest very broadly, in a \"passive\" way that doesnt spend a lot of effort and money trying to pick individual highperforming stocks or anything like that. Index funds provide a lot of diversification and tend to have low expense ratios. Other, \"actively managed\" funds tend to be more expensive and often dont outperform index funds anyway. If youre saving for retirement, there are even target date funds that are themselves composed of a small number of index funds often domestic and international stocks and bonds, and will increase the proportion invested in bonds safer as they get closer to a target retirement date. See, for example the Vanguard Target Retirement 2045 fund. A fund like that one might be all you need if you are saving for retirement. Finally, you can invest online without paying any advisers. Not all companies are created equal, however do your research. I personally highly recommend Vanguard, since they have a wide variety of noload index funds and tend to have very low expense ratios. Noload means you dont have to pay a fee to buy and sell. Part of why they are inexpensive is that, unlike most financial companies, they are actually a cooperative owned by those who invest in their funds, so they dont need to try and milk a profit out of you. Dont let that suggest that theyre some \"smallpotatoes hippie firm\", though theyre actually one of the largest. I hope I helped. Keep posting if you have more questions!"
        ],
        [
         "28",
         "Should I prioritize retirement savings inside of my HSA?",
         "Unquestionably I think the priority should be funding retirement through ROTHIRA401K over HSA extra. Obviously you need to fund your HSA for reasonable and expected medical expenses. Also there is some floor to your more traditional retirement funding. Beyond that what does one do with excess dollars? Given the lack of flexibility and fees, it seems clear to do ROTH IRA and 401K. Beyond that what then? You may want to decide to \"take some money home\" and pay taxes on it. Do you have a desire to own rental property or startpurchase a business? Upgrade your home? etc... If all those things are taken care of, only then would I put money into an HSA. YMMV but most people, maxing a ROTH IRA alone, will have plenty of money for retirement given a reasonable rate of return."
        ],
        [
         "29",
         "Are companies in California obliged to provide invoices?",
         "We run into this all the time with our EU clients. As far as I can tell, the only requirements when it comes to invoicing have to do with sales tax, which is determined at the state level, and only in the case that items are taxable. It seems that the service provided to you is not taxable and so there is no obligation under Californian law to provide you with the invoice you need. That said, it would be nice to provide this information to you as a courtesy. We dont provide the information typically required by EU tax authorities on our receipts either, but whenever one of our EU clients requests a more formal invoice we gladly send them one."
        ],
        [
         "30",
         "What kinds of information do financial workers typically check on a daily basis?",
         "Google Finance and Yahoo! Finance would be a couple of sites you could use to look at rather broad market information. This would include the major US stock markets like the Dow, Nasdaq, S  P 500 though also bond yields, gold and oil can also be useful as depending on which area one works the specifics of what are important could vary. If you were working at a wellknown bond firm, Id suspect that various bond benchmarks are likely to be known and watched rather than stock indices. Something else to consider here is what constitutes a \"finance practitioner\" as Id imagine several accountants and actuaries may not watch the market yet there could be several software developers working at hedge funds that do so that it isnt just a case of what kind of work but also what does the company do."
        ],
        [
         "31",
         "End of financial year closing transactions",
         "Im not sure theres a good reason to do a \"closing the books\" ceremony for personal finance accounting. And youre not only wanting to do that, but have a fiscal year thats different from the calendar year? Yikes! My understanding is that usually this process is done for businesses to be able to account for what their \"Retained Earnings\" and such are for investors and tax purposes generally individuals wouldnt think of their finances in those terms. Its certainly not impossible, though. Gnucash, for example, implements a \"Closing Books\" feature, which is designed to create transactions for each Income and Expenses account into an endofyear Equity Retained Earnings account. It doesnt do any sort of closing out of Assets or Liabilities, however. And Im not sure how that would make any sense, as youd transfer it from your Asset to the Endofyear closing account, and then transfer it back as an Opening Balance for the next year? If you want to keep each year completely separate, the page about Closing Books in the Gnucash Wiki mentions that one can create a separate Gnucash file per year by exporting the account tree from your existing file, then importing that tree and the balances into a new file. I expect that it makes it much more challenging to run reports across multiple years of data, though. While your question doesnt seem to be specific to Gnucash I just mention it because its the accounting tool Im most familiar with, Id expect that any accounting program would have similar functionality. I would, however, like to point out this section from the Gnucash manual Note that closing the books in GnuCash is unnecessary. You do not need to zero out your income and expense accounts at the end of each financial period. GnuCashs builtin reports automatically handle concepts like retained earnings between two different financial periods. In fact, closing the books reduces the usefulness of the standard reports because the reports dont currently understand closing transactions. So from their point of view it simply looks like the net income or expense in each account for a given period was simply zero. And thats largely why Im just not sure what your goals are. If you want to look at your transactions for a certain time, to \"just focus on the range of years Im interested in for any given purpose\" as you say, then just go ahead and run the report you care about with those years as the dates. The idea of \"closing books\" comes from a time when youd want to take your pile of paper ledgers and go put them in storage once you didnt need to refer to them regularly. Computers now have no challenges storing \"every account from the beginning of time\" at all, and you can filter out that data to focus on whatever youre looking for easily. If you dont want to look at the old data, just dont include them in your reports. Im pretty sure thats the \"better way to keep the books manageable\"."
        ],
        [
         "32",
         "When should I start an LLC for my side work?",
         "The major reason to start an LLC for side work is if you want the additional personal liability protection afforded by one. If youre operating as a sole proprietor, you may be exposing yourself to liability debts and judgments against your business can put your personal assets at risk! So, if youre intending to continue and grow your side work in the future, you ought to consider the LLC sooner than later. Its also an important legal decision and you should consider seeking a professional opinion. The Wall Street Journal has a brief guide titled How to Form an LLC. Here are some notable excerpts A limited liability company, or LLC, is similar to a partnership but has the legal protections of personal assets that a corporation offers without the burdensome formalities, paperwork and fees. [...] Some states charge annual fees and taxes that can diminish the economic advantage of choosing to become an LLC. Among LLC advantages passthrough taxation  meaning the profits and losses pass through the business to the individuals owning the business who report this information on their own personal tax returns. The result can be paying less in taxes, since profits are not taxed at both the business level and the personal level. Another plus Owners arent usually responsible for the companys debts and liabilities. [...] Also check out onstartups.coms Startup 101 Should You Form An Inc. or An LLC? Here are some additional articles that discuss the advantages  disadvantages of forming an LLC"
        ],
        [
         "33",
         "Why do 10 year Treasury bond yields affect mortgage interest rates?",
         "Youve really got three or four questions going here and its clear that a gap in understanding one component of how bonds work pricing is having a ripple effect across the other facets of your question. The reality is that everybodys answers so far touch on various pieces of your general question, but maybe I can help by integrating. So, lets start by nailing down what your actual questions are 1. Why do mortgage rates tend to increase when the published treasury bond rate increases? Im going to come back to this, because it requires a lot of building blocks. 2. Whats the math behind a bond yield increasing price falling? This gets complicated, fast. Especially when you start talking about selling the bond in the middle of its time period. Many people that trade in bonds use financial calculators, Excel, or precalculated tables to simplify or even just approximate the value of a bond. But heres a simple example that shows the math. Lets say weve got a bond that is issued by Dell for 10,000. The company will pay it back in 5 years, and it is offering an 8 rate. Interest payments will only be paid annually. Remember that the amount Dell has promised to pay in interest is fixed for the life of the bond, and is called the coupon rate. We can think about the way the payouts will be paid in the following table As Im sure you know, the value of a bond its yield comes from two sources the interest payments, and the return of the principal. But, if you as an investor paid 14,000 for this bond, you would usually be wrong. You need to discount those amounts to take into account the time value of money. This is why when you are dealing in bonds it is important to know the coupon rate what is Dell paying each period?. But it is also important to know your sellersbuyers own personal discount rates. This will vary from person to person and institution to institution, but it is what actually sets the PRICE you would buy this bond for. There are three general cases for the discount rate or the MARKET rate. First, where the market rate  the coupon rate. This is known as par in bond parlance. Second, where the market rate  coupon rate. This is known as a discount bond. But before we get into those in too much depth, how does discounting work? The idea behind discounting is that you need to account for the idea that a dollar today is not worth the same as a dollar tomorrow. Its usually worth more tomorrow. You discount a lump sum, like the return of the principal, differently than you do a series of equal cash flows, like the stream of 800 interest payments. The formula for discounting a lump sum is Present ValueFuture Value 11interest rate of periods The formula for discounting a stream of equal payments is Present ValueSingle Payment 11ini i  interest rate and n  number of periods cite investopedia So lets look at how this would look in pricing the pretend Dell bond as a par bond. First, we discount the return of the 10,000 principal as 10,000  1  1.085. That equals 6,807.82. Next we discount the 5 equal payments of 800 as 800 3.9902. I just plugged and chugged but you can do that yourself. That equals 3,192.18. You may get slightly different numbers with rounding. So you add the two together, and it says that you would be willing to pay 6,807.82  3,192.18  10,000. Surprise! When the bond is a par bond youre basically being compensated for the time value of money with the interest payments. You purchase the bond at the face value, which is the principal that will be returned at the end. If you worked through the math for a 6 discount rate on an 8 coupon bond, you would see that its premium, because you would pay more than the principal that is returned to obtain the bond [10,842.87 vs 10,000]. Similarly, if you work through the math for a 10 discount rate on an 8 coupon bond, its a discount bond because you will pay less than the principal that is returned for the bond [9,241.84 vs 10,000]. Its easy to see how an investor could hold our imaginary Dell bond for one year, collect the first interest payment, and then sell the bond on to another investor. The mechanics of the calculations are the same, except that one less interest payment is available, and the principal will be returned one year sooner so N4 in both formulae. Still with me? Now that were on the same page about how a bond is priced, we can talk about Yield To Maturity, which is at the heart of your main question. Bond yields like the ones you can access on CNBC or Yahoo!Finance or wherever you may be looking are actually taking the reverse approach to this. In these cases the prices are fixed in that the sellers have listed the bonds for sale, and specified the price. Since the coupon values are fixed already by whatever organization issued the bond, the rate of return can be imputed from those values. To do that, you just do a bit of algebra and swap present value and future value in our two equations. Lets say that Dell has gone private, had an awesome year, and figured out how to make robot unicorns that do wonderful things for all mankind. You decide that now would be a great time to sell your bond after holding it for one year and collecting that 800 interest payment. You think youd like to sell it for 10,500. Since the principal return is fixed 10,000 the number of periods is fixed 4 and the interest payments are fixed 800 but youve changed the price... something else has to adjust and that is the discount rate. Its kind of tricky to actually use those equations to solve for this by hand you end up with two equations one unknown, and set them equal. So, the easiest way to solve for this rate is actually in Excel, using the function RATENPER, PMT, PV, FV. NPER  4, PMT  800, PV10500, and FV10000. Hint to make sure that you catch the minus sign in front of the present value buyer pays now for the positive return of 10,000 in the future. That shows 6.54 as the effective discount rate or rate of return for the investor. That is the same thing as the yield to maturity. It specifies the return that a bond investor would see if he or she purchased the bond today and held it to maturity. 3. What factors in terms of supply and demand drive changes in the bond market? I hope its clear now how the tradeoff works between yields going UP when prices go DOWN, and vice versa. It happens because the COUPON rate, the number of periods, and the return of principal for a bond are fixed. So when someone sells a bond in the middle of its term, the only things that can change are the price and corresponding yielddiscount rate. Other commenters including you have touched on some of the reasons why the prices go up and down. Generally speaking, its because of the basics of supply and demand higher level of bonds for sale to be purchased by same level of demand will mean prices go down. But its not just because interest rates are going up and down. It has a lot more to do with the expectations for 1 risk, 2 return and 3 future inflation. Sometimes it is action by the Fed, as Joe Taxpayer has pointed out. If they sell a lot of bonds, then the basics of higher supply for a set level of demand imply that the prices should go down. Prices going down on a bond imply that yields will go up. I really hope thats clear by now. This is a common monetary lever that the government uses to remove money from the system, in that they receive payments from an investor up front when the investor buys the bond from the Fed, and then the Fed gradually return that cash back into the system over time. Sometimes it is due to uncertainty about the future. If investors at large believe that inflation is coming, then bonds become a less attractive investment, as the dollars received for future payments will be less valuable. This could lead to a selloff in the bond markets, because investors want to cash out their bonds and transfer that capital to something that will preserve their value under inflation. Here again an increase in supply of bonds for sale will lead to decreased prices and higher yields. At the end of the day it is really hard to predict exactly which direction bond markets will be moving, and more importantly WHY. If you figure it out, move to New York or Chicago or London and work as a trader in the bond markets. Youll make a killing, and if youd like I will be glad to drive your cars for you. 4. How does the availability of money supply for banks drive changes in other lending rates? When any investment organization forms, it builds its portfolio to try to deliver a set return at the lowest risk possible. As a corollary to that, it tries to deliver the maximum return possible for a given level of risk. When were talking about a bank, DumbCoders answer is dead on. Banks have various options to choose from, and a 10year Tbond is broadly seen as one of the least risky investments. Thus, it is a benchmark for other investments. 5. So now, why do mortgage rates tend to increase when the published treasury bond yield rate increases? The traditional, residential 30year mortgage is VERY similar to a bond investment. There is a longterm investment horizon, with fixed cash payments over the term of the note. But the principal is returned incrementally during the life of the loan. So, since mortgages are more risky than the 10year treasury bond, they will carry a certain premium that is tied to how much more risky an individual is as a borrower than the US government. And here it is no one actually directly changes the interest rate on 10year treasuries. Not even the Fed. The Fed sets a price constraint that it will sell bonds at during its periodic auctions. Buyers bid for those, and the resulting prices imply the yield rate. If the yield rate for current 10year bonds increases, then banks take it as a sign that everyone in the investment community sees some sign of increased risk in the future. This might be from inflation. This might be from uncertain economic performance. But whatever it is, they operate with some rule of thumb that their 30year mortgage rate for excellent credit borrowers will be the 10year plus 1.5 or something. And they publish their rates."
        ],
        [
         "34",
         "What should I do with 4,000 cash and High Interest Debt?",
         "I like the answers others gave, if its some substantial debt you definitely could go the bankruptcy route but it damages your future, also its morally unethical to borrow all that money and not intend to pay. Second, if you can pay off the entire balance and clear out the 23 interest than Id do that first. One less bill to concern yourself with. Now lets say youve been making 100 payments monthly on each card my assumption for this examples sale now instead of paying 100 to the remaining cards balance each month and saving the other 100, pay 200 against the remaining credit cards balance. By not taking home any money this way you are tackling the liability that is costing you money every month. Unless you have a great investment opportunity on that remaining 1000 or havent created much of an emergency fund yet, Id consider putting more of that money towards the debt. Gaining 0.01 on savings interest still means youre eating 25.99 in debt monthly. If youre able to Id venture out to open a zero interest card and do a balance transfer over to that new card, there will be a minimal transfer fee but you may get some cash back out of it and also that zero interest for a year would help hold off more interest accruing while youre tackling the balance."
        ],
        [
         "35",
         "Is a public company allowed to issue new shares below market price without consulting shareholders?",
         "Shares are partial ownership of the company. A company can issue not create more of the shares it owns at any time, to anyone, at any price  subject to antitrust and similar regulations. If they wanted to, for example, flatout give 10 of their retained interest to charity, they could do so. It shouldnt substantially affect the stocks trading for others unless theres a completely irrational demand for shares."
        ],
        [
         "36",
         "Why not pay in full upfront for a car?",
         "You need to do the maths exactly. The cost of buying a car in cash and using a loan is not the same. The dealership will often get paid a significant amount of money if you get a loan through them. On the other hand, they may have a hold over you if you need their loan no cash, and the bank wont give you money. One strategy is that while you discuss the price with the dealer, you indicate that you are going to get a loan through them. And then when youve got the best price for the car, thats when you tell them its cash. Remember that the car dealer will do whats best for their finances without any consideration of whats good for you, so you are perfectly in your rights to do the same to them."
        ],
        [
         "37",
         "What differentiates index funds and ETFs?",
         "I think that assuming that youre not looking to trade the fund, an index Mutual Fund is a better overall value than an ETF. The cost difference is negligible, and the ability to dollarcost average future contributions with no transaction costs. You also have to be careful with ETFs the spreads are wide on a lowvolume fund and some ETFs are going more exotic things that can burn a novice investor. Track two similar funds say Vanguard Total Stock Market VTSMX and Vanguard Total Stock Market ETF VTI, youll see that they track similarly. If you are a more sophisticated investor, ETFs give you the ability to use options to hedge against declines in value without having to incur capital gains from the sale of the fund. ie. 20 years from now, can use puts to make up for shortterm losses instead of selling shares to avoid losses For most retail investors, I think you really need to justify using ETFs versus mutual funds. If anything, the limitations of mutual funds no intraday trading, no options, etc discourage speculative behavior that is ultimately not in your best interest. EDIT Since this answer was written, many brokers have begun offering a suite of ETFs with no transaction fees. That may push the cost equation over to support Index ETFs over Index Mutual Funds, particularly if its a big ETF with narrow spreads.."
        ],
        [
         "38",
         "How to gift money anonymously to an individual after collection thru a donation site?",
         "You mention that \"A great friend and couples family\" which makes me think this is a couple. For gift tax concerns, you can give a couple 2 x the gift tax exemption 28,000 in 2015. Your example of 22k would fit in this amount. To give this money anonymously, I know that people have reached out to a pastor in the area who will deliver an envelope with the gift and not disclose the source. Talking to a pastor who has done this, he said the call came out of the blue and he was happy to be able to help."
        ],
        [
         "39",
         "What should a 21 year old do with 60,000 91,356 USD inheritance?",
         "Its important to consider your Investor Profile when deciding the right kind of vehicle for your finances. You are a young guy, with a considerable earned income and no dependents sorry, this was not clear from the question. This means that you are able to take a lot of risks that people who also have a family to think about, might not.  high risk tolerance You should definitely not put your money in a Wealth Management fund or Mutual Fund or any other handsoff vehicle. These typically have worse returns than the FTSE itself. Their popularity is due to an amazing marketing job and the fact that people in general want to believe there is an easy way to grow their money. Probably the best vehicle for your money is property, so the first thing you should do with the money is hire a competent accountant and solicitor."
        ],
        [
         "40",
         "Losing Money with Norberts Gambit",
         "Can someone please clarify if Norberts gambit is the optimal procedure to exchange CAD to USD? Im not sure Id call an arbitrage trade the \"optimal procedure,\" because as you point out youre introducing yet another point of risk in to the transaction. I think buying the foreign currency for an agreed upon price is the \"optimal procedure.\" If you must use this arbitrage trade, try with a government bond fund theyre typically very stable."
        ],
        [
         "41",
         "Why do VATregistered businesses in the EU charge VAT to each other?",
         "Not doing this would defeat the entire purpose of a VAT. The reason for a VAT rather than a simple sales tax is that its harder to evade. Having a simple sales tax with the type of rates that VAT taxes typically are is unworkable because evasion is too easy. Imagine Im a retailer. I buy products from a wholesaler and sell them to consumers. With a sales tax, if I dont charge the customer sales tax, the customer is happy and I dont care assuming I dont get caught. And if I keep the sales tax but dont report the sale, I make a lot of money. Now, imagine a VAT. If I dont charge the customer the VAT, I lose money since I paid the VAT on the wholesale products. And if I dont report the sale, how do I claim my VAT refund?"
        ],
        [
         "42",
         "Are cashiers required to check a credit card for a signature in the U.S.?",
         "So my wife was at work today and got yelled at by both a cop and her managers for simply LOOKING at the card. I dont understand I also work in retail and of course I must see the card to ensure it is a real card, it is a very strict policy that we must have a valid physical card to run any creditdebit transactions. People put skimmers everywhere you use your card and can pick up the info off the strip and put it onto another card and use it without you noticing right away. With the right equipment they can put their name on it or the name on their fake I.d. so the only red flag would be them trying to use several different cards"
        ],
        [
         "43",
         "A calculator that takes into account portfolio rebalancing?",
         "Quicken has tools for this, but they have some quirks so i hesitate to actually recommend it on that basis."
        ],
        [
         "44",
         "How Warren Buffett made his money",
         "Despite Buffetts nearly perfect consistent advice over the past few decades, they dont reflect his earliest days. His modern philosophy seemed to solidify in the 1970s. You can see that Buffetts earliest days grew faster, at 29.5  for those partners willing to take on leverage with Buffett, than the last half century, at 19.7. Not only is Buffett limited by size, as its quite difficult to squeeze one half trillion USD into subbillion USD investments, but the economy thus market is far different than it was before the 1980s. He would have to acquire at least 500 billion USD companies outright, and there simply arent that many available that satisfy all of his modern conditions. The market is much different now than it was when he first started at GrahamNewman because before the 1960s, the economy thus market would collapse and rebound about every few years. This sort of variance can actually help a value investor because a true value investor will abandon investments when valuations are high and go all in when valuations are low. The most extreme example was when he tried to as quietly as possible buy up an insurance company selling for something like a PE of 1 during one of the collapses. These kinds of opportunities are seldom available anymore, not even during the 2009 collapse. As he became larger, those investments became off limits because it simply wasnt worth his time to find such a high returner if its only a bare fraction of his wealth. Also, he started to deviate from Benjamin Grahams methods and started to incorporate Philip Fishers. By the 1970s, his investment philosophy was more or less cemented. He tried to balance Grahams avarice for price with Fishers for value. All of the commentary that special tax dodges or cheap financing are central to his returns are false. They contributed, but they are ancillary. As one can see by comparing the limited vs general partners, leverage helps enormously, but this is still a tangent. Buffett has undoubtedly built his wealth from the nature of his investments. The exact blueprint can be constructed by reading every word he has published and any quotes he has not disavowed. Simply, he buys the highest quality companies in terms of riskadjusted growth at the best available prices. Quantitatively, it is a simple strategy to replicate. NFLX was selling very cheaply during the mid2000s, WDC sells frequently at low valuations, up and coming retailers frequently sell at low valuations, etc. The key to Buffetts method is emotional control and removing the mental block that price equals value price is cost, value is revenue, and that concept is the hardest for most to imbibe. Quoting from the first link One sidelight here it is extraordinary to me that the idea of buying dollar bills for 40 cents takes immediately to people or it doesnt take at all. Its like an inoculation. If it doesnt grab a person right away, I find that you can talk to him for years and show him records, and it doesnt make any difference. They just dont seem able to grasp the concept, simple as it is. A fellow like Rick Guerin, who had no formal education in business, understands immediately the value approach to investing and hes applying it five minutes later. Ive never seen anyone who became a gradual convert over a tenyear period to this approach. It doesnt seem to be a matter of IQ or academic training. Its instant recognition, or it is nothing. and Im convinced that there is much inefficiency in the market. These GrahamandDoddsville investors have successfully exploited gaps between price and value. When the price of a stock can be influenced by a \"herd\" on Wall Street with prices set at the margin by the most emotional person, or the greediest person, or the most depressed person, it is hard to argue that the market always prices rationally. In fact, market prices are frequently nonsensical. and finally Success in investing doesnt correlate with I.Q. once youre above the level of 25. Once you have ordinary intelligence, what you need is the temperament to control the urges that get other people into trouble in investing. There is almost no information on any who has helped Buffett internally or even managed Berkshires investments aside from Louis Simpson. It is unlikely that Buffett has allowed anyone to manage much of Berkshires investments considering the consistent stream of commentary from him claiming that he nearly does nothing except read annual reports all day to the extent that he may have neglected his family to some degree and that listening to others will more likely hurt performance than help with the most striking example being his fathers recommendation that he not open a hedge fund after retiring from GrahamNewman because he believed the market was topping, and he absolutely idolized his father."
        ],
        [
         "45",
         "Trouble sticking to a budget when using credit cards for day to day transactions?",
         "I am like you with not acknowledging balances in my accounts, so I pay my credit card early and often. Much more than once a month. With my banks bill pay, I can send money to the credit card for free and at any time. I pay it every two weeks when I get paid, and I will put other extra payments on there if I bought a large item. It helps me keep my balances based in reality in Quicken. For example, I saved the cash for my trip, put the trip on my credit card, then paid it all off the day after I got home. I used the card because I didnt want to carry the cash, I wanted the rewards cash back, I wanted the automatic protection on the car rental, and I couldnt pay for a hotel with cash. There are many good reasons to use credit cards, but only if you can avoid carrying a balance."
        ],
        [
         "46",
         "Can I make my savings keep in check with or beat inflation over a long time period via index funds?",
         "If I invest in index funds or other long term stocks that pay dividend which I reinvest, they dont need to be worth more per share for me to make a profit, right? That is, if I sell part of the stocks, its GOOD if theyre worth more than I bought them at, but the real money comes from the QUANTITY of stocks that you get by reinvesting your dividends, right? I would say it is more the other way around. It is nice to get dividends and reinvest them, but overall the main gain comes from the stocks going up in value. The idea with index funds, however, is that you dont rely on any particular stock going up in value instead you just rely on the aggregate of all the funds in the index going up. By buying lots of stocks bundled in an index fund, you avoid being too reliant on any one companys performance. Can I invest \"small amounts\" part of paycheck into index funds on a monthly basis, like 500, without taking major \"transaction fees\"? Likely to be index fund specific... general answers or specific answers using popular stocks welcomed. Yes, you can. At least in the US, whether you can do this automatically from your paycheck depends on whether you employer has that set up. I dont know that work in the Netherlands. However, at the least, you can almost certainly set up an autoinvest program that takes X out of your bank account every month and buys shares of some index funds. Is this plan marketcrash proof? My parents keep saying that \"Look at 2008 and think about what such a thing would do to your plan\", and I just see that it will be a setback, but ultimately irrelevant, unless it happens when I need the money. And even then Im wondering whether Ill really need ALL of my money in one go. Doesnt the index fund go back up eventually? Does a crash even matter if you plan on holding stocks for 10 or more years? Crashes always matter, because as you say, theres always the possibility that the crash will occur at a time you need the money. In general, it is historically true that the market recovers after crashes, so yes, if you have the financial and psychological fortitude to not pull your money out during the crash, and to ride it out, your net worth will probably go back up after a rough interlude. No one can predict the future, so its possible for some unprecedented crisis to cause an unprecedented crash. However, the interconnectedness of stock markets and financial systems around the world is now so great that, were such a noreturn crash to occur, it would probably be accompanied by the total collapse of the whole economic system. In other words, if the stock market dies suddenly once and for all, the entire way of life of \"developed countries\" will probably die with it. As long as you live in such a society, you cant really avoid \"gambling\" that it will continue to exist, so gambling on there not being a cataclysmic market crash isnt much more of a gamble. Does what Im planning have similarities with some financial concept or product to allow me to research better by looking at the risks of that conceptproduct? Maybe like a mortgage investment plan without the bank eating your money in between? Im not sure what you mean by \"what youre planning\". The main financial products relevant to what youre describing are index funds which you already mentioned and index ETFs which are basically similar with regard to the questions youre asking here. As far as concepts, the philosophy of buying lowfee index funds, holding them for a long time, and not selling during crashes, is essentially that espoused by Jack Bogle not quite the inventor of the index fund, but more or less its spiritual father and the community of \"Bogleheads\" that has formed around his ideas. There is a Bogleheads wiki with lots of information about the details of this approach to investing. If this strategy appeals to you, you may find it useful to read through some of the pages on that site."
        ],
        [
         "47",
         "That write your own mortgage thing how to learn about it",
         "It sounds like you are describing \"sellerfinanced\" mortgages also sometimes called \"selffinanced\", where \"self\" is the seller. In essence the buyer and seller enter into a legal contract a promissory note that specifies the payment schedule, interest rate, etc. The nature of the agreement is similar to the kind of mortgage agreement youd get from the bank, but no bank is involved its just an agreeement directly between the buyer and seller. If you search for \"sellerfinanced mortgage\" or \"selffinanced mortgage\" you can find a good deal more info about this kind of arrangement. Here is a useful article from Investopedia, here is one from Forbes, and here is one from Nolo. Broadly speaking, the advantages and disadvantages of seller financing are two sides of the same coin by doing the agreement yourself without bank involvement, you can cut out procedural red tape, delays, and requirements that a bank might insist on  but in so doing you may expose yourself to risks that those procedures are designed to shield you from. Most obviously, as the seller, you receive only the down payment up front not the entire purchase price, as you would if the buyer got a bank loan, and if the buyer doesnt follow through on the agreement, youre on your own as far as starting foreclosure, etc. You can read up on some of the linked pages for more details about the pros and cons. In general, as those pages note, sellerfinanced mortgages are relatively rare. A home is a big purchase, and if you dont know what youre doing its easy to screw up in a way that could cost you a large amount of money if things go wrong."
        ],
        [
         "48",
         "I have a 2008 HHR under finance it needs a new engine",
         "Im leaning more towards trading it in can anyone give me some pointers on how to get the best deal? Information is key to getting the best deal possible. That is why I would strongly suggest getting a second opinion on the repairs. A misfire could be caused by many things. From cheap bad spark plugs or cables to midrange cost timing is off to expensive not getting proper compression in the cylinders due to mechanical issues that could require an engine rebuild. Also, car diagnostics is not an exact science, so it is definitely worth checking with another mechanic. You trust the first place you took it too, which is great. You taking it to another place does not represent a lack of trust, it represents knowing that humans are fallible and car repair diagnostics are not perfect either. Once you have quotes from 2 or 3 places for the repair work, you are in a much better position to negotiate. The next step is to see how much it will cost to replace the thing. Get actual quotes for tradein from dealers, and you must disclose the engine troubles to them when getting this quote. 8,000 minus this amount is how much you are under water. Add that to the price of the car you would like to purchase to know how much of a loan you will have to take out minus any downpayment. The next thing to consider is how you manage your risk from there. Your new car will be underwater too. Can you even get a loan? Will you need additional collateral or gap insurance to get the loan? What happens if you get in an accident the next day and total this car? Once you have all of this information, you are ready to really start thinking about the decision to be made. Things to consider How reliable has the HHR been up to now? You dont want to put 3,500 into it now only to have to spend a few grand more in a month to replace the transmission. It is hard for us to know this as we dont know how long you have had it, what troubles you have had in the past, how well you have taken care of it regular oil changes and maintenance. Keshlam is right about asking mechanics to check for other problems and scheduled maintenance that has not been done e.g., timing belts replaced. Once you have made your decision, remember that everything is negotiable if you are wiling to walk away. If you decide to keep the car, try to get a better deal on the repairs by checking out other repair shops. If you decide to buy another car and get rid of this one, both the sale price of the new car and the tradein price of the HHR are negotiable. Shop around and put in the work to buy something that will last a at a good price."
        ],
        [
         "49",
         "What is the correct way to report a tender offer fee on my taxes?",
         "Using a different cost basis than your brokers reporting is NOT a problem. You need to keep your own records to account for this difference. Among the other many legitimate reasons to adjust your cost basis, the most popular is when you have two brokerage accounts and sell an asset in one then buy in another. This is called a Wash Sale and is not a taxable event for you. However from the perspective of each broker with their limited information you are making a transaction with tax implications and their reported 1099 will show as such. Links httpswww.firstinvestors.comdocspdfnewstaxqa2012.pdf"
        ]
       ],
       "shape": {
        "columns": 2,
        "rows": 12047
       }
      },
      "text/html": [
       "<div>\n",
       "<style scoped>\n",
       "    .dataframe tbody tr th:only-of-type {\n",
       "        vertical-align: middle;\n",
       "    }\n",
       "\n",
       "    .dataframe tbody tr th {\n",
       "        vertical-align: top;\n",
       "    }\n",
       "\n",
       "    .dataframe thead th {\n",
       "        text-align: right;\n",
       "    }\n",
       "</style>\n",
       "<table border=\"1\" class=\"dataframe\">\n",
       "  <thead>\n",
       "    <tr style=\"text-align: right;\">\n",
       "      <th></th>\n",
       "      <th>question</th>\n",
       "      <th>answer</th>\n",
       "    </tr>\n",
       "  </thead>\n",
       "  <tbody>\n",
       "    <tr>\n",
       "      <th>0</th>\n",
       "      <td>Would I ever need credit card if my debit card...</td>\n",
       "      <td>Skimmers are most likely at gas station pumps....</td>\n",
       "    </tr>\n",
       "    <tr>\n",
       "      <th>1</th>\n",
       "      <td>Cheapest way to wire or withdraw money from US...</td>\n",
       "      <td>There is a number of cheaper online options th...</td>\n",
       "    </tr>\n",
       "    <tr>\n",
       "      <th>2</th>\n",
       "      <td>How do I go about finding an honest  ethical f...</td>\n",
       "      <td>Large and wellknown companies are typically a ...</td>\n",
       "    </tr>\n",
       "    <tr>\n",
       "      <th>3</th>\n",
       "      <td>Why invest in becoming a landlord?</td>\n",
       "      <td>why does it make sense financially to buy prop...</td>\n",
       "    </tr>\n",
       "    <tr>\n",
       "      <th>4</th>\n",
       "      <td>What could be the cause of a extreme highlow p...</td>\n",
       "      <td>Often these types of trades fall into two diff...</td>\n",
       "    </tr>\n",
       "    <tr>\n",
       "      <th>...</th>\n",
       "      <td>...</td>\n",
       "      <td>...</td>\n",
       "    </tr>\n",
       "    <tr>\n",
       "      <th>12042</th>\n",
       "      <td>What percent of my salary should I save?</td>\n",
       "      <td>I disagree with the selected answer. Theres no...</td>\n",
       "    </tr>\n",
       "    <tr>\n",
       "      <th>12043</th>\n",
       "      <td>Why do people invest in mutual fund rather tha...</td>\n",
       "      <td>How on earth can you possibly know what is goi...</td>\n",
       "    </tr>\n",
       "    <tr>\n",
       "      <th>12044</th>\n",
       "      <td>What would happen if the Euro currency went bust?</td>\n",
       "      <td>Each country would have to go back to its own ...</td>\n",
       "    </tr>\n",
       "    <tr>\n",
       "      <th>12045</th>\n",
       "      <td>Are credit cards not viewed as credit until yo...</td>\n",
       "      <td>Theres a difference between missing a payment ...</td>\n",
       "    </tr>\n",
       "    <tr>\n",
       "      <th>12046</th>\n",
       "      <td>Does the stock market create any sort of value?</td>\n",
       "      <td>When you own stock in a company, you do litera...</td>\n",
       "    </tr>\n",
       "  </tbody>\n",
       "</table>\n",
       "<p>12047 rows × 2 columns</p>\n",
       "</div>"
      ],
      "text/plain": [
       "                                                question  \\\n",
       "0      Would I ever need credit card if my debit card...   \n",
       "1      Cheapest way to wire or withdraw money from US...   \n",
       "2      How do I go about finding an honest  ethical f...   \n",
       "3                     Why invest in becoming a landlord?   \n",
       "4      What could be the cause of a extreme highlow p...   \n",
       "...                                                  ...   \n",
       "12042           What percent of my salary should I save?   \n",
       "12043  Why do people invest in mutual fund rather tha...   \n",
       "12044  What would happen if the Euro currency went bust?   \n",
       "12045  Are credit cards not viewed as credit until yo...   \n",
       "12046    Does the stock market create any sort of value?   \n",
       "\n",
       "                                                  answer  \n",
       "0      Skimmers are most likely at gas station pumps....  \n",
       "1      There is a number of cheaper online options th...  \n",
       "2      Large and wellknown companies are typically a ...  \n",
       "3      why does it make sense financially to buy prop...  \n",
       "4      Often these types of trades fall into two diff...  \n",
       "...                                                  ...  \n",
       "12042  I disagree with the selected answer. Theres no...  \n",
       "12043  How on earth can you possibly know what is goi...  \n",
       "12044  Each country would have to go back to its own ...  \n",
       "12045  Theres a difference between missing a payment ...  \n",
       "12046  When you own stock in a company, you do litera...  \n",
       "\n",
       "[12047 rows x 2 columns]"
      ]
     },
     "execution_count": 3,
     "metadata": {},
     "output_type": "execute_result"
    }
   ],
   "source": [
    "ttest = pd.read_csv('train_data.csv')\n",
    "\n",
    "ttest"
   ]
  },
  {
   "cell_type": "code",
   "execution_count": 4,
   "metadata": {},
   "outputs": [
    {
     "data": {
      "text/plain": [
       "question    0\n",
       "answer      0\n",
       "dtype: int64"
      ]
     },
     "execution_count": 4,
     "metadata": {},
     "output_type": "execute_result"
    }
   ],
   "source": [
    "ttest.isnull().sum()"
   ]
  },
  {
   "cell_type": "markdown",
   "metadata": {},
   "source": [
    "# tokenization"
   ]
  },
  {
   "cell_type": "code",
   "execution_count": 9,
   "metadata": {},
   "outputs": [
    {
     "name": "stderr",
     "output_type": "stream",
     "text": [
      "[nltk_data] Downloading package punkt to\n",
      "[nltk_data]     /Users/tshmacm1167/nltk_data...\n",
      "[nltk_data]   Package punkt is already up-to-date!\n",
      "[nltk_data] Downloading package stopwords to\n",
      "[nltk_data]     /Users/tshmacm1167/nltk_data...\n",
      "[nltk_data]   Package stopwords is already up-to-date!\n"
     ]
    },
    {
     "data": {
      "text/plain": [
       "True"
      ]
     },
     "execution_count": 9,
     "metadata": {},
     "output_type": "execute_result"
    }
   ],
   "source": [
    "from nltk.corpus import stopwords \n",
    "from nltk.tokenize import word_tokenize\n",
    "nltk.download('punkt')\n",
    "nltk.download('stopwords')"
   ]
  },
  {
   "cell_type": "code",
   "execution_count": 23,
   "metadata": {},
   "outputs": [
    {
     "name": "stderr",
     "output_type": "stream",
     "text": [
      "[nltk_data] Downloading package punkt to\n",
      "[nltk_data]     /Users/tshmacm1167/nltk_data...\n",
      "[nltk_data]   Package punkt is already up-to-date!\n"
     ]
    }
   ],
   "source": [
    "#nltk.download('punkt')\n",
    "#def preprocess_text(text):\n",
    "   # text = re.sub(r'[^a-zA-Z\\s]', '', text)\n",
    "   # text = text.lower()\n",
    "    #tokens = word_tokenize(text)\n",
    "    #stop_words = set(stopwords.words('english'))\n",
    "    #tokens = [word for word in tokens if word not in stop_words]\n",
    "    #return tokens\n"
   ]
  },
  {
   "cell_type": "code",
   "execution_count": 26,
   "metadata": {},
   "outputs": [],
   "source": [
    "def preprocess_text(text):\n",
    "    text = re.sub(r'[^a-zA-Z\\s]', '', text)\n",
    "    text = text.lower()\n",
    "    tokens = text.split()\n",
    "    stop_words = set([\n",
    "        'i', 'me', 'my', 'myself', 'we', 'our', 'ours', 'ourselves', 'you',\n",
    "        'your', 'yours', 'yourself', 'yourselves', 'he', 'him', 'his', 'himself',\n",
    "        'she', 'her', 'hers', 'herself', 'it', 'its', 'itself', 'they', 'them',\n",
    "        'their', 'theirs', 'themselves', 'what', 'which', 'who', 'whom', 'this',\n",
    "        'that', 'these', 'those', 'am', 'is', 'are', 'was', 'were', 'be', 'been',\n",
    "        'being', 'have', 'has', 'had', 'having', 'do', 'does', 'did', 'doing',\n",
    "        'a', 'an', 'the', 'and', 'but', 'if', 'or', 'because', 'as', 'until',\n",
    "        'while', 'of', 'at', 'by', 'for', 'with', 'about', 'against', 'between',\n",
    "        'into', 'through', 'during', 'before', 'after', 'above', 'below', 'to',\n",
    "        'from', 'up', 'down', 'in', 'out', 'on', 'off', 'over', 'under', 'again',\n",
    "        'further', 'then', 'once', 'here', 'there', 'when', 'where', 'why', 'how',\n",
    "        'all', 'any', 'both', 'each', 'few', 'more', 'most', 'other', 'some',\n",
    "        'such', 'no', 'nor', 'not', 'only', 'own', 'same', 'so', 'than', 'too',\n",
    "        'very', 'can', 'will', 'just', 'don', 'should', 'now'\n",
    "    ])\n",
    "    tokens = [word for word in tokens if word not in stop_words]\n",
    "    return tokens"
   ]
  },
  {
   "cell_type": "code",
   "execution_count": 27,
   "metadata": {},
   "outputs": [],
   "source": [
    "ttest['question_tokens'] = ttest['question'].apply(preprocess_text)\n",
    "ttest['answer_tokens'] = ttest['answer'].apply(preprocess_text)"
   ]
  },
  {
   "cell_type": "code",
   "execution_count": 29,
   "metadata": {},
   "outputs": [
    {
     "name": "stdout",
     "output_type": "stream",
     "text": [
      "Collecting tensorflow\n",
      "  Downloading tensorflow-2.19.0-cp312-cp312-macosx_12_0_arm64.whl.metadata (4.0 kB)\n",
      "Collecting absl-py>=1.0.0 (from tensorflow)\n",
      "  Downloading absl_py-2.2.2-py3-none-any.whl.metadata (2.6 kB)\n",
      "Collecting astunparse>=1.6.0 (from tensorflow)\n",
      "  Downloading astunparse-1.6.3-py2.py3-none-any.whl.metadata (4.4 kB)\n",
      "Collecting flatbuffers>=24.3.25 (from tensorflow)\n",
      "  Downloading flatbuffers-25.2.10-py2.py3-none-any.whl.metadata (875 bytes)\n",
      "Collecting gast!=0.5.0,!=0.5.1,!=0.5.2,>=0.2.1 (from tensorflow)\n",
      "  Downloading gast-0.6.0-py3-none-any.whl.metadata (1.3 kB)\n",
      "Collecting google-pasta>=0.1.1 (from tensorflow)\n",
      "  Downloading google_pasta-0.2.0-py3-none-any.whl.metadata (814 bytes)\n",
      "Collecting libclang>=13.0.0 (from tensorflow)\n",
      "  Downloading libclang-18.1.1-1-py2.py3-none-macosx_11_0_arm64.whl.metadata (5.2 kB)\n",
      "Collecting opt-einsum>=2.3.2 (from tensorflow)\n",
      "  Downloading opt_einsum-3.4.0-py3-none-any.whl.metadata (6.3 kB)\n",
      "Requirement already satisfied: packaging in /opt/anaconda3/lib/python3.12/site-packages (from tensorflow) (24.1)\n",
      "Requirement already satisfied: protobuf!=4.21.0,!=4.21.1,!=4.21.2,!=4.21.3,!=4.21.4,!=4.21.5,<6.0.0dev,>=3.20.3 in /opt/anaconda3/lib/python3.12/site-packages (from tensorflow) (4.25.3)\n",
      "Requirement already satisfied: requests<3,>=2.21.0 in /opt/anaconda3/lib/python3.12/site-packages (from tensorflow) (2.32.3)\n",
      "Requirement already satisfied: setuptools in /opt/anaconda3/lib/python3.12/site-packages (from tensorflow) (75.1.0)\n",
      "Requirement already satisfied: six>=1.12.0 in /opt/anaconda3/lib/python3.12/site-packages (from tensorflow) (1.16.0)\n",
      "Collecting termcolor>=1.1.0 (from tensorflow)\n",
      "  Downloading termcolor-3.0.1-py3-none-any.whl.metadata (6.1 kB)\n",
      "Requirement already satisfied: typing-extensions>=3.6.6 in /opt/anaconda3/lib/python3.12/site-packages (from tensorflow) (4.11.0)\n",
      "Requirement already satisfied: wrapt>=1.11.0 in /opt/anaconda3/lib/python3.12/site-packages (from tensorflow) (1.14.1)\n",
      "Collecting grpcio<2.0,>=1.24.3 (from tensorflow)\n",
      "  Downloading grpcio-1.71.0-cp312-cp312-macosx_10_14_universal2.whl.metadata (3.8 kB)\n",
      "Collecting tensorboard~=2.19.0 (from tensorflow)\n",
      "  Downloading tensorboard-2.19.0-py3-none-any.whl.metadata (1.8 kB)\n",
      "Collecting keras>=3.5.0 (from tensorflow)\n",
      "  Downloading keras-3.9.2-py3-none-any.whl.metadata (6.1 kB)\n",
      "Requirement already satisfied: numpy<2.2.0,>=1.26.0 in /opt/anaconda3/lib/python3.12/site-packages (from tensorflow) (1.26.4)\n",
      "Requirement already satisfied: h5py>=3.11.0 in /opt/anaconda3/lib/python3.12/site-packages (from tensorflow) (3.11.0)\n",
      "Collecting ml-dtypes<1.0.0,>=0.5.1 (from tensorflow)\n",
      "  Downloading ml_dtypes-0.5.1-cp312-cp312-macosx_10_9_universal2.whl.metadata (21 kB)\n",
      "Requirement already satisfied: wheel<1.0,>=0.23.0 in /opt/anaconda3/lib/python3.12/site-packages (from astunparse>=1.6.0->tensorflow) (0.44.0)\n",
      "Requirement already satisfied: rich in /opt/anaconda3/lib/python3.12/site-packages (from keras>=3.5.0->tensorflow) (13.7.1)\n",
      "Collecting namex (from keras>=3.5.0->tensorflow)\n",
      "  Downloading namex-0.0.8-py3-none-any.whl.metadata (246 bytes)\n",
      "Collecting optree (from keras>=3.5.0->tensorflow)\n",
      "  Downloading optree-0.15.0-cp312-cp312-macosx_11_0_arm64.whl.metadata (48 kB)\n",
      "Requirement already satisfied: charset-normalizer<4,>=2 in /opt/anaconda3/lib/python3.12/site-packages (from requests<3,>=2.21.0->tensorflow) (3.3.2)\n",
      "Requirement already satisfied: idna<4,>=2.5 in /opt/anaconda3/lib/python3.12/site-packages (from requests<3,>=2.21.0->tensorflow) (3.7)\n",
      "Requirement already satisfied: urllib3<3,>=1.21.1 in /opt/anaconda3/lib/python3.12/site-packages (from requests<3,>=2.21.0->tensorflow) (2.2.3)\n",
      "Requirement already satisfied: certifi>=2017.4.17 in /opt/anaconda3/lib/python3.12/site-packages (from requests<3,>=2.21.0->tensorflow) (2024.12.14)\n",
      "Requirement already satisfied: markdown>=2.6.8 in /opt/anaconda3/lib/python3.12/site-packages (from tensorboard~=2.19.0->tensorflow) (3.7)\n",
      "Collecting tensorboard-data-server<0.8.0,>=0.7.0 (from tensorboard~=2.19.0->tensorflow)\n",
      "  Downloading tensorboard_data_server-0.7.2-py3-none-any.whl.metadata (1.1 kB)\n",
      "Requirement already satisfied: werkzeug>=1.0.1 in /opt/anaconda3/lib/python3.12/site-packages (from tensorboard~=2.19.0->tensorflow) (3.0.3)\n",
      "Requirement already satisfied: MarkupSafe>=2.1.1 in /opt/anaconda3/lib/python3.12/site-packages (from werkzeug>=1.0.1->tensorboard~=2.19.0->tensorflow) (2.1.3)\n",
      "Requirement already satisfied: markdown-it-py>=2.2.0 in /opt/anaconda3/lib/python3.12/site-packages (from rich->keras>=3.5.0->tensorflow) (2.2.0)\n",
      "Requirement already satisfied: pygments<3.0.0,>=2.13.0 in /opt/anaconda3/lib/python3.12/site-packages (from rich->keras>=3.5.0->tensorflow) (2.15.1)\n",
      "Requirement already satisfied: mdurl~=0.1 in /opt/anaconda3/lib/python3.12/site-packages (from markdown-it-py>=2.2.0->rich->keras>=3.5.0->tensorflow) (0.1.0)\n",
      "Downloading tensorflow-2.19.0-cp312-cp312-macosx_12_0_arm64.whl (252.7 MB)\n",
      "\u001b[2K   \u001b[90m━━━━━━━━━━━━━━━━━━━━━━━━━━━━━━━━━━━━━━━\u001b[0m \u001b[32m252.7/252.7 MB\u001b[0m \u001b[31m702.2 kB/s\u001b[0m eta \u001b[36m0:00:00\u001b[0m00:01\u001b[0m00:09\u001b[0m\n",
      "\u001b[?25hDownloading absl_py-2.2.2-py3-none-any.whl (135 kB)\n",
      "Downloading astunparse-1.6.3-py2.py3-none-any.whl (12 kB)\n",
      "Downloading flatbuffers-25.2.10-py2.py3-none-any.whl (30 kB)\n",
      "Downloading gast-0.6.0-py3-none-any.whl (21 kB)\n",
      "Downloading google_pasta-0.2.0-py3-none-any.whl (57 kB)\n",
      "Downloading grpcio-1.71.0-cp312-cp312-macosx_10_14_universal2.whl (11.3 MB)\n",
      "\u001b[2K   \u001b[90m━━━━━━━━━━━━━━━━━━━━━━━━━━━━━━━━━━━━━━━━\u001b[0m \u001b[32m11.3/11.3 MB\u001b[0m \u001b[31m851.4 kB/s\u001b[0m eta \u001b[36m0:00:00\u001b[0m00:01\u001b[0m00:01\u001b[0m\n",
      "\u001b[?25hDownloading keras-3.9.2-py3-none-any.whl (1.3 MB)\n",
      "\u001b[2K   \u001b[90m━━━━━━━━━━━━━━━━━━━━━━━━━━━━━━━━━━━━━━━━\u001b[0m \u001b[32m1.3/1.3 MB\u001b[0m \u001b[31m633.7 kB/s\u001b[0m eta \u001b[36m0:00:00\u001b[0ma \u001b[36m0:00:01\u001b[0m\n",
      "\u001b[?25hDownloading libclang-18.1.1-1-py2.py3-none-macosx_11_0_arm64.whl (25.8 MB)\n",
      "\u001b[2K   \u001b[90m━━━━━━━━━━━━━━━━━━━━━━━━━━━━━━━━━━━━━━━━\u001b[0m \u001b[32m25.8/25.8 MB\u001b[0m \u001b[31m788.7 kB/s\u001b[0m eta \u001b[36m0:00:00\u001b[0m00:01\u001b[0m00:01\u001b[0m\n",
      "\u001b[?25hDownloading ml_dtypes-0.5.1-cp312-cp312-macosx_10_9_universal2.whl (670 kB)\n",
      "\u001b[2K   \u001b[90m━━━━━━━━━━━━━━━━━━━━━━━━━━━━━━━━━━━━━━━\u001b[0m \u001b[32m670.4/670.4 kB\u001b[0m \u001b[31m918.9 kB/s\u001b[0m eta \u001b[36m0:00:00\u001b[0ma \u001b[36m0:00:01\u001b[0m\n",
      "\u001b[?25hDownloading opt_einsum-3.4.0-py3-none-any.whl (71 kB)\n",
      "Downloading tensorboard-2.19.0-py3-none-any.whl (5.5 MB)\n",
      "\u001b[2K   \u001b[90m━━━━━━━━━━━━━━━━━━━━━━━━━━━━━━━━━━━━━━━━\u001b[0m \u001b[32m5.5/5.5 MB\u001b[0m \u001b[31m954.2 kB/s\u001b[0m eta \u001b[36m0:00:00\u001b[0ma \u001b[36m0:00:01\u001b[0m\n",
      "\u001b[?25hDownloading termcolor-3.0.1-py3-none-any.whl (7.2 kB)\n",
      "Downloading tensorboard_data_server-0.7.2-py3-none-any.whl (2.4 kB)\n",
      "Downloading namex-0.0.8-py3-none-any.whl (5.8 kB)\n",
      "Downloading optree-0.15.0-cp312-cp312-macosx_11_0_arm64.whl (342 kB)\n",
      "Installing collected packages: namex, libclang, flatbuffers, termcolor, tensorboard-data-server, optree, opt-einsum, ml-dtypes, grpcio, google-pasta, gast, astunparse, absl-py, tensorboard, keras, tensorflow\n",
      "Successfully installed absl-py-2.2.2 astunparse-1.6.3 flatbuffers-25.2.10 gast-0.6.0 google-pasta-0.2.0 grpcio-1.71.0 keras-3.9.2 libclang-18.1.1 ml-dtypes-0.5.1 namex-0.0.8 opt-einsum-3.4.0 optree-0.15.0 tensorboard-2.19.0 tensorboard-data-server-0.7.2 tensorflow-2.19.0 termcolor-3.0.1\n",
      "Note: you may need to restart the kernel to use updated packages.\n"
     ]
    }
   ],
   "source": [
    "pip install tensorflow"
   ]
  },
  {
   "cell_type": "code",
   "execution_count": 30,
   "metadata": {},
   "outputs": [],
   "source": [
    "from tensorflow.keras.preprocessing.text import Tokenizer\n",
    "from tensorflow.keras.preprocessing.sequence import pad_sequences\n",
    "\n",
    "questions = ttest['question'].astype(str).tolist()\n",
    "answers = ttest['answer'].astype(str).tolist()\n",
    "\n",
    "tokenizer = Tokenizer(oov_token='<OOV>')\n",
    "tokenizer.fit_on_texts(questions + answers)\n",
    "\n",
    "question_sequences = tokenizer.texts_to_sequences(questions)\n",
    "answer_sequences = tokenizer.texts_to_sequences(answers)\n",
    "\n",
    "max_len_q = max(len(seq) for seq in question_sequences)\n",
    "max_len_a = max(len(seq) for seq in answer_sequences)\n",
    "\n",
    "padded_questions = pad_sequences(question_sequences, maxlen=max_len_q, padding='post')\n",
    "padded_answers = pad_sequences(answer_sequences, maxlen=max_len_a, padding='post')"
   ]
  }
 ],
 "metadata": {
  "kernelspec": {
   "display_name": "base",
   "language": "python",
   "name": "python3"
  },
  "language_info": {
   "codemirror_mode": {
    "name": "ipython",
    "version": 3
   },
   "file_extension": ".py",
   "mimetype": "text/x-python",
   "name": "python",
   "nbconvert_exporter": "python",
   "pygments_lexer": "ipython3",
   "version": "3.12.7"
  }
 },
 "nbformat": 4,
 "nbformat_minor": 2
}
