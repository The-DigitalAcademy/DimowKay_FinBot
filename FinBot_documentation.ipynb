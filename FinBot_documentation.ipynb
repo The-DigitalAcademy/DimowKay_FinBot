{
 "cells": [
  {
   "cell_type": "markdown",
   "metadata": {},
   "source": [
    "1.Problem Statement\n",
    "\n",
    "Financial literacy remains a significant barrier to economic participation, especially in underserved communities. People struggle to find credible, plain‑English answers on budgeting, saving, credit, and investing. Existing resources are scattered, jargon‑heavy, or assume prior knowledge. Traditional tools also lack interactivity and personalisation.\n",
    "\n",
    "Goal:our goal is to provide a conversational, always‑on chatbot that delivers concise, understandable finance guidance tailored to each user’s question.\n",
    "\n",
    "2.Solution Overview\n",
    "\n",
    "We build a lightweight RAG pipeline:\n",
    "\n",
    "Data ➜ embeddings ➜ Chroma: convert a curated FAQ CSV into vector embeddings using Ollama Embeddings (the same model used for generation—keeps embedding space aligned).\n",
    "\n",
    "Retriever → LLM: grab the most relevant chunks and feed them, with a chat prompt template, into Llama 3 1‑B‑Instruct running locally via Ollama.\n",
    "\n",
    "Domain filter: a second quick LLM call checks if the answer is finance‑related. If not, we politely refuse.\n",
    "\n",
    "Streamlit UI: front‑end chat interface.\n",
    "\n",
    "A diagram is provided in Appendix A."
   ]
  }
 ],
 "metadata": {
  "language_info": {
   "name": "python"
  }
 },
 "nbformat": 4,
 "nbformat_minor": 2
}
