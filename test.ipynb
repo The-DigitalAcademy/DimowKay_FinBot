{
 "cells": [
  {
   "cell_type": "code",
<<<<<<< HEAD
   "execution_count": 1,
=======
   "execution_count": 40,
>>>>>>> main
   "metadata": {},
   "outputs": [],
   "source": [
    "import pandas as pd"
   ]
  },
  {
   "cell_type": "code",
<<<<<<< HEAD
   "execution_count": 2,
   "metadata": {},
   "outputs": [],
   "source": [
    "test = pd.read_csv('train_data.csv')"
   ]
  },
  {
   "cell_type": "code",
   "execution_count": 3,
=======
   "execution_count": 41,
>>>>>>> main
   "metadata": {},
   "outputs": [
    {
     "data": {
      "text/html": [
       "<div>\n",
       "<style scoped>\n",
       "    .dataframe tbody tr th:only-of-type {\n",
       "        vertical-align: middle;\n",
       "    }\n",
       "\n",
       "    .dataframe tbody tr th {\n",
       "        vertical-align: top;\n",
       "    }\n",
       "\n",
       "    .dataframe thead th {\n",
       "        text-align: right;\n",
       "    }\n",
       "</style>\n",
       "<table border=\"1\" class=\"dataframe\">\n",
       "  <thead>\n",
       "    <tr style=\"text-align: right;\">\n",
       "      <th></th>\n",
       "      <th>question</th>\n",
       "      <th>answer</th>\n",
       "    </tr>\n",
       "  </thead>\n",
       "  <tbody>\n",
       "    <tr>\n",
       "      <th>0</th>\n",
       "      <td>Would I ever need credit card if my debit card...</td>\n",
       "      <td>Skimmers are most likely at gas station pumps....</td>\n",
       "    </tr>\n",
       "    <tr>\n",
       "      <th>1</th>\n",
       "      <td>Cheapest way to wire or withdraw money from US...</td>\n",
       "      <td>There is a number of cheaper online options th...</td>\n",
       "    </tr>\n",
       "    <tr>\n",
       "      <th>2</th>\n",
       "      <td>How do I go about finding an honest  ethical f...</td>\n",
       "      <td>Large and wellknown companies are typically a ...</td>\n",
       "    </tr>\n",
       "    <tr>\n",
       "      <th>3</th>\n",
       "      <td>Why invest in becoming a landlord?</td>\n",
       "      <td>why does it make sense financially to buy prop...</td>\n",
       "    </tr>\n",
       "    <tr>\n",
       "      <th>4</th>\n",
       "      <td>What could be the cause of a extreme highlow p...</td>\n",
       "      <td>Often these types of trades fall into two diff...</td>\n",
       "    </tr>\n",
       "    <tr>\n",
       "      <th>...</th>\n",
       "      <td>...</td>\n",
       "      <td>...</td>\n",
       "    </tr>\n",
       "    <tr>\n",
       "      <th>12042</th>\n",
       "      <td>What percent of my salary should I save?</td>\n",
       "      <td>I disagree with the selected answer. Theres no...</td>\n",
       "    </tr>\n",
       "    <tr>\n",
       "      <th>12043</th>\n",
       "      <td>Why do people invest in mutual fund rather tha...</td>\n",
       "      <td>How on earth can you possibly know what is goi...</td>\n",
       "    </tr>\n",
       "    <tr>\n",
       "      <th>12044</th>\n",
       "      <td>What would happen if the Euro currency went bust?</td>\n",
       "      <td>Each country would have to go back to its own ...</td>\n",
       "    </tr>\n",
       "    <tr>\n",
       "      <th>12045</th>\n",
       "      <td>Are credit cards not viewed as credit until yo...</td>\n",
       "      <td>Theres a difference between missing a payment ...</td>\n",
       "    </tr>\n",
       "    <tr>\n",
       "      <th>12046</th>\n",
       "      <td>Does the stock market create any sort of value?</td>\n",
       "      <td>When you own stock in a company, you do litera...</td>\n",
       "    </tr>\n",
       "  </tbody>\n",
       "</table>\n",
       "<p>12047 rows × 2 columns</p>\n",
       "</div>"
      ],
      "text/plain": [
       "                                                question  \\\n",
       "0      Would I ever need credit card if my debit card...   \n",
       "1      Cheapest way to wire or withdraw money from US...   \n",
       "2      How do I go about finding an honest  ethical f...   \n",
       "3                     Why invest in becoming a landlord?   \n",
       "4      What could be the cause of a extreme highlow p...   \n",
       "...                                                  ...   \n",
       "12042           What percent of my salary should I save?   \n",
       "12043  Why do people invest in mutual fund rather tha...   \n",
       "12044  What would happen if the Euro currency went bust?   \n",
       "12045  Are credit cards not viewed as credit until yo...   \n",
       "12046    Does the stock market create any sort of value?   \n",
       "\n",
       "                                                  answer  \n",
       "0      Skimmers are most likely at gas station pumps....  \n",
       "1      There is a number of cheaper online options th...  \n",
       "2      Large and wellknown companies are typically a ...  \n",
       "3      why does it make sense financially to buy prop...  \n",
       "4      Often these types of trades fall into two diff...  \n",
       "...                                                  ...  \n",
       "12042  I disagree with the selected answer. Theres no...  \n",
       "12043  How on earth can you possibly know what is goi...  \n",
       "12044  Each country would have to go back to its own ...  \n",
       "12045  Theres a difference between missing a payment ...  \n",
       "12046  When you own stock in a company, you do litera...  \n",
       "\n",
       "[12047 rows x 2 columns]"
      ]
     },
<<<<<<< HEAD
     "execution_count": 3,
=======
     "execution_count": 41,
>>>>>>> main
     "metadata": {},
     "output_type": "execute_result"
    }
   ],
   "source": [
    "df = pd.read_csv('train_data.csv')\n",
    "df"
   ]
  },
  {
   "cell_type": "markdown",
   "metadata": {},
   "source": [
    "# Preprocessing\n",
    "clean the text by removing extra spaces, special characters, and unwanted symbols.\n"
   ]
  },
  {
   "cell_type": "code",
<<<<<<< HEAD
   "execution_count": 4,
   "metadata": {},
   "outputs": [
    {
     "data": {
      "text/plain": [
       "0        Would I ever need credit card if my debit card...\n",
       "1        Cheapest way to wire or withdraw money from US...\n",
       "2        How do I go about finding an honest  ethical f...\n",
       "3                       Why invest in becoming a landlord?\n",
       "4        What could be the cause of a extreme highlow p...\n",
       "                               ...                        \n",
       "12042             What percent of my salary should I save?\n",
       "12043    Why do people invest in mutual fund rather tha...\n",
       "12044    What would happen if the Euro currency went bust?\n",
       "12045    Are credit cards not viewed as credit until yo...\n",
       "12046      Does the stock market create any sort of value?\n",
       "Name: question, Length: 12047, dtype: object"
      ]
     },
     "execution_count": 4,
     "metadata": {},
     "output_type": "execute_result"
=======
   "execution_count": 42,
   "metadata": {},
   "outputs": [],
   "source": [
    "import re"
   ]
  },
  {
   "cell_type": "markdown",
   "metadata": {},
   "source": [
    "Here I defined a function called data cleaning.\n",
    "The function will do the following:\n",
    "1. remove punctuations but keep things like currency, numbers, and percentages. Please keep in mind that the finBOT may make use of these hence we're keeping them.\n",
    "\n",
    "2. The function will convert all text to lower case and get rid of whitespaces from the start and the end of the string for consistency.\n",
    "\n",
    "\n",
    "Example: \" Tokenization sucks \" => \"tokenization sucks\""
   ]
  },
  {
   "cell_type": "code",
   "execution_count": 43,
   "metadata": {},
   "outputs": [],
   "source": [
    "def data_cleaning(text):\n",
    "    text = re.sub(r'[^\\w\\s.$%€£0-9]', '', text)\n",
    "    text =  text.lower().strip()\n",
    "    return text"
   ]
  },
  {
   "cell_type": "code",
   "execution_count": 44,
   "metadata": {},
   "outputs": [],
   "source": [
    "df['question'] = df['question'].apply(data_cleaning)\n",
    "df['answer'] = df['answer'].apply(data_cleaning)"
   ]
  },
  {
   "cell_type": "markdown",
   "metadata": {},
   "source": [
    "# Tokenization\n",
    "\n",
    "1. Word level tokenization\n",
    "2. Lemmatization\n",
    "3. Subword Tokenization\n",
    "4. Sentence Tokenization"
   ]
  },
  {
   "cell_type": "markdown",
   "metadata": {},
   "source": [
    "# 1. Word level Tokenization\n",
    "\n",
    "Here we are just splitting text into individual words.\n",
    "\n",
    "Example: \"interest rate increases\" => [\"interest\", \"rate\", \"increases\"]"
   ]
  },
  {
   "cell_type": "code",
   "execution_count": 45,
   "metadata": {},
   "outputs": [
    {
     "name": "stderr",
     "output_type": "stream",
     "text": [
      "[nltk_data] Downloading package punkt_tab to\n",
      "[nltk_data]     /Users/tshmacm1171/nltk_data...\n",
      "[nltk_data]   Package punkt_tab is already up-to-date!\n"
     ]
    },
    {
     "name": "stdout",
     "output_type": "stream",
     "text": [
      "                                            question  \\\n",
      "0  would i ever need credit card if my debit card...   \n",
      "1  cheapest way to wire or withdraw money from us...   \n",
      "2  how do i go about finding an honest  ethical f...   \n",
      "3                  why invest in becoming a landlord   \n",
      "4  what could be the cause of a extreme highlow p...   \n",
      "\n",
      "                                 word_token_question  \n",
      "0  [would, i, ever, need, credit, card, if, my, d...  \n",
      "1  [cheapest, way, to, wire, or, withdraw, money,...  \n",
      "2  [how, do, i, go, about, finding, an, honest, e...  \n",
      "3           [why, invest, in, becoming, a, landlord]  \n",
      "4  [what, could, be, the, cause, of, a, extreme, ...  \n",
      "                                              answer  \\\n",
      "0  skimmers are most likely at gas station pumps....   \n",
      "1  there is a number of cheaper online options th...   \n",
      "2  large and wellknown companies are typically a ...   \n",
      "3  why does it make sense financially to buy prop...   \n",
      "4  often these types of trades fall into two diff...   \n",
      "\n",
      "                                   word_token_answer  \n",
      "0  [skimmers, are, most, likely, at, gas, station...  \n",
      "1  [there, is, a, number, of, cheaper, online, op...  \n",
      "2  [large, and, wellknown, companies, are, typica...  \n",
      "3  [why, does, it, make, sense, financially, to, ...  \n",
      "4  [often, these, types, of, trades, fall, into, ...  \n"
     ]
>>>>>>> main
    }
   ],
   "source": [
    "from nltk.tokenize import word_tokenize\n",
    "import nltk\n",
    "\n",
    "nltk.download(\"punkt_tab\")\n",
    "\n",
    "df[\"word_token_question\"] = df[\"question\"].apply(word_tokenize)\n",
    "df[\"word_token_answer\"] = df[\"answer\"].apply(word_tokenize)\n",
    "\n",
    "print(df[[\"question\", \"word_token_question\"]].head())\n",
    "print(df[[\"answer\", \"word_token_answer\"]].head())\n"
   ]
  },
  {
   "cell_type": "markdown",
   "metadata": {},
   "source": [
    "# 2. Lemmatization\n",
    "takes words to their root word\n",
    "\n",
    "Example: \"Motsekuwa\" => \"Mo\"\n",
    "\n",
    "Note: run this line of code first: pip install spacy"
   ]
  },
  {
   "cell_type": "code",
<<<<<<< HEAD
   "execution_count": 5,
   "metadata": {},
   "outputs": [
    {
     "data": {
      "text/plain": [
       "0        Skimmers are most likely at gas station pumps....\n",
       "1        There is a number of cheaper online options th...\n",
       "2        Large and wellknown companies are typically a ...\n",
       "3        why does it make sense financially to buy prop...\n",
       "4        Often these types of trades fall into two diff...\n",
       "                               ...                        \n",
       "12042    I disagree with the selected answer. Theres no...\n",
       "12043    How on earth can you possibly know what is goi...\n",
       "12044    Each country would have to go back to its own ...\n",
       "12045    Theres a difference between missing a payment ...\n",
       "12046    When you own stock in a company, you do litera...\n",
       "Name: answer, Length: 12047, dtype: object"
      ]
     },
     "execution_count": 5,
     "metadata": {},
     "output_type": "execute_result"
=======
   "execution_count": 46,
   "metadata": {},
   "outputs": [
    {
     "name": "stderr",
     "output_type": "stream",
     "text": [
      "huggingface/tokenizers: The current process just got forked, after parallelism has already been used. Disabling parallelism to avoid deadlocks...\n",
      "To disable this warning, you can either:\n",
      "\t- Avoid using `tokenizers` before the fork if possible\n",
      "\t- Explicitly set the environment variable TOKENIZERS_PARALLELISM=(true | false)\n"
     ]
    },
    {
     "name": "stdout",
     "output_type": "stream",
     "text": [
      "Defaulting to user installation because normal site-packages is not writeable\n",
      "Collecting en-core-web-sm==3.8.0\n",
      "  Downloading https://github.com/explosion/spacy-models/releases/download/en_core_web_sm-3.8.0/en_core_web_sm-3.8.0-py3-none-any.whl (12.8 MB)\n",
      "\u001b[2K     \u001b[90m━━━━━━━━━━━━━━━━━━━━━━━━━━━━━━━━━━━━━━━\u001b[0m \u001b[32m12.8/12.8 MB\u001b[0m \u001b[31m974.8 kB/s\u001b[0m eta \u001b[36m0:00:00\u001b[0m00:01\u001b[0m00:01\u001b[0m\n",
      "\u001b[?25h\u001b[38;5;2m✔ Download and installation successful\u001b[0m\n",
      "You can now load the package via spacy.load('en_core_web_sm')\n",
      "\u001b[38;5;3m⚠ Restart to reload dependencies\u001b[0m\n",
      "If you are in a Jupyter or Colab notebook, you may need to restart Python in\n",
      "order to load all the package's dependencies. You can do this by selecting the\n",
      "'Restart kernel' or 'Restart runtime' option.\n",
      "                                            question  \\\n",
      "0  would i ever need credit card if my debit card...   \n",
      "1  cheapest way to wire or withdraw money from us...   \n",
      "2  how do i go about finding an honest  ethical f...   \n",
      "3                  why invest in becoming a landlord   \n",
      "4  what could be the cause of a extreme highlow p...   \n",
      "\n",
      "                           lemmatized_token_question  \n",
      "0  [would, I, ever, need, credit, card, if, my, d...  \n",
      "1  [cheap, way, to, wire, or, withdraw, money, fr...  \n",
      "2  [how, do, I, go, about, find, an, honest,  , e...  \n",
      "3             [why, invest, in, become, a, landlord]  \n",
      "4  [what, could, be, the, cause, of, a, extreme, ...  \n",
      "                                              answer  \\\n",
      "0  skimmers are most likely at gas station pumps....   \n",
      "1  there is a number of cheaper online options th...   \n",
      "2  large and wellknown companies are typically a ...   \n",
      "3  why does it make sense financially to buy prop...   \n",
      "4  often these types of trades fall into two diff...   \n",
      "\n",
      "                             lemmatized_token_answer  \n",
      "0  [skimmer, be, most, likely, at, gas, station, ...  \n",
      "1  [there, be, a, number, of, cheap, online, opti...  \n",
      "2  [large, and, wellknown, company, be, typically...  \n",
      "3  [why, do, it, make, sense, financially, to, bu...  \n",
      "4  [often, these, type, of, trade, fall, into, tw...  \n"
     ]
>>>>>>> main
    }
   ],
   "source": [
    "import spacy.cli\n",
    "spacy.cli.download(\"en_core_web_sm\")\n",
    "nlp = spacy.load(\"en_core_web_sm\")\n",
    "\n",
    "def lemmatize_text(text):\n",
    "    doc = nlp(text)\n",
    "    return [token.lemma_ for token in doc]\n",
    "\n",
    "df[\"lemmatized_token_question\"] = df[\"question\"].apply(lemmatize_text)\n",
    "df[\"lemmatized_token_answer\"] = df[\"answer\"].apply(lemmatize_text)\n",
    "print(df[[\"question\", \"lemmatized_token_question\"]].head())\n",
    "print(df[[\"answer\", \"lemmatized_token_answer\"]].head())\n"
   ]
  },
  {
   "cell_type": "markdown",
   "metadata": {},
   "source": [
    "# 3. Subword Tokenization\n",
    "it makes sure that complicated words and non \"dictionarized\" words are processed efficiently\n",
    "\n",
    "Example: finbotization => \"finbot\", \"ization\"\n",
    "\n",
    "Note: run this line of code first: pip install transformers. \n",
    "\n",
    "### \"Ġ\" appears before words that originally had a space before them to ensure correct spacing when reconstructing the sentence."
   ]
  },
  {
   "cell_type": "code",
<<<<<<< HEAD
   "execution_count": 10,
=======
   "execution_count": 47,
   "metadata": {},
   "outputs": [
    {
     "name": "stderr",
     "output_type": "stream",
     "text": [
      "Token indices sequence length is longer than the specified maximum sequence length for this model (2077 > 1024). Running this sequence through the model will result in indexing errors\n"
     ]
    },
    {
     "name": "stdout",
     "output_type": "stream",
     "text": [
      "                                            question  \\\n",
      "0  would i ever need credit card if my debit card...   \n",
      "1  cheapest way to wire or withdraw money from us...   \n",
      "2  how do i go about finding an honest  ethical f...   \n",
      "3                  why invest in becoming a landlord   \n",
      "4  what could be the cause of a extreme highlow p...   \n",
      "\n",
      "                              subword_token_question  \n",
      "0  [would, Ġi, Ġever, Ġneed, Ġcredit, Ġcard, Ġif,...  \n",
      "1  [che, apest, Ġway, Ġto, Ġwire, Ġor, Ġwithdraw,...  \n",
      "2  [how, Ġdo, Ġi, Ġgo, Ġabout, Ġfinding, Ġan, Ġho...  \n",
      "3      [why, Ġinvest, Ġin, Ġbecoming, Ġa, Ġlandlord]  \n",
      "4  [what, Ġcould, Ġbe, Ġthe, Ġcause, Ġof, Ġa, Ġex...  \n",
      "                                              answer  \\\n",
      "0  skimmers are most likely at gas station pumps....   \n",
      "1  there is a number of cheaper online options th...   \n",
      "2  large and wellknown companies are typically a ...   \n",
      "3  why does it make sense financially to buy prop...   \n",
      "4  often these types of trades fall into two diff...   \n",
      "\n",
      "                                subword_token_answer  \n",
      "0  [sk, immers, Ġare, Ġmost, Ġlikely, Ġat, Ġgas, ...  \n",
      "1  [there, Ġis, Ġa, Ġnumber, Ġof, Ġcheaper, Ġonli...  \n",
      "2  [large, Ġand, Ġwell, known, Ġcompanies, Ġare, ...  \n",
      "3  [why, Ġdoes, Ġit, Ġmake, Ġsense, Ġfinancially,...  \n",
      "4  [often, Ġthese, Ġtypes, Ġof, Ġtrades, Ġfall, Ġ...  \n"
     ]
    }
   ],
   "source": [
    "from transformers import AutoTokenizer\n",
    "\n",
    "tokenizer = AutoTokenizer.from_pretrained(\"gpt2\")\n",
    "\n",
    "df[\"subword_token_question\"] = df[\"question\"].apply(lambda x: tokenizer.tokenize(x))\n",
    "df[\"subword_token_answer\"] = df[\"answer\"].apply(lambda x: tokenizer.tokenize(x))\n",
    "print(df[[\"question\", \"subword_token_question\"]].head())\n",
    "print(df[[\"answer\", \"subword_token_answer\"]].head())"
   ]
  },
  {
   "cell_type": "markdown",
   "metadata": {},
   "source": [
    "# 4. Sentence Tokenization\n",
    "\n",
    "this will ensure we still keep the sentence\n",
    "Example: Interest rates will rise. Investors are adjusting portfolios. => [\"Interest rates will rise.\", \"Investors are adjusting portfolios.\"]\n"
   ]
  },
  {
   "cell_type": "code",
   "execution_count": 48,
>>>>>>> main
   "metadata": {},
   "outputs": [
    {
     "name": "stdout",
     "output_type": "stream",
     "text": [
      "                                            question  \\\n",
<<<<<<< HEAD
      "0  Company revenue increased however stock price ...   \n",
      "1  Should I invest in my house, when its in my wi...   \n",
      "2  Proscons for buying gold vs. saving money in a...   \n",
      "3  still have mortgage on old house to be torn do...   \n",
      "4                               Deal with stock PSEC   \n",
      "\n",
      "                                              answer  \n",
      "0  The company released its 2nd Quarter Revenue o...  \n",
      "1  If you are concerned about it being inequitabl...  \n",
      "2  Just because gold performed that well in the p...  \n",
      "3  I could be wrong, but I doubt youre going to b...  \n",
      "4  It looks like it has to deal with an expiratio...  \n"
=======
      "0  would i ever need credit card if my debit card...   \n",
      "1  cheapest way to wire or withdraw money from us...   \n",
      "2  how do i go about finding an honest  ethical f...   \n",
      "3                  why invest in becoming a landlord   \n",
      "4  what could be the cause of a extreme highlow p...   \n",
      "\n",
      "                        sentence_tokenized_questions  \n",
      "0  [would i ever need credit card if my debit car...  \n",
      "1  [cheapest way to wire or withdraw money from u...  \n",
      "2  [how do i go about finding an honest  ethical ...  \n",
      "3                [why invest in becoming a landlord]  \n",
      "4  [what could be the cause of a extreme highlow ...  \n",
      "                                              answer  \\\n",
      "0  skimmers are most likely at gas station pumps....   \n",
      "1  there is a number of cheaper online options th...   \n",
      "2  large and wellknown companies are typically a ...   \n",
      "3  why does it make sense financially to buy prop...   \n",
      "4  often these types of trades fall into two diff...   \n",
      "\n",
      "                          sentence_tokenized_answers  \n",
      "0  [skimmers are most likely at gas station pumps...  \n",
      "1  [there is a number of cheaper online options t...  \n",
      "2  [large and wellknown companies are typically a...  \n",
      "3  [why does it make sense financially to buy pro...  \n",
      "4  [often these types of trades fall into two dif...  \n"
>>>>>>> main
     ]
    }
   ],
   "source": [
<<<<<<< HEAD
    "import pandas as pd\n",
    "from sentence_transformers import SentenceTransformer\n",
    "\n",
    "\n",
    "df = pd.read_csv('/Users/tshmacm1172/Desktop/DimowKay_FinBot/test_data.csv')  # Replace with your actual file name\n",
    "\n",
    "# Preview data\n",
    "print(df.head())"
=======
    "def sentence_tokenize(text):\n",
    "    doc = nlp(text)\n",
    "    return [sent.text for sent in doc.sents]  \n",
    "\n",
    "df[\"sentence_tokenized_questions\"] = df[\"question\"].apply(sentence_tokenize)\n",
    "df[\"sentence_tokenized_answers\"] = df[\"answer\"].apply(sentence_tokenize)\n",
    "\n",
    "\n",
    "print(df[[\"question\", \"sentence_tokenized_questions\"]].head())\n",
    "print(df[[\"answer\", \"sentence_tokenized_answers\"]].head())\n"
>>>>>>> main
   ]
  },
  {
   "cell_type": "code",
<<<<<<< HEAD
   "execution_count": null,
   "metadata": {},
   "outputs": [],
   "source": [
    "df.dropna(subset=['question', 'answer'], inplace=True)"
   ]
  },
  {
   "cell_type": "code",
   "execution_count": null,
   "metadata": {},
   "outputs": [],
   "source": [
    "\n",
    "# Strip whitespace and lower case (optional, depends on your use case)\n",
    "df['question'] = df['question'].str.strip()\n",
    "df['answer'] = df['answer'].str.strip()"
   ]
  },
  {
   "cell_type": "code",
   "execution_count": 13,
   "metadata": {},
   "outputs": [],
   "source": [
    "# Remove duplicates if any\n",
    "df.drop_duplicates(subset='question', inplace=True)"
   ]
  },
  {
   "cell_type": "code",
   "execution_count": null,
   "metadata": {},
   "outputs": [],
   "source": [
    "\n",
    "# Reset index\n",
    "df.reset_index(drop=True, inplace=True)"
   ]
  },
  {
   "cell_type": "code",
   "execution_count": 14,
   "metadata": {},
   "outputs": [],
   "source": [
    "# Initialize BERT model for sentence embedding\n",
    "model = SentenceTransformer('all-MiniLM-L6-v2')"
   ]
  },
  {
   "cell_type": "code",
   "execution_count": 15,
=======
   "execution_count": 49,
>>>>>>> main
   "metadata": {},
   "outputs": [
    {
     "data": {
<<<<<<< HEAD
      "application/vnd.jupyter.widget-view+json": {
       "model_id": "f2873a3c3fc944ec94f019665ad2a737",
       "version_major": 2,
       "version_minor": 0
      },
      "text/plain": [
       "Batches:   0%|          | 0/66 [00:00<?, ?it/s]"
      ]
     },
     "metadata": {},
     "output_type": "display_data"
    }
   ],
   "source": [
    "# Encode all questions\n",
    "embeddings = model.encode(df['question'].tolist(), show_progress_bar=True)\n"
   ]
  },
  {
   "cell_type": "code",
   "execution_count": 18,
   "metadata": {},
   "outputs": [],
   "source": [
    "questions = df['question'].tolist()\n",
    "answers = df['answer'].tolist()"
   ]
  },
  {
   "cell_type": "code",
   "execution_count": 19,
   "metadata": {},
   "outputs": [],
   "source": [
    "# Encode the questions if not already done\n",
    "from sentence_transformers import SentenceTransformer\n",
    "model = SentenceTransformer('all-MiniLM-L6-v2')\n",
    "question_embeddings = model.encode(questions)"
   ]
  },
  {
   "cell_type": "code",
   "execution_count": 20,
   "metadata": {},
   "outputs": [],
   "source": [
    "\n",
    "test_df = pd.read_csv('/Users/tshmacm1172/Desktop/DimowKay_FinBot/train_data.csv') "
   ]
  },
  {
   "cell_type": "code",
   "execution_count": 22,
   "metadata": {},
   "outputs": [
    {
     "name": "stdout",
     "output_type": "stream",
     "text": [
      "Index(['question', 'answer'], dtype='object')\n"
     ]
    }
   ],
   "source": [
    "print(test_df.columns)\n"
   ]
  },
  {
   "cell_type": "code",
   "execution_count": 24,
   "metadata": {},
   "outputs": [
    {
     "name": "stdout",
     "output_type": "stream",
     "text": [
      "Index(['question', 'answer'], dtype='object')\n"
     ]
    }
   ],
   "source": [
    "test_df.columns = test_df.columns.str.strip()\n",
    "print(test_df.columns)\n"
   ]
  },
  {
   "cell_type": "code",
   "execution_count": 26,
   "metadata": {},
   "outputs": [
    {
     "ename": "NameError",
     "evalue": "name 'Index' is not defined",
     "output_type": "error",
     "traceback": [
      "\u001b[0;31m---------------------------------------------------------------------------\u001b[0m",
      "\u001b[0;31mNameError\u001b[0m                                 Traceback (most recent call last)",
      "Cell \u001b[0;32mIn[26], line 1\u001b[0m\n\u001b[0;32m----> 1\u001b[0m Index([\u001b[38;5;124m'\u001b[39m\u001b[38;5;124mquestion\u001b[39m\u001b[38;5;124m'\u001b[39m, \u001b[38;5;124m'\u001b[39m\u001b[38;5;124manswer\u001b[39m\u001b[38;5;124m'\u001b[39m], dtype\u001b[38;5;241m=\u001b[39m\u001b[38;5;124m'\u001b[39m\u001b[38;5;124mobject\u001b[39m\u001b[38;5;124m'\u001b[39m)\n",
      "\u001b[0;31mNameError\u001b[0m: name 'Index' is not defined"
     ]
    }
   ],
   "source": [
    "Index(['question', 'answer'], dtype='object')\n"
   ]
  },
  {
   "cell_type": "code",
   "execution_count": 25,
   "metadata": {},
   "outputs": [
    {
     "ename": "KeyError",
     "evalue": "'query'",
     "output_type": "error",
     "traceback": [
      "\u001b[0;31m---------------------------------------------------------------------------\u001b[0m",
      "\u001b[0;31mKeyError\u001b[0m                                  Traceback (most recent call last)",
      "File \u001b[0;32m/opt/anaconda3/lib/python3.12/site-packages/pandas/core/indexes/base.py:3805\u001b[0m, in \u001b[0;36mIndex.get_loc\u001b[0;34m(self, key)\u001b[0m\n\u001b[1;32m   3804\u001b[0m \u001b[38;5;28;01mtry\u001b[39;00m:\n\u001b[0;32m-> 3805\u001b[0m     \u001b[38;5;28;01mreturn\u001b[39;00m \u001b[38;5;28mself\u001b[39m\u001b[38;5;241m.\u001b[39m_engine\u001b[38;5;241m.\u001b[39mget_loc(casted_key)\n\u001b[1;32m   3806\u001b[0m \u001b[38;5;28;01mexcept\u001b[39;00m \u001b[38;5;167;01mKeyError\u001b[39;00m \u001b[38;5;28;01mas\u001b[39;00m err:\n",
      "File \u001b[0;32mindex.pyx:167\u001b[0m, in \u001b[0;36mpandas._libs.index.IndexEngine.get_loc\u001b[0;34m()\u001b[0m\n",
      "File \u001b[0;32mindex.pyx:196\u001b[0m, in \u001b[0;36mpandas._libs.index.IndexEngine.get_loc\u001b[0;34m()\u001b[0m\n",
      "File \u001b[0;32mpandas/_libs/hashtable_class_helper.pxi:7081\u001b[0m, in \u001b[0;36mpandas._libs.hashtable.PyObjectHashTable.get_item\u001b[0;34m()\u001b[0m\n",
      "File \u001b[0;32mpandas/_libs/hashtable_class_helper.pxi:7089\u001b[0m, in \u001b[0;36mpandas._libs.hashtable.PyObjectHashTable.get_item\u001b[0;34m()\u001b[0m\n",
      "\u001b[0;31mKeyError\u001b[0m: 'query'",
      "\nThe above exception was the direct cause of the following exception:\n",
      "\u001b[0;31mKeyError\u001b[0m                                  Traceback (most recent call last)",
      "Cell \u001b[0;32mIn[25], line 13\u001b[0m\n\u001b[1;32m     11\u001b[0m \u001b[38;5;66;03m# Test first 5 rows\u001b[39;00m\n\u001b[1;32m     12\u001b[0m \u001b[38;5;28;01mfor\u001b[39;00m i \u001b[38;5;129;01min\u001b[39;00m \u001b[38;5;28mrange\u001b[39m(\u001b[38;5;28mmin\u001b[39m(\u001b[38;5;241m5\u001b[39m, \u001b[38;5;28mlen\u001b[39m(test_df))):\n\u001b[0;32m---> 13\u001b[0m     user_query \u001b[38;5;241m=\u001b[39m test_df\u001b[38;5;241m.\u001b[39mloc[i, \u001b[38;5;124m'\u001b[39m\u001b[38;5;124mquery\u001b[39m\u001b[38;5;124m'\u001b[39m]\n\u001b[1;32m     14\u001b[0m     expected \u001b[38;5;241m=\u001b[39m test_df\u001b[38;5;241m.\u001b[39mloc[i, \u001b[38;5;124m'\u001b[39m\u001b[38;5;124mexpected_answer\u001b[39m\u001b[38;5;124m'\u001b[39m]\n\u001b[1;32m     16\u001b[0m     predicted_answer, matched_question, score \u001b[38;5;241m=\u001b[39m get_response_with_score(user_query)\n",
      "File \u001b[0;32m/opt/anaconda3/lib/python3.12/site-packages/pandas/core/indexing.py:1183\u001b[0m, in \u001b[0;36m_LocationIndexer.__getitem__\u001b[0;34m(self, key)\u001b[0m\n\u001b[1;32m   1181\u001b[0m     key \u001b[38;5;241m=\u001b[39m \u001b[38;5;28mtuple\u001b[39m(com\u001b[38;5;241m.\u001b[39mapply_if_callable(x, \u001b[38;5;28mself\u001b[39m\u001b[38;5;241m.\u001b[39mobj) \u001b[38;5;28;01mfor\u001b[39;00m x \u001b[38;5;129;01min\u001b[39;00m key)\n\u001b[1;32m   1182\u001b[0m     \u001b[38;5;28;01mif\u001b[39;00m \u001b[38;5;28mself\u001b[39m\u001b[38;5;241m.\u001b[39m_is_scalar_access(key):\n\u001b[0;32m-> 1183\u001b[0m         \u001b[38;5;28;01mreturn\u001b[39;00m \u001b[38;5;28mself\u001b[39m\u001b[38;5;241m.\u001b[39mobj\u001b[38;5;241m.\u001b[39m_get_value(\u001b[38;5;241m*\u001b[39mkey, takeable\u001b[38;5;241m=\u001b[39m\u001b[38;5;28mself\u001b[39m\u001b[38;5;241m.\u001b[39m_takeable)\n\u001b[1;32m   1184\u001b[0m     \u001b[38;5;28;01mreturn\u001b[39;00m \u001b[38;5;28mself\u001b[39m\u001b[38;5;241m.\u001b[39m_getitem_tuple(key)\n\u001b[1;32m   1185\u001b[0m \u001b[38;5;28;01melse\u001b[39;00m:\n\u001b[1;32m   1186\u001b[0m     \u001b[38;5;66;03m# we by definition only have the 0th axis\u001b[39;00m\n",
      "File \u001b[0;32m/opt/anaconda3/lib/python3.12/site-packages/pandas/core/frame.py:4214\u001b[0m, in \u001b[0;36mDataFrame._get_value\u001b[0;34m(self, index, col, takeable)\u001b[0m\n\u001b[1;32m   4211\u001b[0m     series \u001b[38;5;241m=\u001b[39m \u001b[38;5;28mself\u001b[39m\u001b[38;5;241m.\u001b[39m_ixs(col, axis\u001b[38;5;241m=\u001b[39m\u001b[38;5;241m1\u001b[39m)\n\u001b[1;32m   4212\u001b[0m     \u001b[38;5;28;01mreturn\u001b[39;00m series\u001b[38;5;241m.\u001b[39m_values[index]\n\u001b[0;32m-> 4214\u001b[0m series \u001b[38;5;241m=\u001b[39m \u001b[38;5;28mself\u001b[39m\u001b[38;5;241m.\u001b[39m_get_item_cache(col)\n\u001b[1;32m   4215\u001b[0m engine \u001b[38;5;241m=\u001b[39m \u001b[38;5;28mself\u001b[39m\u001b[38;5;241m.\u001b[39mindex\u001b[38;5;241m.\u001b[39m_engine\n\u001b[1;32m   4217\u001b[0m \u001b[38;5;28;01mif\u001b[39;00m \u001b[38;5;129;01mnot\u001b[39;00m \u001b[38;5;28misinstance\u001b[39m(\u001b[38;5;28mself\u001b[39m\u001b[38;5;241m.\u001b[39mindex, MultiIndex):\n\u001b[1;32m   4218\u001b[0m     \u001b[38;5;66;03m# CategoricalIndex: Trying to use the engine fastpath may give incorrect\u001b[39;00m\n\u001b[1;32m   4219\u001b[0m     \u001b[38;5;66;03m#  results if our categories are integers that dont match our codes\u001b[39;00m\n\u001b[1;32m   4220\u001b[0m     \u001b[38;5;66;03m# IntervalIndex: IntervalTree has no get_loc\u001b[39;00m\n",
      "File \u001b[0;32m/opt/anaconda3/lib/python3.12/site-packages/pandas/core/frame.py:4638\u001b[0m, in \u001b[0;36mDataFrame._get_item_cache\u001b[0;34m(self, item)\u001b[0m\n\u001b[1;32m   4633\u001b[0m res \u001b[38;5;241m=\u001b[39m cache\u001b[38;5;241m.\u001b[39mget(item)\n\u001b[1;32m   4634\u001b[0m \u001b[38;5;28;01mif\u001b[39;00m res \u001b[38;5;129;01mis\u001b[39;00m \u001b[38;5;28;01mNone\u001b[39;00m:\n\u001b[1;32m   4635\u001b[0m     \u001b[38;5;66;03m# All places that call _get_item_cache have unique columns,\u001b[39;00m\n\u001b[1;32m   4636\u001b[0m     \u001b[38;5;66;03m#  pending resolution of GH#33047\u001b[39;00m\n\u001b[0;32m-> 4638\u001b[0m     loc \u001b[38;5;241m=\u001b[39m \u001b[38;5;28mself\u001b[39m\u001b[38;5;241m.\u001b[39mcolumns\u001b[38;5;241m.\u001b[39mget_loc(item)\n\u001b[1;32m   4639\u001b[0m     res \u001b[38;5;241m=\u001b[39m \u001b[38;5;28mself\u001b[39m\u001b[38;5;241m.\u001b[39m_ixs(loc, axis\u001b[38;5;241m=\u001b[39m\u001b[38;5;241m1\u001b[39m)\n\u001b[1;32m   4641\u001b[0m     cache[item] \u001b[38;5;241m=\u001b[39m res\n",
      "File \u001b[0;32m/opt/anaconda3/lib/python3.12/site-packages/pandas/core/indexes/base.py:3812\u001b[0m, in \u001b[0;36mIndex.get_loc\u001b[0;34m(self, key)\u001b[0m\n\u001b[1;32m   3807\u001b[0m     \u001b[38;5;28;01mif\u001b[39;00m \u001b[38;5;28misinstance\u001b[39m(casted_key, \u001b[38;5;28mslice\u001b[39m) \u001b[38;5;129;01mor\u001b[39;00m (\n\u001b[1;32m   3808\u001b[0m         \u001b[38;5;28misinstance\u001b[39m(casted_key, abc\u001b[38;5;241m.\u001b[39mIterable)\n\u001b[1;32m   3809\u001b[0m         \u001b[38;5;129;01mand\u001b[39;00m \u001b[38;5;28many\u001b[39m(\u001b[38;5;28misinstance\u001b[39m(x, \u001b[38;5;28mslice\u001b[39m) \u001b[38;5;28;01mfor\u001b[39;00m x \u001b[38;5;129;01min\u001b[39;00m casted_key)\n\u001b[1;32m   3810\u001b[0m     ):\n\u001b[1;32m   3811\u001b[0m         \u001b[38;5;28;01mraise\u001b[39;00m InvalidIndexError(key)\n\u001b[0;32m-> 3812\u001b[0m     \u001b[38;5;28;01mraise\u001b[39;00m \u001b[38;5;167;01mKeyError\u001b[39;00m(key) \u001b[38;5;28;01mfrom\u001b[39;00m \u001b[38;5;21;01merr\u001b[39;00m\n\u001b[1;32m   3813\u001b[0m \u001b[38;5;28;01mexcept\u001b[39;00m \u001b[38;5;167;01mTypeError\u001b[39;00m:\n\u001b[1;32m   3814\u001b[0m     \u001b[38;5;66;03m# If we have a listlike key, _check_indexing_error will raise\u001b[39;00m\n\u001b[1;32m   3815\u001b[0m     \u001b[38;5;66;03m#  InvalidIndexError. Otherwise we fall through and re-raise\u001b[39;00m\n\u001b[1;32m   3816\u001b[0m     \u001b[38;5;66;03m#  the TypeError.\u001b[39;00m\n\u001b[1;32m   3817\u001b[0m     \u001b[38;5;28mself\u001b[39m\u001b[38;5;241m.\u001b[39m_check_indexing_error(key)\n",
      "\u001b[0;31mKeyError\u001b[0m: 'query'"
     ]
    }
   ],
   "source": [
    "from sklearn.metrics.pairwise import cosine_similarity\n",
    "import numpy as np\n",
    "\n",
    "def get_response_with_score(user_query):\n",
    "    query_embedding = model.encode([user_query])\n",
    "    similarities = cosine_similarity(query_embedding, question_embeddings)\n",
    "    best_idx = np.argmax(similarities)\n",
    "    best_score = similarities[0][best_idx]\n",
    "    return answers[best_idx], questions[best_idx], best_score\n",
    "\n",
    "# Test first 5 rows\n",
    "for i in range(min(5, len(test_df))):\n",
    "    user_query = test_df.loc[i, 'query']\n",
    "    expected = test_df.loc[i, 'expected_answer']\n",
    "    \n",
    "    predicted_answer, matched_question, score = get_response_with_score(user_query)\n",
    "    \n",
    "    print(f\"\\n🟢 Query: {user_query}\")\n",
    "    print(f\"✅ Expected: {expected}\")\n",
    "    print(f\"🤖 Predicted: {predicted_answer}\")\n",
    "    print(f\"🧠 Matched FAQ Question: {matched_question}\")\n",
    "    print(f\"📊 Similarity Score: {score:.2f}\")\n",
    "    print(\"-\" * 60)\n"
   ]
  },
  {
   "cell_type": "code",
   "execution_count": 1,
   "metadata": {},
   "outputs": [
    {
     "name": "stdout",
     "output_type": "stream",
     "text": [
      "🔄 Encoding FAQ questions...\n"
     ]
    },
    {
     "data": {
      "application/vnd.jupyter.widget-view+json": {
       "model_id": "580d33f47a134c32a2c77f7f767f7dd0",
       "version_major": 2,
       "version_minor": 0
      },
      "text/plain": [
       "Batches:   0%|          | 0/66 [00:00<?, ?it/s]"
      ]
     },
     "metadata": {},
     "output_type": "display_data"
    },
    {
     "name": "stdout",
     "output_type": "stream",
     "text": [
      "\n",
      "📝 Test Columns: ['question', 'answer']\n",
      "\n",
      "🔍 Running test queries...\n",
      "\n",
      "🟢 Query: Company revenue increased however stock price did not\n",
      "✅ Expected: The company released its 2nd Quarter Revenue of 1,957,921 a couple days ago however the stock did not move up in any way. Why? If the company is making money shouldnt the stock go up. But that result doesnt indicate that the company is making money. The word for making money is profit, not revenue. Profit equals revenue minus costs. An increasing revenue could mean decreasing profits. For example, marketing expenses could eat up the entirety of the new revenue. This is one of the most basic aspects of researching stocks. If you are having trouble with this, you might find yourself better suited to invest in mutual funds, where they do this research for you. In particular, the safest kind of mutual funds for an inexperienced investor are index funds that track a major index, like the SP 500. Another issue is that stock prices arent based on historical results but on expected future results. Many a company has reported smaller than expected profits and had their price fall even though profits increased from previous results. Looking at it long term would it hurt me in anyway to buy 100,000 shares which right now would run be about 24 including to fee and sit on it? It would cost you 24. You might get a return some day. Or you might waste your money. Given the comparatively large upside, the consensus seems to be that you will probably waste your money. That said, its not a lot of money to waste. So it wont hurt you that much. The most likely result remains that the company will go bankrupt, leaving your stock worthless.\n",
      "🤖 Predicted: The company released its 2nd Quarter Revenue of 1,957,921 a couple days ago however the stock did not move up in any way. Why? If the company is making money shouldnt the stock go up. But that result doesnt indicate that the company is making money. The word for making money is profit, not revenue. Profit equals revenue minus costs. An increasing revenue could mean decreasing profits. For example, marketing expenses could eat up the entirety of the new revenue. This is one of the most basic aspects of researching stocks. If you are having trouble with this, you might find yourself better suited to invest in mutual funds, where they do this research for you. In particular, the safest kind of mutual funds for an inexperienced investor are index funds that track a major index, like the SP 500. Another issue is that stock prices arent based on historical results but on expected future results. Many a company has reported smaller than expected profits and had their price fall even though profits increased from previous results. Looking at it long term would it hurt me in anyway to buy 100,000 shares which right now would run be about 24 including to fee and sit on it? It would cost you 24. You might get a return some day. Or you might waste your money. Given the comparatively large upside, the consensus seems to be that you will probably waste your money. That said, its not a lot of money to waste. So it wont hurt you that much. The most likely result remains that the company will go bankrupt, leaving your stock worthless.\n",
      "🧠 Matched FAQ Question: Company revenue increased however stock price did not\n",
      "📊 Similarity Score: 1.00\n",
      "------------------------------------------------------------\n",
      "\n",
      "🟢 Query: Should I invest in my house, when its in my wifes name?\n",
      "✅ Expected: If you are concerned about it being inequitable due to the prenuptial agreement, discuss the idea of amending the prenuptial agreement to give you some consideration for your investments in the house. Prenuptial agreements often get amended over the course of a marriage. How do you proceed? It has to start with discussion. Its not an unreasonable concern given your legal separation of assets, so broach the subject and go from there. Perhaps youll find theres a good reason for you to invest in the property even without having interest in it, who knows.\n",
      "🤖 Predicted: If you are concerned about it being inequitable due to the prenuptial agreement, discuss the idea of amending the prenuptial agreement to give you some consideration for your investments in the house. Prenuptial agreements often get amended over the course of a marriage. How do you proceed? It has to start with discussion. Its not an unreasonable concern given your legal separation of assets, so broach the subject and go from there. Perhaps youll find theres a good reason for you to invest in the property even without having interest in it, who knows.\n",
      "🧠 Matched FAQ Question: Should I invest in my house, when its in my wifes name?\n",
      "📊 Similarity Score: 1.00\n",
      "------------------------------------------------------------\n",
      "\n",
      "🟢 Query: Proscons for buying gold vs. saving money in an interestbased account?\n",
      "✅ Expected: Just because gold performed that well in the past does not mean it will perform that well in the future. Im not saying you should or should not buy gold, but the mere fact that it went up a lot recently is not sufficient reason to buy it. Also note that on the house, an investment that accrues continuous interest for 30 years at an annual rate of about 7.7 will multiply by a factor of 10 in 30 years. That rate is pretty high by todays standards, but it might have been more feasible in the past I dont know historical interest rates very well. Yet again note that the fact that houses went up a lot over the last 30 years does not mean they will continue to do so.\n",
      "🤖 Predicted: Just because gold performed that well in the past does not mean it will perform that well in the future. Im not saying you should or should not buy gold, but the mere fact that it went up a lot recently is not sufficient reason to buy it. Also note that on the house, an investment that accrues continuous interest for 30 years at an annual rate of about 7.7 will multiply by a factor of 10 in 30 years. That rate is pretty high by todays standards, but it might have been more feasible in the past I dont know historical interest rates very well. Yet again note that the fact that houses went up a lot over the last 30 years does not mean they will continue to do so.\n",
      "🧠 Matched FAQ Question: Proscons for buying gold vs. saving money in an interestbased account?\n",
      "📊 Similarity Score: 1.00\n",
      "------------------------------------------------------------\n",
      "\n",
      "🟢 Query: still have mortgage on old house to be torn down want to build new house\n",
      "✅ Expected: I could be wrong, but I doubt youre going to be able to roll the current mortgage into a new one. The problem is that the bank is going to require that the new loan is fully collateralized by the new house. So the only way that you can ensure that is if you can construct the house cheaply enough that the difference between the construction cost and the end market value is enough to cover the current loan AND keep the loantovalue LTV low enough that the bank is secured. So say you currently owe 40k on your mortgage, and you want to build a house that will be worth 200k. In order to avoid PMI, youre going to have to have an LTV of 80 or less, which means that you can spend no more than 160k to build the house. If you want to roll the existing loan in, now you have to build for less than 120k, and theres no way that you can build a 200k house for 120k unless you live in an area with very high land value and hire the builders directly and even then it may not be possible. Otherwise youre going to have to make up the difference in cash. When you tear down a house, you are essentially throwing away the value of the house  when you have a mortgage on the house, you throw away that value plus you still owe the money, which is a difficult hole to climb out of. A better solution might be to try and sell the house asis, perhaps to someone else who can tear down the house and rebuild with cash. If that is not a viable option or you dont want to move then you might consider a home equity loan to renovate parts of the house, provided that they increase the market value enough to justify the cost e.g. modernize the kitchen, add on a room, remodel bathrooms, etc. So it all depends on what the house is worth today asis, how much it will cost you to rebuild, and what the value of the new house will be.\n",
      "🤖 Predicted: I could be wrong, but I doubt youre going to be able to roll the current mortgage into a new one. The problem is that the bank is going to require that the new loan is fully collateralized by the new house. So the only way that you can ensure that is if you can construct the house cheaply enough that the difference between the construction cost and the end market value is enough to cover the current loan AND keep the loantovalue LTV low enough that the bank is secured. So say you currently owe 40k on your mortgage, and you want to build a house that will be worth 200k. In order to avoid PMI, youre going to have to have an LTV of 80 or less, which means that you can spend no more than 160k to build the house. If you want to roll the existing loan in, now you have to build for less than 120k, and theres no way that you can build a 200k house for 120k unless you live in an area with very high land value and hire the builders directly and even then it may not be possible. Otherwise youre going to have to make up the difference in cash. When you tear down a house, you are essentially throwing away the value of the house  when you have a mortgage on the house, you throw away that value plus you still owe the money, which is a difficult hole to climb out of. A better solution might be to try and sell the house asis, perhaps to someone else who can tear down the house and rebuild with cash. If that is not a viable option or you dont want to move then you might consider a home equity loan to renovate parts of the house, provided that they increase the market value enough to justify the cost e.g. modernize the kitchen, add on a room, remodel bathrooms, etc. So it all depends on what the house is worth today asis, how much it will cost you to rebuild, and what the value of the new house will be.\n",
      "🧠 Matched FAQ Question: still have mortgage on old house to be torn down want to build new house\n",
      "📊 Similarity Score: 1.00\n",
      "------------------------------------------------------------\n",
      "\n",
      "🟢 Query: Deal with stock PSEC\n",
      "✅ Expected: It looks like it has to deal with an expiration of rights as a taxable event. I found this link via google, which states that Not only does the PSEC shareholder have a TAXABLE EVENT, but he has TWO taxable events. The net effect of these two taxable events has DIFFERENT CONSEQUENCES for DIFFERENT SHAREHOLDERS depending upon their peculiar TAX SITUATIONS. The CORRECT STATEMENT of the tax treatment of unexercised PYLDR rights is in the N2 on page 32, which reads in relevant part as follows , if you receive a Subscription Right from PSEC and do not sell or exercise that right before it expires, you should generally expect to have 1 taxable dividend income equal to the fair market value if any of the Subscription Right on the date of its distribution by PSEC to the extent of PSECs current and accumulated earnings and profits and 2 a capital loss upon the expiration of such right in an amount equal to your adjusted tax basis if any in such right which should generally equal the fair market value if any of the Subscription Right on the date of its distribution by PSEC. Please note, for quarterly estimated taxes purposes, that the DIVIDEND taxable events occur ON THE DATE OF ITS DISTRIBUTION BY PSEC my emphasis, while the CAPITAL LOSS occurs UPON EXPIRATION OF SUCH RIGHT my emphasis. They do NOT occur on 31 December 2015 or some other date. However, to my knowledge, neither of the taxable events he mentions would be taxed by 415. If you are worried about it, I would recommend seeing a tax professional. Otherwise Id wait to see the tax forms sent by your brokerage.\n",
      "🤖 Predicted: It looks like it has to deal with an expiration of rights as a taxable event. I found this link via google, which states that Not only does the PSEC shareholder have a TAXABLE EVENT, but he has TWO taxable events. The net effect of these two taxable events has DIFFERENT CONSEQUENCES for DIFFERENT SHAREHOLDERS depending upon their peculiar TAX SITUATIONS. The CORRECT STATEMENT of the tax treatment of unexercised PYLDR rights is in the N2 on page 32, which reads in relevant part as follows , if you receive a Subscription Right from PSEC and do not sell or exercise that right before it expires, you should generally expect to have 1 taxable dividend income equal to the fair market value if any of the Subscription Right on the date of its distribution by PSEC to the extent of PSECs current and accumulated earnings and profits and 2 a capital loss upon the expiration of such right in an amount equal to your adjusted tax basis if any in such right which should generally equal the fair market value if any of the Subscription Right on the date of its distribution by PSEC. Please note, for quarterly estimated taxes purposes, that the DIVIDEND taxable events occur ON THE DATE OF ITS DISTRIBUTION BY PSEC my emphasis, while the CAPITAL LOSS occurs UPON EXPIRATION OF SUCH RIGHT my emphasis. They do NOT occur on 31 December 2015 or some other date. However, to my knowledge, neither of the taxable events he mentions would be taxed by 415. If you are worried about it, I would recommend seeing a tax professional. Otherwise Id wait to see the tax forms sent by your brokerage.\n",
      "🧠 Matched FAQ Question: Deal with stock PSEC\n",
      "📊 Similarity Score: 1.00\n",
      "------------------------------------------------------------\n"
     ]
    }
   ],
   "source": [
    "import pandas as pd\n",
    "import numpy as np\n",
    "from sklearn.metrics.pairwise import cosine_similarity\n",
    "from sentence_transformers import SentenceTransformer\n",
    "\n",
    "# -----------------------------------\n",
    "# STEP 1: Load and prepare FAQ dataset\n",
    "# -----------------------------------\n",
    "faq_df = pd.read_csv('/Users/tshmacm1172/Desktop/DimowKay_FinBot/test_data.csv')  # your main Q&A file\n",
    "faq_df.dropna(subset=['question', 'answer'], inplace=True)\n",
    "faq_df['question'] = faq_df['question'].str.strip()\n",
    "faq_df['answer'] = faq_df['answer'].str.strip()\n",
    "faq_df.drop_duplicates(subset='question', inplace=True)\n",
    "faq_df.reset_index(drop=True, inplace=True)\n",
    "\n",
    "faq_questions = faq_df['question'].tolist()\n",
    "faq_answers = faq_df['answer'].tolist()\n",
    "\n",
    "# -----------------------------------\n",
    "# STEP 2: Encode FAQ questions using BERT\n",
    "# -----------------------------------\n",
    "print(\"🔄 Encoding FAQ questions...\")\n",
    "model = SentenceTransformer('all-MiniLM-L6-v2')\n",
    "question_embeddings = model.encode(faq_questions, show_progress_bar=True)\n",
    "\n",
    "# -----------------------------------\n",
    "# STEP 3: Define response function\n",
    "# -----------------------------------\n",
    "def get_response_with_score(user_query):\n",
    "    query_embedding = model.encode([user_query])\n",
    "    similarities = cosine_similarity(query_embedding, question_embeddings)\n",
    "    best_idx = np.argmax(similarities)\n",
    "    best_score = similarities[0][best_idx]\n",
    "    return faq_answers[best_idx], faq_questions[best_idx], best_score\n",
    "\n",
    "# -----------------------------------\n",
    "# STEP 4: Load and test on test dataset\n",
    "# -----------------------------------\n",
    "test_df = pd.read_csv('/Users/tshmacm1172/Desktop/DimowKay_FinBot/test_data.csv')  # your test file with user queries\n",
    "print(\"\\n📝 Test Columns:\", test_df.columns.tolist())\n",
    "\n",
    "# Adjust these if your columns are named differently\n",
    "input_col = 'question'\n",
    "expected_col = 'answer'\n",
    "\n",
    "test_df.dropna(subset=[input_col, expected_col], inplace=True)\n",
    "\n",
    "# -----------------------------------\n",
    "# STEP 5: Run tests on first 5 rows\n",
    "# -----------------------------------\n",
    "print(\"\\n🔍 Running test queries...\")\n",
    "for i in range(min(5, len(test_df))):\n",
    "    user_query = test_df.loc[i, input_col]\n",
    "    expected = test_df.loc[i, expected_col]\n",
    "\n",
    "    predicted_answer, matched_question, score = get_response_with_score(user_query)\n",
    "\n",
    "    print(f\"\\n🟢 Query: {user_query}\")\n",
    "    print(f\"✅ Expected: {expected}\")\n",
    "    print(f\"🤖 Predicted: {predicted_answer}\")\n",
    "    print(f\"🧠 Matched FAQ Question: {matched_question}\")\n",
    "    print(f\"📊 Similarity Score: {score:.2f}\")\n",
    "    print(\"-\" * 60)\n"
   ]
  },
  {
   "cell_type": "code",
   "execution_count": null,
   "metadata": {},
   "outputs": [
    {
     "name": "stdout",
     "output_type": "stream",
     "text": [
      "🔄 Encoding FAQ questions...\n"
     ]
    },
    {
     "data": {
      "application/vnd.jupyter.widget-view+json": {
       "model_id": "0300b9493e164d19a4957186962c167b",
       "version_major": 2,
       "version_minor": 0
      },
      "text/plain": [
       "Batches:   0%|          | 0/66 [00:00<?, ?it/s]"
      ]
     },
     "metadata": {},
     "output_type": "display_data"
    },
    {
     "name": "stdout",
     "output_type": "stream",
     "text": [
      "\n",
      "📝 Validation Dataset Columns: ['question', 'answer']\n",
      "📝 Test Dataset Columns: ['question', 'answer']\n",
      "\n",
      "🔍 Running evaluation on Validation dataset...\n",
      "\n",
      "🟢 Query: Stability of a Broker What if your broker goes bankrupt? Could you lose equity in your account?\n",
      "✅ Expected: The Securities Investor Protection Corporation is roughly analogous to the FDIC for investments. There are some important differences like a lack of 100 guarantee you get all of your funds back. The SIPC understands you invested knowing there was some risk, and therefore you take that same risk in getting your money from a failed brokerage. However there is still a level of commitment and trust that lessen the risk of investing in the wrong place. Also, do not typo the acronym at your work computer. In the US and perhaps elsewhere it is a racist term, and you are likely to get some bad search results. httpwww.sipc.orghowbrochure.cfm\n",
      "🤖 Predicted: Ill give the credit to Quid in the comments section of the question. You put out 10k, you got back 20k, thats a cash gain of 10k, how the asset was valued between your purchase and sale isnt relevant. From an accounting perspective, the company is the only party that is realizing the loss as they have sold the asset for 40K less than par. You the buyer, only get to see the initial buy and sale of such capital asset. Example A company purchases a car for 20,000 and after depreciation it is worth book valued at 2,000. It is then sold to a customer for 3,000. Does the customer realize a loss of 1,000? No. Does the company realize a gain of 1,000? Yes. Your bank analogy is flawed in two ways\n",
      "🧠 Matched FAQ Question: If I invest in a company that goes bankrupt, is that a gain or a loss?\n",
      "📊 Similarity Score: 0.57\n",
      "------------------------------------------------------------\n",
      "\n",
      "🟢 Query: Investment options for f1 visa students in USA\n",
      "✅ Expected: Theres no limitation on what you can invest in, including trading stocks as long as trading is not a business activity, like daytrading or investing for others. You just need to make sure you have a tax ID either ITIN or SSN and pay taxes on all the gains and dividends. Also, consider your home country tax laws, since youre still tax resident in your home country most likely.\n",
      "🤖 Predicted: You have a high risk tolerance? Then learn about exchange traded options, and futures. Or the variety of markets that governments have decided that people without high income are too stupid to invest in, not even kidding. It appears that a lot of this discussion about your risk profile and investing has centered around \"stocks\" and \"bonds\". The similarities being that they are assets issued by collections of humans corporations, with risk profiles based on the collective decisions of those humans. That doesnt even scratch the surface of the different kinds of asset classes to invest in. Bonds? boring. Bond futures? craziness happening over there  Also, there are potentially very favorable tax treatments for other asset classes. For instance, you mentioned your desire to hold an investment for over a year for tax reasons... well EVERY FUTURES TRADE gets that kind of tax treatment partially, whether you hold it for one day or more, see the 6040 rule. A rebuttal being that some of these asset classes should be left to professionals. Stocks are no different in that regards. Either educate yourself or stick with the managed 401k funds.\n",
      "🧠 Matched FAQ Question: Ideal investments for a recent college grad with very high risk tolerance?\n",
      "📊 Similarity Score: 0.57\n",
      "------------------------------------------------------------\n",
      "\n",
      "🟢 Query: Prices go up and salary doesnt where goes delta?\n",
      "✅ Expected: I expected a word or two on the price elasticity of demand here  Andrey, Your question needs slight revision in its current form. Rising prices actually do not mean increased profitability for a company. The quantity they sell also pays a huge part and actually is correlated to the price at which they sell the goods and other factors such as the price at which their competitor sells the goods etc., but we will ignore it for simplicity. The net profit of sales for any firm is equal to Qty x Sale Price  COGS  SGA  taxes  other expenses where, COGS means cost of goods sold SGA means sales, general and admin costs e.g., cleaning the inventory storage area daily so that the goods stay fresh etc. other expenses include any miscellaneous other costs that the firm incurs to make the sale. Now, if everything in that equation remains same COGS, SGA, taxes, and other expenditures, rising prices will only translate into a higher profit if the quantity does not fall by the same margin. Prices may also rise simply as a response to risking COGS, SGA or other expenditures the latter may be observed in inflationary environments. In such a case, the supplying firm can end up losing its profit margin if the quantity falls by more than the price rise.\n",
      "🤖 Predicted: One of the byproducts of free trade is that there is now a global labor market. So companies routinely review their operations and think strategically about where the company is going. Standard options are Because the disincentives that once existed in the past are gone the need for humans to do work, tariffs, regulation, poor infrastructure in the developing world, the available supply of labor is greater and demand lower  thus wages are falling in real terms. Think in the simplest terms in an office environment. In 1980 to make photocopies, you needed a Xerox machine that required a technician on site every couple of weeks to make adjustments, change toner, etc. There was probably a local rep you called to schedule breakfix serivce. Now technology has replaced that copy machine with a cheap multifunction device that requires no maintenance and any technical support is delivered by a person sitting in a Indian call center. So to answer your question, the incremental money from rising prices goes to a number a places. Alot of it goes to oil producers and other commodity producers. Much of it consists of indirect costs that fulfill other mandated services  when you buy something, buried in that cost are things like health insurance, prescription drugs and school taxes.\n",
      "🧠 Matched FAQ Question: Prices go up and salary doesnt where goes delta?\n",
      "📊 Similarity Score: 1.00\n",
      "------------------------------------------------------------\n",
      "\n",
      "🟢 Query: Was this a good deal on a mortgage?\n",
      "✅ Expected: Some part of the payment is probably also going for tax escrow, insurance payments, probably PMI if you arent putting at least 20 down. Get a complete breakdown of the costs. Remember to budget for upkeep. And please see past discussion of why buying a home at this point in your careerlife may be very, very premature.\n",
      "🤖 Predicted: Im calculating that to about a 7 apr, which given loan rates available today seems a bit high. I wouldnt get too caught up on what that equates to over the life of the loan. There are a lot of forces in play over a 30 year period, namely the time value of money. 30 years from now a dollar will be less valuable in real terms due to the forces of inflation. At 2 per year in inflation todays 1 will be worth about 0.55 in 30 years.\n",
      "🧠 Matched FAQ Question: Was this a good deal on a mortgage?\n",
      "📊 Similarity Score: 1.00\n",
      "------------------------------------------------------------\n",
      "\n",
      "🟢 Query: Why do banks require small businesses to open a business bank account instead of a cheaper personal one?\n",
      "✅ Expected: You could, but the bank wont let you... If youre a sole proprietor  then you could probably open a personal account and just use it, and never tell them that is actually a business. However, depending on your volume of operations, they may switch you on their own to business account by the pattern of your transactions. For corporations, you cannot use a personal account since the corporation is a separate legal entity that owns the funds. Also, youre generally required to separate corporate and personal funds to keep the limited liability protection which is why you have the corporation to begin with. Generally, business accounts have much higher volumes and much more transactions than personal accounts, and it costs more for the banks to run them. In the US, some banks offer free, or very lowcost, business accounts for small businesses that dont need too many transactions. Im sure if you shop around, youll find those in Canada as well.\n",
      "🤖 Predicted: From my experience, I opened a business account to handle my LLC which owns a rental property. The account process and features were similar to shopping for a personal checking account. There would be fees for falling below a minimum balance, and for wanting a paper statement. In my case, keeping 2000 avoids the fee, and I pull the statements online and save the PDFs. Once open for a certain amount of time, you might be able to get credit extended based on the money that flows through that account. The online access is similar to my personal checking, as is the sending of payments electronically.\n",
      "🧠 Matched FAQ Question: What should one look for when opening a business bank account?\n",
      "📊 Similarity Score: 0.73\n",
      "------------------------------------------------------------\n",
      "\n",
      "✅ Validation Accuracy: 0.00% (0/2581)\n",
      "\n",
      "🔍 Running evaluation on Test dataset...\n",
      "\n",
      "🟢 Query: Company revenue increased however stock price did not\n",
      "✅ Expected: The company released its 2nd Quarter Revenue of 1,957,921 a couple days ago however the stock did not move up in any way. Why? If the company is making money shouldnt the stock go up. But that result doesnt indicate that the company is making money. The word for making money is profit, not revenue. Profit equals revenue minus costs. An increasing revenue could mean decreasing profits. For example, marketing expenses could eat up the entirety of the new revenue. This is one of the most basic aspects of researching stocks. If you are having trouble with this, you might find yourself better suited to invest in mutual funds, where they do this research for you. In particular, the safest kind of mutual funds for an inexperienced investor are index funds that track a major index, like the SP 500. Another issue is that stock prices arent based on historical results but on expected future results. Many a company has reported smaller than expected profits and had their price fall even though profits increased from previous results. Looking at it long term would it hurt me in anyway to buy 100,000 shares which right now would run be about 24 including to fee and sit on it? It would cost you 24. You might get a return some day. Or you might waste your money. Given the comparatively large upside, the consensus seems to be that you will probably waste your money. That said, its not a lot of money to waste. So it wont hurt you that much. The most likely result remains that the company will go bankrupt, leaving your stock worthless.\n",
      "🤖 Predicted: The company released its 2nd Quarter Revenue of 1,957,921 a couple days ago however the stock did not move up in any way. Why? If the company is making money shouldnt the stock go up. But that result doesnt indicate that the company is making money. The word for making money is profit, not revenue. Profit equals revenue minus costs. An increasing revenue could mean decreasing profits. For example, marketing expenses could eat up the entirety of the new revenue. This is one of the most basic aspects of researching stocks. If you are having trouble with this, you might find yourself better suited to invest in mutual funds, where they do this research for you. In particular, the safest kind of mutual funds for an inexperienced investor are index funds that track a major index, like the SP 500. Another issue is that stock prices arent based on historical results but on expected future results. Many a company has reported smaller than expected profits and had their price fall even though profits increased from previous results. Looking at it long term would it hurt me in anyway to buy 100,000 shares which right now would run be about 24 including to fee and sit on it? It would cost you 24. You might get a return some day. Or you might waste your money. Given the comparatively large upside, the consensus seems to be that you will probably waste your money. That said, its not a lot of money to waste. So it wont hurt you that much. The most likely result remains that the company will go bankrupt, leaving your stock worthless.\n",
      "🧠 Matched FAQ Question: Company revenue increased however stock price did not\n",
      "📊 Similarity Score: 1.00\n",
      "------------------------------------------------------------\n",
      "\n",
      "🟢 Query: Should I invest in my house, when its in my wifes name?\n",
      "✅ Expected: If you are concerned about it being inequitable due to the prenuptial agreement, discuss the idea of amending the prenuptial agreement to give you some consideration for your investments in the house. Prenuptial agreements often get amended over the course of a marriage. How do you proceed? It has to start with discussion. Its not an unreasonable concern given your legal separation of assets, so broach the subject and go from there. Perhaps youll find theres a good reason for you to invest in the property even without having interest in it, who knows.\n",
      "🤖 Predicted: If you are concerned about it being inequitable due to the prenuptial agreement, discuss the idea of amending the prenuptial agreement to give you some consideration for your investments in the house. Prenuptial agreements often get amended over the course of a marriage. How do you proceed? It has to start with discussion. Its not an unreasonable concern given your legal separation of assets, so broach the subject and go from there. Perhaps youll find theres a good reason for you to invest in the property even without having interest in it, who knows.\n",
      "🧠 Matched FAQ Question: Should I invest in my house, when its in my wifes name?\n",
      "📊 Similarity Score: 1.00\n",
      "------------------------------------------------------------\n",
      "\n",
      "🟢 Query: Proscons for buying gold vs. saving money in an interestbased account?\n",
      "✅ Expected: Just because gold performed that well in the past does not mean it will perform that well in the future. Im not saying you should or should not buy gold, but the mere fact that it went up a lot recently is not sufficient reason to buy it. Also note that on the house, an investment that accrues continuous interest for 30 years at an annual rate of about 7.7 will multiply by a factor of 10 in 30 years. That rate is pretty high by todays standards, but it might have been more feasible in the past I dont know historical interest rates very well. Yet again note that the fact that houses went up a lot over the last 30 years does not mean they will continue to do so.\n",
      "🤖 Predicted: Just because gold performed that well in the past does not mean it will perform that well in the future. Im not saying you should or should not buy gold, but the mere fact that it went up a lot recently is not sufficient reason to buy it. Also note that on the house, an investment that accrues continuous interest for 30 years at an annual rate of about 7.7 will multiply by a factor of 10 in 30 years. That rate is pretty high by todays standards, but it might have been more feasible in the past I dont know historical interest rates very well. Yet again note that the fact that houses went up a lot over the last 30 years does not mean they will continue to do so.\n",
      "🧠 Matched FAQ Question: Proscons for buying gold vs. saving money in an interestbased account?\n",
      "📊 Similarity Score: 1.00\n",
      "------------------------------------------------------------\n",
      "\n",
      "🟢 Query: still have mortgage on old house to be torn down want to build new house\n",
      "✅ Expected: I could be wrong, but I doubt youre going to be able to roll the current mortgage into a new one. The problem is that the bank is going to require that the new loan is fully collateralized by the new house. So the only way that you can ensure that is if you can construct the house cheaply enough that the difference between the construction cost and the end market value is enough to cover the current loan AND keep the loantovalue LTV low enough that the bank is secured. So say you currently owe 40k on your mortgage, and you want to build a house that will be worth 200k. In order to avoid PMI, youre going to have to have an LTV of 80 or less, which means that you can spend no more than 160k to build the house. If you want to roll the existing loan in, now you have to build for less than 120k, and theres no way that you can build a 200k house for 120k unless you live in an area with very high land value and hire the builders directly and even then it may not be possible. Otherwise youre going to have to make up the difference in cash. When you tear down a house, you are essentially throwing away the value of the house  when you have a mortgage on the house, you throw away that value plus you still owe the money, which is a difficult hole to climb out of. A better solution might be to try and sell the house asis, perhaps to someone else who can tear down the house and rebuild with cash. If that is not a viable option or you dont want to move then you might consider a home equity loan to renovate parts of the house, provided that they increase the market value enough to justify the cost e.g. modernize the kitchen, add on a room, remodel bathrooms, etc. So it all depends on what the house is worth today asis, how much it will cost you to rebuild, and what the value of the new house will be.\n",
      "🤖 Predicted: I could be wrong, but I doubt youre going to be able to roll the current mortgage into a new one. The problem is that the bank is going to require that the new loan is fully collateralized by the new house. So the only way that you can ensure that is if you can construct the house cheaply enough that the difference between the construction cost and the end market value is enough to cover the current loan AND keep the loantovalue LTV low enough that the bank is secured. So say you currently owe 40k on your mortgage, and you want to build a house that will be worth 200k. In order to avoid PMI, youre going to have to have an LTV of 80 or less, which means that you can spend no more than 160k to build the house. If you want to roll the existing loan in, now you have to build for less than 120k, and theres no way that you can build a 200k house for 120k unless you live in an area with very high land value and hire the builders directly and even then it may not be possible. Otherwise youre going to have to make up the difference in cash. When you tear down a house, you are essentially throwing away the value of the house  when you have a mortgage on the house, you throw away that value plus you still owe the money, which is a difficult hole to climb out of. A better solution might be to try and sell the house asis, perhaps to someone else who can tear down the house and rebuild with cash. If that is not a viable option or you dont want to move then you might consider a home equity loan to renovate parts of the house, provided that they increase the market value enough to justify the cost e.g. modernize the kitchen, add on a room, remodel bathrooms, etc. So it all depends on what the house is worth today asis, how much it will cost you to rebuild, and what the value of the new house will be.\n",
      "🧠 Matched FAQ Question: still have mortgage on old house to be torn down want to build new house\n",
      "📊 Similarity Score: 1.00\n",
      "------------------------------------------------------------\n",
      "\n",
      "🟢 Query: Deal with stock PSEC\n",
      "✅ Expected: It looks like it has to deal with an expiration of rights as a taxable event. I found this link via google, which states that Not only does the PSEC shareholder have a TAXABLE EVENT, but he has TWO taxable events. The net effect of these two taxable events has DIFFERENT CONSEQUENCES for DIFFERENT SHAREHOLDERS depending upon their peculiar TAX SITUATIONS. The CORRECT STATEMENT of the tax treatment of unexercised PYLDR rights is in the N2 on page 32, which reads in relevant part as follows , if you receive a Subscription Right from PSEC and do not sell or exercise that right before it expires, you should generally expect to have 1 taxable dividend income equal to the fair market value if any of the Subscription Right on the date of its distribution by PSEC to the extent of PSECs current and accumulated earnings and profits and 2 a capital loss upon the expiration of such right in an amount equal to your adjusted tax basis if any in such right which should generally equal the fair market value if any of the Subscription Right on the date of its distribution by PSEC. Please note, for quarterly estimated taxes purposes, that the DIVIDEND taxable events occur ON THE DATE OF ITS DISTRIBUTION BY PSEC my emphasis, while the CAPITAL LOSS occurs UPON EXPIRATION OF SUCH RIGHT my emphasis. They do NOT occur on 31 December 2015 or some other date. However, to my knowledge, neither of the taxable events he mentions would be taxed by 415. If you are worried about it, I would recommend seeing a tax professional. Otherwise Id wait to see the tax forms sent by your brokerage.\n",
      "🤖 Predicted: It looks like it has to deal with an expiration of rights as a taxable event. I found this link via google, which states that Not only does the PSEC shareholder have a TAXABLE EVENT, but he has TWO taxable events. The net effect of these two taxable events has DIFFERENT CONSEQUENCES for DIFFERENT SHAREHOLDERS depending upon their peculiar TAX SITUATIONS. The CORRECT STATEMENT of the tax treatment of unexercised PYLDR rights is in the N2 on page 32, which reads in relevant part as follows , if you receive a Subscription Right from PSEC and do not sell or exercise that right before it expires, you should generally expect to have 1 taxable dividend income equal to the fair market value if any of the Subscription Right on the date of its distribution by PSEC to the extent of PSECs current and accumulated earnings and profits and 2 a capital loss upon the expiration of such right in an amount equal to your adjusted tax basis if any in such right which should generally equal the fair market value if any of the Subscription Right on the date of its distribution by PSEC. Please note, for quarterly estimated taxes purposes, that the DIVIDEND taxable events occur ON THE DATE OF ITS DISTRIBUTION BY PSEC my emphasis, while the CAPITAL LOSS occurs UPON EXPIRATION OF SUCH RIGHT my emphasis. They do NOT occur on 31 December 2015 or some other date. However, to my knowledge, neither of the taxable events he mentions would be taxed by 415. If you are worried about it, I would recommend seeing a tax professional. Otherwise Id wait to see the tax forms sent by your brokerage.\n",
      "🧠 Matched FAQ Question: Deal with stock PSEC\n",
      "📊 Similarity Score: 1.00\n",
      "------------------------------------------------------------\n",
      "\n",
      "✅ Test Accuracy: 0.19% (5/2582)\n"
     ]
    }
   ],
   "source": []
  },
  {
   "cell_type": "markdown",
   "metadata": {},
   "source": [
    "# Fine Tuning"
   ]
  },
  {
   "cell_type": "code",
   "execution_count": 29,
   "metadata": {},
   "outputs": [],
   "source": [
    "from sentence_transformers import InputExample, losses\n",
    "from torch.utils.data import DataLoader\n",
    "\n",
    "# Combine validation + FAQ questions for training examples\n",
    "train_examples = []\n",
    "\n",
    "for i, row in validation_df.iterrows():\n",
    "    user_question = row['question'].strip()\n",
    "    faq_question = row['question'].strip()  # Assuming ground truth is from same column\n",
    "    train_examples.append(InputExample(texts=[user_question, faq_question]))\n"
   ]
  },
  {
   "cell_type": "code",
   "execution_count": 30,
   "metadata": {},
   "outputs": [],
   "source": [
    "train_dataloader = DataLoader(train_examples, shuffle=True, batch_size=8)\n",
    "train_loss = losses.CosineSimilarityLoss(model=model)\n"
   ]
  },
  {
   "cell_type": "code",
   "execution_count": 33,
   "metadata": {},
   "outputs": [
    {
     "data": {
      "application/vnd.jupyter.widget-view+json": {
       "model_id": "13fb7999cd2545ddac8bf5415e9f5e21",
       "version_major": 2,
       "version_minor": 0
      },
      "text/plain": [
       "Computing widget examples:   0%|          | 0/1 [00:00<?, ?example/s]"
      ]
     },
     "metadata": {},
     "output_type": "display_data"
    },
    {
     "data": {
      "text/html": [
       "\n",
       "    <div>\n",
       "      \n",
       "      <progress value='646' max='646' style='width:300px; height:20px; vertical-align: middle;'></progress>\n",
       "      [646/646 22:51, Epoch 2/2]\n",
       "    </div>\n",
       "    <table border=\"1\" class=\"dataframe\">\n",
       "  <thead>\n",
       " <tr style=\"text-align: left;\">\n",
       "      <th>Step</th>\n",
       "      <th>Training Loss</th>\n",
       "    </tr>\n",
       "  </thead>\n",
       "  <tbody>\n",
       "    <tr>\n",
       "      <td>500</td>\n",
       "      <td>0.096400</td>\n",
       "    </tr>\n",
       "  </tbody>\n",
       "</table><p>"
      ],
      "text/plain": [
       "<IPython.core.display.HTML object>"
      ]
     },
     "metadata": {},
     "output_type": "display_data"
    }
   ],
   "source": [
    "from sentence_transformers import SentenceTransformer, InputExample, losses\n",
    "from torch.utils.data import DataLoader\n",
    "import pandas as pd\n",
    "import random\n",
    "\n",
    "# Load your dataset\n",
    "faq_df = pd.read_csv(\"/Users/tshmacm1172/Desktop/DimowKay_FinBot/test_data.csv\")  # Replace with your actual file path\n",
    "\n",
    "# Load a pre-trained sentence transformer model\n",
    "model = SentenceTransformer('all-MiniLM-L6-v2')\n",
    "\n",
    "# Prepare training examples\n",
    "train_examples = []\n",
    "\n",
    "# Positive examples (correct Q&A pairs)\n",
    "for i in range(len(faq_df)):\n",
    "    question = faq_df.loc[i, 'question']\n",
    "    answer = faq_df.loc[i, 'answer']\n",
    "    train_examples.append(InputExample(texts=[question, answer], label=1.0))\n",
    "\n",
    "# Negative examples (mismatched Q&A pairs)\n",
    "for _ in range(len(faq_df)):\n",
    "    q_idx = random.randint(0, len(faq_df)-1)\n",
    "    a_idx = random.randint(0, len(faq_df)-1)\n",
    "    if q_idx != a_idx:\n",
    "        q = faq_df.loc[q_idx, 'question']\n",
    "        a = faq_df.loc[a_idx, 'answer']\n",
    "        train_examples.append(InputExample(texts=[q, a], label=0.0))\n",
    "\n",
    "# Create a DataLoader\n",
    "train_dataloader = DataLoader(train_examples, shuffle=True, batch_size=16)\n",
    "\n",
    "# Define the loss function\n",
    "train_loss = losses.CosineSimilarityLoss(model=model)\n",
    "\n",
    "# Fine-tune the model\n",
    "model.fit(\n",
    "    train_objectives=[(train_dataloader, train_loss)],\n",
    "    epochs=2,\n",
    "    warmup_steps=10,\n",
    "    show_progress_bar=True\n",
    ")\n",
    "\n",
    "# Save the fine-tuned model\n",
    "model.save(\"fine_tuned_faq_model\")\n"
   ]
  },
  {
   "cell_type": "code",
   "execution_count": 36,
   "metadata": {},
   "outputs": [],
   "source": [
    "from sentence_transformers import SentenceTransformer, InputExample, losses, evaluation\n",
    "from torch.utils.data import DataLoader\n",
    "import pandas as pd"
   ]
  },
  {
   "cell_type": "code",
   "execution_count": null,
   "metadata": {},
   "outputs": [],
   "source": [
    "from sentence_transformers import SentenceTransformer, InputExample, losses, evaluation\n",
    "from torch.utils.data import DataLoader\n",
    "import pandas as pd\n",
    "\n",
    "# Load datasets\n",
    "train_df = pd.read_csv(\"train.csv\")\n",
    "val_df = pd.read_csv(\"val.csv\")\n",
    "\n",
    "# Convert to InputExample format\n",
    "train_examples = [InputExample(texts=[row['sentence1'], row['sentence2']], label=float(row['label'])) for _, row in train_df.iterrows()]\n",
    "val_examples = [InputExample(texts=[row['sentence1'], row['sentence2']], label=float(row['label'])) for _, row in val_df.iterrows()]\n",
    "\n",
    "# DataLoader\n",
    "train_dataloader = DataLoader(train_examples, shuffle=True, batch_size=16)\n",
    "\n",
    "# Initialize model and loss function\n",
    "model = SentenceTransformer(\"all-MiniLM-L6-v2\")\n",
    "train_loss = losses.CosineSimilarityLoss(model)\n",
    "\n",
    "# Validation evaluator\n",
    "val_evaluator = evaluation.EmbeddingSimilarityEvaluator.from_input_examples(val_examples, name=\"val-eval\")\n",
    "\n",
    "# Train the model\n",
    "model.fit(\n",
    "    train_objectives=[(train_dataloader, train_loss)],\n",
    "    evaluator=val_evaluator,\n",
    "    epochs=2,\n",
    "    warmup_steps=10,\n",
    "    show_progress_bar=True,\n",
    "    output_path=\"fine_tuned_faq_model\"\n",
    ")\n"
   ]
  },
  {
   "cell_type": "code",
   "execution_count": 37,
   "metadata": {},
   "outputs": [
    {
     "data": {
      "text/plain": [
       "{'train-eval_pearson_cosine': 0.8907513432641854,\n",
       " 'train-eval_spearman_cosine': 0.8497179552157973}"
      ]
     },
     "execution_count": 37,
     "metadata": {},
     "output_type": "execute_result"
    }
   ],
   "source": [
    "# Evaluate on Training Set\n",
    "train_evaluator = evaluation.EmbeddingSimilarityEvaluator.from_input_examples(train_examples, name=\"train-eval\")\n",
    "train_evaluator(model)\n"
   ]
  },
  {
   "cell_type": "code",
   "execution_count": null,
   "metadata": {},
   "outputs": [],
   "source": [
    "# Evaluate on Validation Set\n",
    "val_evaluator = evaluation.EmbeddingSimilarityEvaluator.from_input_examples(val_examples, name=\"val-eval\")\n",
    "val_evaluator(model)\n"
   ]
  },
  {
   "cell_type": "code",
   "execution_count": null,
   "metadata": {},
   "outputs": [],
   "source": [
    "from sentence_transformers import util\n",
    "\n",
    "def evaluate_binary_accuracy(examples, threshold=0.5):\n",
    "    correct = 0\n",
    "    total = len(examples)\n",
    "\n",
    "    for example in examples:\n",
    "        emb1 = model.encode(example.texts[0], convert_to_tensor=True)\n",
    "        emb2 = model.encode(example.texts[1], convert_to_tensor=True)\n",
    "        score = util.cos_sim(emb1, emb2).item()\n",
    "        pred = 1 if score > threshold else 0\n",
    "        if pred == int(example.label):\n",
    "            correct += 1\n",
    "\n",
    "    accuracy = correct / total\n",
    "    print(f\"Binary Accuracy: {accuracy:.4f} (Threshold: {threshold})\")\n",
    "\n",
    "# Evaluate binary accuracy on training and validation sets\n",
    "evaluate_binary_accuracy(train_examples)\n",
    "evaluate_binary_accuracy(val_examples)\n"
=======
      "text/html": [
       "<div>\n",
       "<style scoped>\n",
       "    .dataframe tbody tr th:only-of-type {\n",
       "        vertical-align: middle;\n",
       "    }\n",
       "\n",
       "    .dataframe tbody tr th {\n",
       "        vertical-align: top;\n",
       "    }\n",
       "\n",
       "    .dataframe thead th {\n",
       "        text-align: right;\n",
       "    }\n",
       "</style>\n",
       "<table border=\"1\" class=\"dataframe\">\n",
       "  <thead>\n",
       "    <tr style=\"text-align: right;\">\n",
       "      <th></th>\n",
       "      <th>question</th>\n",
       "      <th>answer</th>\n",
       "      <th>word_token_question</th>\n",
       "      <th>word_token_answer</th>\n",
       "      <th>lemmatized_token_question</th>\n",
       "      <th>lemmatized_token_answer</th>\n",
       "      <th>subword_token_question</th>\n",
       "      <th>subword_token_answer</th>\n",
       "      <th>sentence_tokenized_questions</th>\n",
       "      <th>sentence_tokenized_answers</th>\n",
       "    </tr>\n",
       "  </thead>\n",
       "  <tbody>\n",
       "    <tr>\n",
       "      <th>0</th>\n",
       "      <td>would i ever need credit card if my debit card...</td>\n",
       "      <td>skimmers are most likely at gas station pumps....</td>\n",
       "      <td>[would, i, ever, need, credit, card, if, my, d...</td>\n",
       "      <td>[skimmers, are, most, likely, at, gas, station...</td>\n",
       "      <td>[would, I, ever, need, credit, card, if, my, d...</td>\n",
       "      <td>[skimmer, be, most, likely, at, gas, station, ...</td>\n",
       "      <td>[would, Ġi, Ġever, Ġneed, Ġcredit, Ġcard, Ġif,...</td>\n",
       "      <td>[sk, immers, Ġare, Ġmost, Ġlikely, Ġat, Ġgas, ...</td>\n",
       "      <td>[would i ever need credit card if my debit car...</td>\n",
       "      <td>[skimmers are most likely at gas station pumps...</td>\n",
       "    </tr>\n",
       "    <tr>\n",
       "      <th>1</th>\n",
       "      <td>cheapest way to wire or withdraw money from us...</td>\n",
       "      <td>there is a number of cheaper online options th...</td>\n",
       "      <td>[cheapest, way, to, wire, or, withdraw, money,...</td>\n",
       "      <td>[there, is, a, number, of, cheaper, online, op...</td>\n",
       "      <td>[cheap, way, to, wire, or, withdraw, money, fr...</td>\n",
       "      <td>[there, be, a, number, of, cheap, online, opti...</td>\n",
       "      <td>[che, apest, Ġway, Ġto, Ġwire, Ġor, Ġwithdraw,...</td>\n",
       "      <td>[there, Ġis, Ġa, Ġnumber, Ġof, Ġcheaper, Ġonli...</td>\n",
       "      <td>[cheapest way to wire or withdraw money from u...</td>\n",
       "      <td>[there is a number of cheaper online options t...</td>\n",
       "    </tr>\n",
       "    <tr>\n",
       "      <th>2</th>\n",
       "      <td>how do i go about finding an honest  ethical f...</td>\n",
       "      <td>large and wellknown companies are typically a ...</td>\n",
       "      <td>[how, do, i, go, about, finding, an, honest, e...</td>\n",
       "      <td>[large, and, wellknown, companies, are, typica...</td>\n",
       "      <td>[how, do, I, go, about, find, an, honest,  , e...</td>\n",
       "      <td>[large, and, wellknown, company, be, typically...</td>\n",
       "      <td>[how, Ġdo, Ġi, Ġgo, Ġabout, Ġfinding, Ġan, Ġho...</td>\n",
       "      <td>[large, Ġand, Ġwell, known, Ġcompanies, Ġare, ...</td>\n",
       "      <td>[how do i go about finding an honest  ethical ...</td>\n",
       "      <td>[large and wellknown companies are typically a...</td>\n",
       "    </tr>\n",
       "    <tr>\n",
       "      <th>3</th>\n",
       "      <td>why invest in becoming a landlord</td>\n",
       "      <td>why does it make sense financially to buy prop...</td>\n",
       "      <td>[why, invest, in, becoming, a, landlord]</td>\n",
       "      <td>[why, does, it, make, sense, financially, to, ...</td>\n",
       "      <td>[why, invest, in, become, a, landlord]</td>\n",
       "      <td>[why, do, it, make, sense, financially, to, bu...</td>\n",
       "      <td>[why, Ġinvest, Ġin, Ġbecoming, Ġa, Ġlandlord]</td>\n",
       "      <td>[why, Ġdoes, Ġit, Ġmake, Ġsense, Ġfinancially,...</td>\n",
       "      <td>[why invest in becoming a landlord]</td>\n",
       "      <td>[why does it make sense financially to buy pro...</td>\n",
       "    </tr>\n",
       "    <tr>\n",
       "      <th>4</th>\n",
       "      <td>what could be the cause of a extreme highlow p...</td>\n",
       "      <td>often these types of trades fall into two diff...</td>\n",
       "      <td>[what, could, be, the, cause, of, a, extreme, ...</td>\n",
       "      <td>[often, these, types, of, trades, fall, into, ...</td>\n",
       "      <td>[what, could, be, the, cause, of, a, extreme, ...</td>\n",
       "      <td>[often, these, type, of, trade, fall, into, tw...</td>\n",
       "      <td>[what, Ġcould, Ġbe, Ġthe, Ġcause, Ġof, Ġa, Ġex...</td>\n",
       "      <td>[often, Ġthese, Ġtypes, Ġof, Ġtrades, Ġfall, Ġ...</td>\n",
       "      <td>[what could be the cause of a extreme highlow ...</td>\n",
       "      <td>[often these types of trades fall into two dif...</td>\n",
       "    </tr>\n",
       "    <tr>\n",
       "      <th>...</th>\n",
       "      <td>...</td>\n",
       "      <td>...</td>\n",
       "      <td>...</td>\n",
       "      <td>...</td>\n",
       "      <td>...</td>\n",
       "      <td>...</td>\n",
       "      <td>...</td>\n",
       "      <td>...</td>\n",
       "      <td>...</td>\n",
       "      <td>...</td>\n",
       "    </tr>\n",
       "    <tr>\n",
       "      <th>12042</th>\n",
       "      <td>what percent of my salary should i save</td>\n",
       "      <td>i disagree with the selected answer. theres no...</td>\n",
       "      <td>[what, percent, of, my, salary, should, i, save]</td>\n",
       "      <td>[i, disagree, with, the, selected, answer, ., ...</td>\n",
       "      <td>[what, percent, of, my, salary, should, I, save]</td>\n",
       "      <td>[I, disagree, with, the, select, answer, ., th...</td>\n",
       "      <td>[what, Ġpercent, Ġof, Ġmy, Ġsalary, Ġshould, Ġ...</td>\n",
       "      <td>[i, Ġdisagree, Ġwith, Ġthe, Ġselected, Ġanswer...</td>\n",
       "      <td>[what percent of my salary should i save]</td>\n",
       "      <td>[i disagree with the selected answer., theres ...</td>\n",
       "    </tr>\n",
       "    <tr>\n",
       "      <th>12043</th>\n",
       "      <td>why do people invest in mutual fund rather tha...</td>\n",
       "      <td>how on earth can you possibly know what is goi...</td>\n",
       "      <td>[why, do, people, invest, in, mutual, fund, ra...</td>\n",
       "      <td>[how, on, earth, can, you, possibly, know, wha...</td>\n",
       "      <td>[why, do, people, invest, in, mutual, fund, ra...</td>\n",
       "      <td>[how, on, earth, can, you, possibly, know, wha...</td>\n",
       "      <td>[why, Ġdo, Ġpeople, Ġinvest, Ġin, Ġmutual, Ġfu...</td>\n",
       "      <td>[how, Ġon, Ġearth, Ġcan, Ġyou, Ġpossibly, Ġkno...</td>\n",
       "      <td>[why do people invest in mutual fund rather th...</td>\n",
       "      <td>[how on earth can you possibly know what is go...</td>\n",
       "    </tr>\n",
       "    <tr>\n",
       "      <th>12044</th>\n",
       "      <td>what would happen if the euro currency went bust</td>\n",
       "      <td>each country would have to go back to its own ...</td>\n",
       "      <td>[what, would, happen, if, the, euro, currency,...</td>\n",
       "      <td>[each, country, would, have, to, go, back, to,...</td>\n",
       "      <td>[what, would, happen, if, the, euro, currency,...</td>\n",
       "      <td>[each, country, would, have, to, go, back, to,...</td>\n",
       "      <td>[what, Ġwould, Ġhappen, Ġif, Ġthe, Ġeuro, Ġcur...</td>\n",
       "      <td>[each, Ġcountry, Ġwould, Ġhave, Ġto, Ġgo, Ġbac...</td>\n",
       "      <td>[what would happen if the euro currency went b...</td>\n",
       "      <td>[each country would have to go back to its own...</td>\n",
       "    </tr>\n",
       "    <tr>\n",
       "      <th>12045</th>\n",
       "      <td>are credit cards not viewed as credit until yo...</td>\n",
       "      <td>theres a difference between missing a payment ...</td>\n",
       "      <td>[are, credit, cards, not, viewed, as, credit, ...</td>\n",
       "      <td>[theres, a, difference, between, missing, a, p...</td>\n",
       "      <td>[be, credit, card, not, view, as, credit, unti...</td>\n",
       "      <td>[there, s, a, difference, between, miss, a, pa...</td>\n",
       "      <td>[are, Ġcredit, Ġcards, Ġnot, Ġviewed, Ġas, Ġcr...</td>\n",
       "      <td>[the, res, Ġa, Ġdifference, Ġbetween, Ġmissing...</td>\n",
       "      <td>[are credit cards not viewed as credit until y...</td>\n",
       "      <td>[theres a difference between missing a payment...</td>\n",
       "    </tr>\n",
       "    <tr>\n",
       "      <th>12046</th>\n",
       "      <td>does the stock market create any sort of value</td>\n",
       "      <td>when you own stock in a company you do literal...</td>\n",
       "      <td>[does, the, stock, market, create, any, sort, ...</td>\n",
       "      <td>[when, you, own, stock, in, a, company, you, d...</td>\n",
       "      <td>[do, the, stock, market, create, any, sort, of...</td>\n",
       "      <td>[when, you, own, stock, in, a, company, you, d...</td>\n",
       "      <td>[does, Ġthe, Ġstock, Ġmarket, Ġcreate, Ġany, Ġ...</td>\n",
       "      <td>[when, Ġyou, Ġown, Ġstock, Ġin, Ġa, Ġcompany, ...</td>\n",
       "      <td>[does the stock market create any sort of value]</td>\n",
       "      <td>[when you own stock in a company you do litera...</td>\n",
       "    </tr>\n",
       "  </tbody>\n",
       "</table>\n",
       "<p>12047 rows × 10 columns</p>\n",
       "</div>"
      ],
      "text/plain": [
       "                                                question  \\\n",
       "0      would i ever need credit card if my debit card...   \n",
       "1      cheapest way to wire or withdraw money from us...   \n",
       "2      how do i go about finding an honest  ethical f...   \n",
       "3                      why invest in becoming a landlord   \n",
       "4      what could be the cause of a extreme highlow p...   \n",
       "...                                                  ...   \n",
       "12042            what percent of my salary should i save   \n",
       "12043  why do people invest in mutual fund rather tha...   \n",
       "12044   what would happen if the euro currency went bust   \n",
       "12045  are credit cards not viewed as credit until yo...   \n",
       "12046     does the stock market create any sort of value   \n",
       "\n",
       "                                                  answer  \\\n",
       "0      skimmers are most likely at gas station pumps....   \n",
       "1      there is a number of cheaper online options th...   \n",
       "2      large and wellknown companies are typically a ...   \n",
       "3      why does it make sense financially to buy prop...   \n",
       "4      often these types of trades fall into two diff...   \n",
       "...                                                  ...   \n",
       "12042  i disagree with the selected answer. theres no...   \n",
       "12043  how on earth can you possibly know what is goi...   \n",
       "12044  each country would have to go back to its own ...   \n",
       "12045  theres a difference between missing a payment ...   \n",
       "12046  when you own stock in a company you do literal...   \n",
       "\n",
       "                                     word_token_question  \\\n",
       "0      [would, i, ever, need, credit, card, if, my, d...   \n",
       "1      [cheapest, way, to, wire, or, withdraw, money,...   \n",
       "2      [how, do, i, go, about, finding, an, honest, e...   \n",
       "3               [why, invest, in, becoming, a, landlord]   \n",
       "4      [what, could, be, the, cause, of, a, extreme, ...   \n",
       "...                                                  ...   \n",
       "12042   [what, percent, of, my, salary, should, i, save]   \n",
       "12043  [why, do, people, invest, in, mutual, fund, ra...   \n",
       "12044  [what, would, happen, if, the, euro, currency,...   \n",
       "12045  [are, credit, cards, not, viewed, as, credit, ...   \n",
       "12046  [does, the, stock, market, create, any, sort, ...   \n",
       "\n",
       "                                       word_token_answer  \\\n",
       "0      [skimmers, are, most, likely, at, gas, station...   \n",
       "1      [there, is, a, number, of, cheaper, online, op...   \n",
       "2      [large, and, wellknown, companies, are, typica...   \n",
       "3      [why, does, it, make, sense, financially, to, ...   \n",
       "4      [often, these, types, of, trades, fall, into, ...   \n",
       "...                                                  ...   \n",
       "12042  [i, disagree, with, the, selected, answer, ., ...   \n",
       "12043  [how, on, earth, can, you, possibly, know, wha...   \n",
       "12044  [each, country, would, have, to, go, back, to,...   \n",
       "12045  [theres, a, difference, between, missing, a, p...   \n",
       "12046  [when, you, own, stock, in, a, company, you, d...   \n",
       "\n",
       "                               lemmatized_token_question  \\\n",
       "0      [would, I, ever, need, credit, card, if, my, d...   \n",
       "1      [cheap, way, to, wire, or, withdraw, money, fr...   \n",
       "2      [how, do, I, go, about, find, an, honest,  , e...   \n",
       "3                 [why, invest, in, become, a, landlord]   \n",
       "4      [what, could, be, the, cause, of, a, extreme, ...   \n",
       "...                                                  ...   \n",
       "12042   [what, percent, of, my, salary, should, I, save]   \n",
       "12043  [why, do, people, invest, in, mutual, fund, ra...   \n",
       "12044  [what, would, happen, if, the, euro, currency,...   \n",
       "12045  [be, credit, card, not, view, as, credit, unti...   \n",
       "12046  [do, the, stock, market, create, any, sort, of...   \n",
       "\n",
       "                                 lemmatized_token_answer  \\\n",
       "0      [skimmer, be, most, likely, at, gas, station, ...   \n",
       "1      [there, be, a, number, of, cheap, online, opti...   \n",
       "2      [large, and, wellknown, company, be, typically...   \n",
       "3      [why, do, it, make, sense, financially, to, bu...   \n",
       "4      [often, these, type, of, trade, fall, into, tw...   \n",
       "...                                                  ...   \n",
       "12042  [I, disagree, with, the, select, answer, ., th...   \n",
       "12043  [how, on, earth, can, you, possibly, know, wha...   \n",
       "12044  [each, country, would, have, to, go, back, to,...   \n",
       "12045  [there, s, a, difference, between, miss, a, pa...   \n",
       "12046  [when, you, own, stock, in, a, company, you, d...   \n",
       "\n",
       "                                  subword_token_question  \\\n",
       "0      [would, Ġi, Ġever, Ġneed, Ġcredit, Ġcard, Ġif,...   \n",
       "1      [che, apest, Ġway, Ġto, Ġwire, Ġor, Ġwithdraw,...   \n",
       "2      [how, Ġdo, Ġi, Ġgo, Ġabout, Ġfinding, Ġan, Ġho...   \n",
       "3          [why, Ġinvest, Ġin, Ġbecoming, Ġa, Ġlandlord]   \n",
       "4      [what, Ġcould, Ġbe, Ġthe, Ġcause, Ġof, Ġa, Ġex...   \n",
       "...                                                  ...   \n",
       "12042  [what, Ġpercent, Ġof, Ġmy, Ġsalary, Ġshould, Ġ...   \n",
       "12043  [why, Ġdo, Ġpeople, Ġinvest, Ġin, Ġmutual, Ġfu...   \n",
       "12044  [what, Ġwould, Ġhappen, Ġif, Ġthe, Ġeuro, Ġcur...   \n",
       "12045  [are, Ġcredit, Ġcards, Ġnot, Ġviewed, Ġas, Ġcr...   \n",
       "12046  [does, Ġthe, Ġstock, Ġmarket, Ġcreate, Ġany, Ġ...   \n",
       "\n",
       "                                    subword_token_answer  \\\n",
       "0      [sk, immers, Ġare, Ġmost, Ġlikely, Ġat, Ġgas, ...   \n",
       "1      [there, Ġis, Ġa, Ġnumber, Ġof, Ġcheaper, Ġonli...   \n",
       "2      [large, Ġand, Ġwell, known, Ġcompanies, Ġare, ...   \n",
       "3      [why, Ġdoes, Ġit, Ġmake, Ġsense, Ġfinancially,...   \n",
       "4      [often, Ġthese, Ġtypes, Ġof, Ġtrades, Ġfall, Ġ...   \n",
       "...                                                  ...   \n",
       "12042  [i, Ġdisagree, Ġwith, Ġthe, Ġselected, Ġanswer...   \n",
       "12043  [how, Ġon, Ġearth, Ġcan, Ġyou, Ġpossibly, Ġkno...   \n",
       "12044  [each, Ġcountry, Ġwould, Ġhave, Ġto, Ġgo, Ġbac...   \n",
       "12045  [the, res, Ġa, Ġdifference, Ġbetween, Ġmissing...   \n",
       "12046  [when, Ġyou, Ġown, Ġstock, Ġin, Ġa, Ġcompany, ...   \n",
       "\n",
       "                            sentence_tokenized_questions  \\\n",
       "0      [would i ever need credit card if my debit car...   \n",
       "1      [cheapest way to wire or withdraw money from u...   \n",
       "2      [how do i go about finding an honest  ethical ...   \n",
       "3                    [why invest in becoming a landlord]   \n",
       "4      [what could be the cause of a extreme highlow ...   \n",
       "...                                                  ...   \n",
       "12042          [what percent of my salary should i save]   \n",
       "12043  [why do people invest in mutual fund rather th...   \n",
       "12044  [what would happen if the euro currency went b...   \n",
       "12045  [are credit cards not viewed as credit until y...   \n",
       "12046   [does the stock market create any sort of value]   \n",
       "\n",
       "                              sentence_tokenized_answers  \n",
       "0      [skimmers are most likely at gas station pumps...  \n",
       "1      [there is a number of cheaper online options t...  \n",
       "2      [large and wellknown companies are typically a...  \n",
       "3      [why does it make sense financially to buy pro...  \n",
       "4      [often these types of trades fall into two dif...  \n",
       "...                                                  ...  \n",
       "12042  [i disagree with the selected answer., theres ...  \n",
       "12043  [how on earth can you possibly know what is go...  \n",
       "12044  [each country would have to go back to its own...  \n",
       "12045  [theres a difference between missing a payment...  \n",
       "12046  [when you own stock in a company you do litera...  \n",
       "\n",
       "[12047 rows x 10 columns]"
      ]
     },
     "execution_count": 49,
     "metadata": {},
     "output_type": "execute_result"
    }
   ],
   "source": [
    "df"
>>>>>>> main
   ]
  }
 ],
 "metadata": {
  "kernelspec": {
   "display_name": "Python 3",
   "language": "python",
   "name": "python3"
  },
  "language_info": {
   "codemirror_mode": {
    "name": "ipython",
    "version": 3
   },
   "file_extension": ".py",
   "mimetype": "text/x-python",
   "name": "python",
   "nbconvert_exporter": "python",
   "pygments_lexer": "ipython3",
   "version": "3.9.6"
  }
 },
 "nbformat": 4,
 "nbformat_minor": 2
}
