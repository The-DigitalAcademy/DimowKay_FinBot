{
 "cells": [
  {
   "cell_type": "code",
   "execution_count": 8,
   "metadata": {},
   "outputs": [
    {
     "ename": "RuntimeError",
     "evalue": "Failed to import transformers.models.auto.modeling_auto because of the following error (look up to see its traceback):\nFailed to import transformers.generation.utils because of the following error (look up to see its traceback):\ncannot import name 'csr_matrix' from 'scipy.sparse' (unknown location)",
     "output_type": "error",
     "traceback": [
      "\u001b[0;31m---------------------------------------------------------------------------\u001b[0m",
      "\u001b[0;31mImportError\u001b[0m                               Traceback (most recent call last)",
      "File \u001b[0;32m/opt/anaconda3/lib/python3.12/site-packages/transformers/utils/import_utils.py:1967\u001b[0m, in \u001b[0;36m_LazyModule._get_module\u001b[0;34m(self, module_name)\u001b[0m\n\u001b[1;32m   1966\u001b[0m \u001b[38;5;28;01mtry\u001b[39;00m:\n\u001b[0;32m-> 1967\u001b[0m     \u001b[38;5;28;01mreturn\u001b[39;00m importlib\u001b[38;5;241m.\u001b[39mimport_module(\u001b[38;5;124m\"\u001b[39m\u001b[38;5;124m.\u001b[39m\u001b[38;5;124m\"\u001b[39m \u001b[38;5;241m+\u001b[39m module_name, \u001b[38;5;28mself\u001b[39m\u001b[38;5;241m.\u001b[39m\u001b[38;5;18m__name__\u001b[39m)\n\u001b[1;32m   1968\u001b[0m \u001b[38;5;28;01mexcept\u001b[39;00m \u001b[38;5;167;01mException\u001b[39;00m \u001b[38;5;28;01mas\u001b[39;00m e:\n",
      "File \u001b[0;32m/opt/anaconda3/lib/python3.12/importlib/__init__.py:90\u001b[0m, in \u001b[0;36mimport_module\u001b[0;34m(name, package)\u001b[0m\n\u001b[1;32m     89\u001b[0m         level \u001b[38;5;241m+\u001b[39m\u001b[38;5;241m=\u001b[39m \u001b[38;5;241m1\u001b[39m\n\u001b[0;32m---> 90\u001b[0m \u001b[38;5;28;01mreturn\u001b[39;00m _bootstrap\u001b[38;5;241m.\u001b[39m_gcd_import(name[level:], package, level)\n",
      "File \u001b[0;32m<frozen importlib._bootstrap>:1387\u001b[0m, in \u001b[0;36m_gcd_import\u001b[0;34m(name, package, level)\u001b[0m\n",
      "File \u001b[0;32m<frozen importlib._bootstrap>:1360\u001b[0m, in \u001b[0;36m_find_and_load\u001b[0;34m(name, import_)\u001b[0m\n",
      "File \u001b[0;32m<frozen importlib._bootstrap>:1331\u001b[0m, in \u001b[0;36m_find_and_load_unlocked\u001b[0;34m(name, import_)\u001b[0m\n",
      "File \u001b[0;32m<frozen importlib._bootstrap>:935\u001b[0m, in \u001b[0;36m_load_unlocked\u001b[0;34m(spec)\u001b[0m\n",
      "File \u001b[0;32m<frozen importlib._bootstrap_external>:995\u001b[0m, in \u001b[0;36mexec_module\u001b[0;34m(self, module)\u001b[0m\n",
      "File \u001b[0;32m<frozen importlib._bootstrap>:488\u001b[0m, in \u001b[0;36m_call_with_frames_removed\u001b[0;34m(f, *args, **kwds)\u001b[0m\n",
      "File \u001b[0;32m/opt/anaconda3/lib/python3.12/site-packages/transformers/generation/utils.py:30\u001b[0m\n\u001b[1;32m     28\u001b[0m \u001b[38;5;28;01mfrom\u001b[39;00m \u001b[38;5;21;01mtorch\u001b[39;00m\u001b[38;5;21;01m.\u001b[39;00m\u001b[38;5;21;01mnn\u001b[39;00m \u001b[38;5;28;01mimport\u001b[39;00m functional \u001b[38;5;28;01mas\u001b[39;00m F\n\u001b[0;32m---> 30\u001b[0m \u001b[38;5;28;01mfrom\u001b[39;00m \u001b[38;5;21;01mtransformers\u001b[39;00m\u001b[38;5;21;01m.\u001b[39;00m\u001b[38;5;21;01mgeneration\u001b[39;00m\u001b[38;5;21;01m.\u001b[39;00m\u001b[38;5;21;01mcandidate_generator\u001b[39;00m \u001b[38;5;28;01mimport\u001b[39;00m AssistantVocabTranslatorCache\n\u001b[1;32m     32\u001b[0m \u001b[38;5;28;01mfrom\u001b[39;00m \u001b[38;5;21;01m.\u001b[39;00m\u001b[38;5;21;01m.\u001b[39;00m\u001b[38;5;21;01mcache_utils\u001b[39;00m \u001b[38;5;28;01mimport\u001b[39;00m (\n\u001b[1;32m     33\u001b[0m     Cache,\n\u001b[1;32m     34\u001b[0m     DynamicCache,\n\u001b[0;32m   (...)\u001b[0m\n\u001b[1;32m     38\u001b[0m     StaticCache,\n\u001b[1;32m     39\u001b[0m )\n",
      "File \u001b[0;32m/opt/anaconda3/lib/python3.12/site-packages/transformers/generation/candidate_generator.py:27\u001b[0m\n\u001b[1;32m     26\u001b[0m \u001b[38;5;28;01mif\u001b[39;00m is_sklearn_available():\n\u001b[0;32m---> 27\u001b[0m     \u001b[38;5;28;01mfrom\u001b[39;00m \u001b[38;5;21;01msklearn\u001b[39;00m\u001b[38;5;21;01m.\u001b[39;00m\u001b[38;5;21;01mmetrics\u001b[39;00m \u001b[38;5;28;01mimport\u001b[39;00m roc_curve\n\u001b[1;32m     29\u001b[0m \u001b[38;5;28;01mfrom\u001b[39;00m \u001b[38;5;21;01m.\u001b[39;00m\u001b[38;5;21;01m.\u001b[39;00m\u001b[38;5;21;01mcache_utils\u001b[39;00m \u001b[38;5;28;01mimport\u001b[39;00m DynamicCache\n",
      "File \u001b[0;32m/opt/anaconda3/lib/python3.12/site-packages/sklearn/metrics/__init__.py:7\u001b[0m\n\u001b[1;32m      1\u001b[0m \u001b[38;5;124;03m\"\"\"\u001b[39;00m\n\u001b[1;32m      2\u001b[0m \u001b[38;5;124;03mThe :mod:`sklearn.metrics` module includes score functions, performance metrics\u001b[39;00m\n\u001b[1;32m      3\u001b[0m \u001b[38;5;124;03mand pairwise metrics and distance computations.\u001b[39;00m\n\u001b[1;32m      4\u001b[0m \u001b[38;5;124;03m\"\"\"\u001b[39;00m\n\u001b[0;32m----> 7\u001b[0m \u001b[38;5;28;01mfrom\u001b[39;00m \u001b[38;5;21;01m.\u001b[39;00m\u001b[38;5;21;01m_ranking\u001b[39;00m \u001b[38;5;28;01mimport\u001b[39;00m auc\n\u001b[1;32m      8\u001b[0m \u001b[38;5;28;01mfrom\u001b[39;00m \u001b[38;5;21;01m.\u001b[39;00m\u001b[38;5;21;01m_ranking\u001b[39;00m \u001b[38;5;28;01mimport\u001b[39;00m average_precision_score\n",
      "File \u001b[0;32m/opt/anaconda3/lib/python3.12/site-packages/sklearn/metrics/_ranking.py:26\u001b[0m\n\u001b[1;32m     25\u001b[0m \u001b[38;5;28;01mimport\u001b[39;00m \u001b[38;5;21;01mnumpy\u001b[39;00m \u001b[38;5;28;01mas\u001b[39;00m \u001b[38;5;21;01mnp\u001b[39;00m\n\u001b[0;32m---> 26\u001b[0m \u001b[38;5;28;01mfrom\u001b[39;00m \u001b[38;5;21;01mscipy\u001b[39;00m\u001b[38;5;21;01m.\u001b[39;00m\u001b[38;5;21;01msparse\u001b[39;00m \u001b[38;5;28;01mimport\u001b[39;00m csr_matrix, issparse\n\u001b[1;32m     27\u001b[0m \u001b[38;5;28;01mfrom\u001b[39;00m \u001b[38;5;21;01mscipy\u001b[39;00m\u001b[38;5;21;01m.\u001b[39;00m\u001b[38;5;21;01mstats\u001b[39;00m \u001b[38;5;28;01mimport\u001b[39;00m rankdata\n",
      "\u001b[0;31mImportError\u001b[0m: cannot import name 'csr_matrix' from 'scipy.sparse' (unknown location)",
      "\nThe above exception was the direct cause of the following exception:\n",
      "\u001b[0;31mRuntimeError\u001b[0m                              Traceback (most recent call last)",
      "File \u001b[0;32m/opt/anaconda3/lib/python3.12/site-packages/transformers/utils/import_utils.py:1967\u001b[0m, in \u001b[0;36m_LazyModule._get_module\u001b[0;34m(self, module_name)\u001b[0m\n\u001b[1;32m   1966\u001b[0m \u001b[38;5;28;01mtry\u001b[39;00m:\n\u001b[0;32m-> 1967\u001b[0m     \u001b[38;5;28;01mreturn\u001b[39;00m importlib\u001b[38;5;241m.\u001b[39mimport_module(\u001b[38;5;124m\"\u001b[39m\u001b[38;5;124m.\u001b[39m\u001b[38;5;124m\"\u001b[39m \u001b[38;5;241m+\u001b[39m module_name, \u001b[38;5;28mself\u001b[39m\u001b[38;5;241m.\u001b[39m\u001b[38;5;18m__name__\u001b[39m)\n\u001b[1;32m   1968\u001b[0m \u001b[38;5;28;01mexcept\u001b[39;00m \u001b[38;5;167;01mException\u001b[39;00m \u001b[38;5;28;01mas\u001b[39;00m e:\n",
      "File \u001b[0;32m/opt/anaconda3/lib/python3.12/importlib/__init__.py:90\u001b[0m, in \u001b[0;36mimport_module\u001b[0;34m(name, package)\u001b[0m\n\u001b[1;32m     89\u001b[0m         level \u001b[38;5;241m+\u001b[39m\u001b[38;5;241m=\u001b[39m \u001b[38;5;241m1\u001b[39m\n\u001b[0;32m---> 90\u001b[0m \u001b[38;5;28;01mreturn\u001b[39;00m _bootstrap\u001b[38;5;241m.\u001b[39m_gcd_import(name[level:], package, level)\n",
      "File \u001b[0;32m<frozen importlib._bootstrap>:1387\u001b[0m, in \u001b[0;36m_gcd_import\u001b[0;34m(name, package, level)\u001b[0m\n",
      "File \u001b[0;32m<frozen importlib._bootstrap>:1360\u001b[0m, in \u001b[0;36m_find_and_load\u001b[0;34m(name, import_)\u001b[0m\n",
      "File \u001b[0;32m<frozen importlib._bootstrap>:1331\u001b[0m, in \u001b[0;36m_find_and_load_unlocked\u001b[0;34m(name, import_)\u001b[0m\n",
      "File \u001b[0;32m<frozen importlib._bootstrap>:935\u001b[0m, in \u001b[0;36m_load_unlocked\u001b[0;34m(spec)\u001b[0m\n",
      "File \u001b[0;32m<frozen importlib._bootstrap_external>:995\u001b[0m, in \u001b[0;36mexec_module\u001b[0;34m(self, module)\u001b[0m\n",
      "File \u001b[0;32m<frozen importlib._bootstrap>:488\u001b[0m, in \u001b[0;36m_call_with_frames_removed\u001b[0;34m(f, *args, **kwds)\u001b[0m\n",
      "File \u001b[0;32m/opt/anaconda3/lib/python3.12/site-packages/transformers/models/auto/modeling_auto.py:21\u001b[0m\n\u001b[1;32m     20\u001b[0m \u001b[38;5;28;01mfrom\u001b[39;00m \u001b[38;5;21;01m.\u001b[39;00m\u001b[38;5;21;01m.\u001b[39;00m\u001b[38;5;21;01m.\u001b[39;00m\u001b[38;5;21;01mutils\u001b[39;00m \u001b[38;5;28;01mimport\u001b[39;00m logging\n\u001b[0;32m---> 21\u001b[0m \u001b[38;5;28;01mfrom\u001b[39;00m \u001b[38;5;21;01m.\u001b[39;00m\u001b[38;5;21;01mauto_factory\u001b[39;00m \u001b[38;5;28;01mimport\u001b[39;00m (\n\u001b[1;32m     22\u001b[0m     _BaseAutoBackboneClass,\n\u001b[1;32m     23\u001b[0m     _BaseAutoModelClass,\n\u001b[1;32m     24\u001b[0m     _LazyAutoMapping,\n\u001b[1;32m     25\u001b[0m     auto_class_update,\n\u001b[1;32m     26\u001b[0m )\n\u001b[1;32m     27\u001b[0m \u001b[38;5;28;01mfrom\u001b[39;00m \u001b[38;5;21;01m.\u001b[39;00m\u001b[38;5;21;01mconfiguration_auto\u001b[39;00m \u001b[38;5;28;01mimport\u001b[39;00m CONFIG_MAPPING_NAMES\n",
      "File \u001b[0;32m/opt/anaconda3/lib/python3.12/site-packages/transformers/models/auto/auto_factory.py:40\u001b[0m\n\u001b[1;32m     39\u001b[0m \u001b[38;5;28;01mif\u001b[39;00m is_torch_available():\n\u001b[0;32m---> 40\u001b[0m     \u001b[38;5;28;01mfrom\u001b[39;00m \u001b[38;5;21;01m.\u001b[39;00m\u001b[38;5;21;01m.\u001b[39;00m\u001b[38;5;21;01m.\u001b[39;00m\u001b[38;5;21;01mgeneration\u001b[39;00m \u001b[38;5;28;01mimport\u001b[39;00m GenerationMixin\n\u001b[1;32m     43\u001b[0m logger \u001b[38;5;241m=\u001b[39m logging\u001b[38;5;241m.\u001b[39mget_logger(\u001b[38;5;18m__name__\u001b[39m)\n",
      "File \u001b[0;32m<frozen importlib._bootstrap>:1412\u001b[0m, in \u001b[0;36m_handle_fromlist\u001b[0;34m(module, fromlist, import_, recursive)\u001b[0m\n",
      "File \u001b[0;32m/opt/anaconda3/lib/python3.12/site-packages/transformers/utils/import_utils.py:1955\u001b[0m, in \u001b[0;36m_LazyModule.__getattr__\u001b[0;34m(self, name)\u001b[0m\n\u001b[1;32m   1954\u001b[0m \u001b[38;5;28;01melif\u001b[39;00m name \u001b[38;5;129;01min\u001b[39;00m \u001b[38;5;28mself\u001b[39m\u001b[38;5;241m.\u001b[39m_class_to_module\u001b[38;5;241m.\u001b[39mkeys():\n\u001b[0;32m-> 1955\u001b[0m     module \u001b[38;5;241m=\u001b[39m \u001b[38;5;28mself\u001b[39m\u001b[38;5;241m.\u001b[39m_get_module(\u001b[38;5;28mself\u001b[39m\u001b[38;5;241m.\u001b[39m_class_to_module[name])\n\u001b[1;32m   1956\u001b[0m     value \u001b[38;5;241m=\u001b[39m \u001b[38;5;28mgetattr\u001b[39m(module, name)\n",
      "File \u001b[0;32m/opt/anaconda3/lib/python3.12/site-packages/transformers/utils/import_utils.py:1969\u001b[0m, in \u001b[0;36m_LazyModule._get_module\u001b[0;34m(self, module_name)\u001b[0m\n\u001b[1;32m   1968\u001b[0m \u001b[38;5;28;01mexcept\u001b[39;00m \u001b[38;5;167;01mException\u001b[39;00m \u001b[38;5;28;01mas\u001b[39;00m e:\n\u001b[0;32m-> 1969\u001b[0m     \u001b[38;5;28;01mraise\u001b[39;00m \u001b[38;5;167;01mRuntimeError\u001b[39;00m(\n\u001b[1;32m   1970\u001b[0m         \u001b[38;5;124mf\u001b[39m\u001b[38;5;124m\"\u001b[39m\u001b[38;5;124mFailed to import \u001b[39m\u001b[38;5;132;01m{\u001b[39;00m\u001b[38;5;28mself\u001b[39m\u001b[38;5;241m.\u001b[39m\u001b[38;5;18m__name__\u001b[39m\u001b[38;5;132;01m}\u001b[39;00m\u001b[38;5;124m.\u001b[39m\u001b[38;5;132;01m{\u001b[39;00mmodule_name\u001b[38;5;132;01m}\u001b[39;00m\u001b[38;5;124m because of the following error (look up to see its\u001b[39m\u001b[38;5;124m\"\u001b[39m\n\u001b[1;32m   1971\u001b[0m         \u001b[38;5;124mf\u001b[39m\u001b[38;5;124m\"\u001b[39m\u001b[38;5;124m traceback):\u001b[39m\u001b[38;5;130;01m\\n\u001b[39;00m\u001b[38;5;132;01m{\u001b[39;00me\u001b[38;5;132;01m}\u001b[39;00m\u001b[38;5;124m\"\u001b[39m\n\u001b[1;32m   1972\u001b[0m     ) \u001b[38;5;28;01mfrom\u001b[39;00m \u001b[38;5;21;01me\u001b[39;00m\n",
      "\u001b[0;31mRuntimeError\u001b[0m: Failed to import transformers.generation.utils because of the following error (look up to see its traceback):\ncannot import name 'csr_matrix' from 'scipy.sparse' (unknown location)",
      "\nThe above exception was the direct cause of the following exception:\n",
      "\u001b[0;31mRuntimeError\u001b[0m                              Traceback (most recent call last)",
      "Cell \u001b[0;32mIn[8], line 4\u001b[0m\n\u001b[1;32m      2\u001b[0m \u001b[38;5;28;01mimport\u001b[39;00m \u001b[38;5;21;01mnumpy\u001b[39;00m \u001b[38;5;28;01mas\u001b[39;00m \u001b[38;5;21;01mnp\u001b[39;00m\n\u001b[1;32m      3\u001b[0m \u001b[38;5;66;03m#from sklearn.metrics.pairwise import cosine_similarity\u001b[39;00m\n\u001b[0;32m----> 4\u001b[0m \u001b[38;5;28;01mfrom\u001b[39;00m \u001b[38;5;21;01msentence_transformers\u001b[39;00m \u001b[38;5;28;01mimport\u001b[39;00m SentenceTransformer, InputExample, losses\n\u001b[1;32m      5\u001b[0m \u001b[38;5;28;01mfrom\u001b[39;00m \u001b[38;5;21;01mtorch\u001b[39;00m\u001b[38;5;21;01m.\u001b[39;00m\u001b[38;5;21;01mutils\u001b[39;00m\u001b[38;5;21;01m.\u001b[39;00m\u001b[38;5;21;01mdata\u001b[39;00m \u001b[38;5;28;01mimport\u001b[39;00m DataLoader\n\u001b[1;32m      6\u001b[0m \u001b[38;5;28;01mimport\u001b[39;00m \u001b[38;5;21;01mrandom\u001b[39;00m\n",
      "File \u001b[0;32m/opt/anaconda3/lib/python3.12/site-packages/sentence_transformers/__init__.py:14\u001b[0m\n\u001b[1;32m      7\u001b[0m \u001b[38;5;28;01mimport\u001b[39;00m \u001b[38;5;21;01mos\u001b[39;00m\n\u001b[1;32m      9\u001b[0m \u001b[38;5;28;01mfrom\u001b[39;00m \u001b[38;5;21;01msentence_transformers\u001b[39;00m\u001b[38;5;21;01m.\u001b[39;00m\u001b[38;5;21;01mbackend\u001b[39;00m \u001b[38;5;28;01mimport\u001b[39;00m (\n\u001b[1;32m     10\u001b[0m     export_dynamic_quantized_onnx_model,\n\u001b[1;32m     11\u001b[0m     export_optimized_onnx_model,\n\u001b[1;32m     12\u001b[0m     export_static_quantized_openvino_model,\n\u001b[1;32m     13\u001b[0m )\n\u001b[0;32m---> 14\u001b[0m \u001b[38;5;28;01mfrom\u001b[39;00m \u001b[38;5;21;01msentence_transformers\u001b[39;00m\u001b[38;5;21;01m.\u001b[39;00m\u001b[38;5;21;01mcross_encoder\u001b[39;00m \u001b[38;5;28;01mimport\u001b[39;00m (\n\u001b[1;32m     15\u001b[0m     CrossEncoder,\n\u001b[1;32m     16\u001b[0m     CrossEncoderModelCardData,\n\u001b[1;32m     17\u001b[0m     CrossEncoderTrainer,\n\u001b[1;32m     18\u001b[0m     CrossEncoderTrainingArguments,\n\u001b[1;32m     19\u001b[0m )\n\u001b[1;32m     20\u001b[0m \u001b[38;5;28;01mfrom\u001b[39;00m \u001b[38;5;21;01msentence_transformers\u001b[39;00m\u001b[38;5;21;01m.\u001b[39;00m\u001b[38;5;21;01mdatasets\u001b[39;00m \u001b[38;5;28;01mimport\u001b[39;00m ParallelSentencesDataset, SentencesDataset\n\u001b[1;32m     21\u001b[0m \u001b[38;5;28;01mfrom\u001b[39;00m \u001b[38;5;21;01msentence_transformers\u001b[39;00m\u001b[38;5;21;01m.\u001b[39;00m\u001b[38;5;21;01mLoggingHandler\u001b[39;00m \u001b[38;5;28;01mimport\u001b[39;00m LoggingHandler\n",
      "File \u001b[0;32m/opt/anaconda3/lib/python3.12/site-packages/sentence_transformers/cross_encoder/__init__.py:3\u001b[0m\n\u001b[1;32m      1\u001b[0m \u001b[38;5;28;01mfrom\u001b[39;00m \u001b[38;5;21;01m__future__\u001b[39;00m \u001b[38;5;28;01mimport\u001b[39;00m annotations\n\u001b[0;32m----> 3\u001b[0m \u001b[38;5;28;01mfrom\u001b[39;00m \u001b[38;5;21;01m.\u001b[39;00m\u001b[38;5;21;01mCrossEncoder\u001b[39;00m \u001b[38;5;28;01mimport\u001b[39;00m CrossEncoder\n\u001b[1;32m      4\u001b[0m \u001b[38;5;28;01mfrom\u001b[39;00m \u001b[38;5;21;01m.\u001b[39;00m\u001b[38;5;21;01mmodel_card\u001b[39;00m \u001b[38;5;28;01mimport\u001b[39;00m CrossEncoderModelCardData\n\u001b[1;32m      5\u001b[0m \u001b[38;5;28;01mfrom\u001b[39;00m \u001b[38;5;21;01m.\u001b[39;00m\u001b[38;5;21;01mtrainer\u001b[39;00m \u001b[38;5;28;01mimport\u001b[39;00m CrossEncoderTrainer\n",
      "File \u001b[0;32m/opt/anaconda3/lib/python3.12/site-packages/sentence_transformers/cross_encoder/CrossEncoder.py:15\u001b[0m\n\u001b[1;32m     13\u001b[0m \u001b[38;5;28;01mfrom\u001b[39;00m \u001b[38;5;21;01mtorch\u001b[39;00m \u001b[38;5;28;01mimport\u001b[39;00m nn\n\u001b[1;32m     14\u001b[0m \u001b[38;5;28;01mfrom\u001b[39;00m \u001b[38;5;21;01mtqdm\u001b[39;00m\u001b[38;5;21;01m.\u001b[39;00m\u001b[38;5;21;01mautonotebook\u001b[39;00m \u001b[38;5;28;01mimport\u001b[39;00m trange\n\u001b[0;32m---> 15\u001b[0m \u001b[38;5;28;01mfrom\u001b[39;00m \u001b[38;5;21;01mtransformers\u001b[39;00m \u001b[38;5;28;01mimport\u001b[39;00m (\n\u001b[1;32m     16\u001b[0m     AutoConfig,\n\u001b[1;32m     17\u001b[0m     AutoModelForSequenceClassification,\n\u001b[1;32m     18\u001b[0m     AutoTokenizer,\n\u001b[1;32m     19\u001b[0m     PretrainedConfig,\n\u001b[1;32m     20\u001b[0m     PreTrainedModel,\n\u001b[1;32m     21\u001b[0m )\n\u001b[1;32m     22\u001b[0m \u001b[38;5;28;01mfrom\u001b[39;00m \u001b[38;5;21;01mtransformers\u001b[39;00m\u001b[38;5;21;01m.\u001b[39;00m\u001b[38;5;21;01mutils\u001b[39;00m \u001b[38;5;28;01mimport\u001b[39;00m PushToHubMixin\n\u001b[1;32m     23\u001b[0m \u001b[38;5;28;01mfrom\u001b[39;00m \u001b[38;5;21;01mtyping_extensions\u001b[39;00m \u001b[38;5;28;01mimport\u001b[39;00m deprecated\n",
      "File \u001b[0;32m<frozen importlib._bootstrap>:1412\u001b[0m, in \u001b[0;36m_handle_fromlist\u001b[0;34m(module, fromlist, import_, recursive)\u001b[0m\n",
      "File \u001b[0;32m/opt/anaconda3/lib/python3.12/site-packages/transformers/utils/import_utils.py:1956\u001b[0m, in \u001b[0;36m_LazyModule.__getattr__\u001b[0;34m(self, name)\u001b[0m\n\u001b[1;32m   1954\u001b[0m \u001b[38;5;28;01melif\u001b[39;00m name \u001b[38;5;129;01min\u001b[39;00m \u001b[38;5;28mself\u001b[39m\u001b[38;5;241m.\u001b[39m_class_to_module\u001b[38;5;241m.\u001b[39mkeys():\n\u001b[1;32m   1955\u001b[0m     module \u001b[38;5;241m=\u001b[39m \u001b[38;5;28mself\u001b[39m\u001b[38;5;241m.\u001b[39m_get_module(\u001b[38;5;28mself\u001b[39m\u001b[38;5;241m.\u001b[39m_class_to_module[name])\n\u001b[0;32m-> 1956\u001b[0m     value \u001b[38;5;241m=\u001b[39m \u001b[38;5;28mgetattr\u001b[39m(module, name)\n\u001b[1;32m   1957\u001b[0m \u001b[38;5;28;01melif\u001b[39;00m name \u001b[38;5;129;01min\u001b[39;00m \u001b[38;5;28mself\u001b[39m\u001b[38;5;241m.\u001b[39m_modules:\n\u001b[1;32m   1958\u001b[0m     value \u001b[38;5;241m=\u001b[39m \u001b[38;5;28mself\u001b[39m\u001b[38;5;241m.\u001b[39m_get_module(name)\n",
      "File \u001b[0;32m/opt/anaconda3/lib/python3.12/site-packages/transformers/utils/import_utils.py:1955\u001b[0m, in \u001b[0;36m_LazyModule.__getattr__\u001b[0;34m(self, name)\u001b[0m\n\u001b[1;32m   1953\u001b[0m     value \u001b[38;5;241m=\u001b[39m Placeholder\n\u001b[1;32m   1954\u001b[0m \u001b[38;5;28;01melif\u001b[39;00m name \u001b[38;5;129;01min\u001b[39;00m \u001b[38;5;28mself\u001b[39m\u001b[38;5;241m.\u001b[39m_class_to_module\u001b[38;5;241m.\u001b[39mkeys():\n\u001b[0;32m-> 1955\u001b[0m     module \u001b[38;5;241m=\u001b[39m \u001b[38;5;28mself\u001b[39m\u001b[38;5;241m.\u001b[39m_get_module(\u001b[38;5;28mself\u001b[39m\u001b[38;5;241m.\u001b[39m_class_to_module[name])\n\u001b[1;32m   1956\u001b[0m     value \u001b[38;5;241m=\u001b[39m \u001b[38;5;28mgetattr\u001b[39m(module, name)\n\u001b[1;32m   1957\u001b[0m \u001b[38;5;28;01melif\u001b[39;00m name \u001b[38;5;129;01min\u001b[39;00m \u001b[38;5;28mself\u001b[39m\u001b[38;5;241m.\u001b[39m_modules:\n",
      "File \u001b[0;32m/opt/anaconda3/lib/python3.12/site-packages/transformers/utils/import_utils.py:1969\u001b[0m, in \u001b[0;36m_LazyModule._get_module\u001b[0;34m(self, module_name)\u001b[0m\n\u001b[1;32m   1967\u001b[0m     \u001b[38;5;28;01mreturn\u001b[39;00m importlib\u001b[38;5;241m.\u001b[39mimport_module(\u001b[38;5;124m\"\u001b[39m\u001b[38;5;124m.\u001b[39m\u001b[38;5;124m\"\u001b[39m \u001b[38;5;241m+\u001b[39m module_name, \u001b[38;5;28mself\u001b[39m\u001b[38;5;241m.\u001b[39m\u001b[38;5;18m__name__\u001b[39m)\n\u001b[1;32m   1968\u001b[0m \u001b[38;5;28;01mexcept\u001b[39;00m \u001b[38;5;167;01mException\u001b[39;00m \u001b[38;5;28;01mas\u001b[39;00m e:\n\u001b[0;32m-> 1969\u001b[0m     \u001b[38;5;28;01mraise\u001b[39;00m \u001b[38;5;167;01mRuntimeError\u001b[39;00m(\n\u001b[1;32m   1970\u001b[0m         \u001b[38;5;124mf\u001b[39m\u001b[38;5;124m\"\u001b[39m\u001b[38;5;124mFailed to import \u001b[39m\u001b[38;5;132;01m{\u001b[39;00m\u001b[38;5;28mself\u001b[39m\u001b[38;5;241m.\u001b[39m\u001b[38;5;18m__name__\u001b[39m\u001b[38;5;132;01m}\u001b[39;00m\u001b[38;5;124m.\u001b[39m\u001b[38;5;132;01m{\u001b[39;00mmodule_name\u001b[38;5;132;01m}\u001b[39;00m\u001b[38;5;124m because of the following error (look up to see its\u001b[39m\u001b[38;5;124m\"\u001b[39m\n\u001b[1;32m   1971\u001b[0m         \u001b[38;5;124mf\u001b[39m\u001b[38;5;124m\"\u001b[39m\u001b[38;5;124m traceback):\u001b[39m\u001b[38;5;130;01m\\n\u001b[39;00m\u001b[38;5;132;01m{\u001b[39;00me\u001b[38;5;132;01m}\u001b[39;00m\u001b[38;5;124m\"\u001b[39m\n\u001b[1;32m   1972\u001b[0m     ) \u001b[38;5;28;01mfrom\u001b[39;00m \u001b[38;5;21;01me\u001b[39;00m\n",
      "\u001b[0;31mRuntimeError\u001b[0m: Failed to import transformers.models.auto.modeling_auto because of the following error (look up to see its traceback):\nFailed to import transformers.generation.utils because of the following error (look up to see its traceback):\ncannot import name 'csr_matrix' from 'scipy.sparse' (unknown location)"
     ]
    }
   ],
   "source": [
    "import pandas as pd\n",
    "import numpy as np\n",
    "#from sklearn.metrics.pairwise import cosine_similarity\n",
    "from sentence_transformers import SentenceTransformer, InputExample, losses\n",
    "from torch.utils.data import DataLoader\n",
    "import random\n"
   ]
  },
  {
   "cell_type": "code",
   "execution_count": 7,
   "metadata": {},
   "outputs": [
    {
     "name": "stdout",
     "output_type": "stream",
     "text": [
      "Requirement already satisfied: transformers in /opt/anaconda3/lib/python3.12/site-packages (4.51.1)\n",
      "Requirement already satisfied: filelock in /opt/anaconda3/lib/python3.12/site-packages (from transformers) (3.18.0)\n",
      "Requirement already satisfied: huggingface-hub<1.0,>=0.30.0 in /opt/anaconda3/lib/python3.12/site-packages (from transformers) (0.30.2)\n",
      "Requirement already satisfied: numpy>=1.17 in /opt/anaconda3/lib/python3.12/site-packages (from transformers) (2.2.4)\n",
      "Requirement already satisfied: packaging>=20.0 in /opt/anaconda3/lib/python3.12/site-packages (from transformers) (24.2)\n",
      "Requirement already satisfied: pyyaml>=5.1 in /opt/anaconda3/lib/python3.12/site-packages (from transformers) (6.0.2)\n",
      "Requirement already satisfied: regex!=2019.12.17 in /opt/anaconda3/lib/python3.12/site-packages (from transformers) (2024.11.6)\n",
      "Requirement already satisfied: requests in /opt/anaconda3/lib/python3.12/site-packages (from transformers) (2.32.3)\n",
      "Requirement already satisfied: tokenizers<0.22,>=0.21 in /opt/anaconda3/lib/python3.12/site-packages (from transformers) (0.21.1)\n",
      "Requirement already satisfied: safetensors>=0.4.3 in /opt/anaconda3/lib/python3.12/site-packages (from transformers) (0.5.3)\n",
      "Requirement already satisfied: tqdm>=4.27 in /opt/anaconda3/lib/python3.12/site-packages (from transformers) (4.67.1)\n",
      "Requirement already satisfied: fsspec>=2023.5.0 in /opt/anaconda3/lib/python3.12/site-packages (from huggingface-hub<1.0,>=0.30.0->transformers) (2025.3.2)\n",
      "Requirement already satisfied: typing-extensions>=3.7.4.3 in /opt/anaconda3/lib/python3.12/site-packages (from huggingface-hub<1.0,>=0.30.0->transformers) (4.13.1)\n",
      "Requirement already satisfied: charset-normalizer<4,>=2 in /opt/anaconda3/lib/python3.12/site-packages (from requests->transformers) (3.4.1)\n",
      "Requirement already satisfied: idna<4,>=2.5 in /opt/anaconda3/lib/python3.12/site-packages (from requests->transformers) (3.10)\n",
      "Requirement already satisfied: urllib3<3,>=1.21.1 in /opt/anaconda3/lib/python3.12/site-packages (from requests->transformers) (2.3.0)\n",
      "Requirement already satisfied: certifi>=2017.4.17 in /opt/anaconda3/lib/python3.12/site-packages (from requests->transformers) (2025.1.31)\n",
      "Note: you may need to restart the kernel to use updated packages.\n"
     ]
    }
   ],
   "source": [
    "pip install transformers\n"
   ]
  },
  {
   "cell_type": "code",
   "execution_count": null,
   "metadata": {},
   "outputs": [],
   "source": [
    "faq_df = pd.read_csv('./data/train.csv')  \n",
    "faq_df.dropna(subset=['question', 'answer'], inplace=True)\n",
    "faq_df['question'] = faq_df['question'].str.strip()\n",
    "faq_df['answer'] = faq_df['answer'].str.strip()\n",
    "faq_df.drop_duplicates(subset='question', inplace=True)\n",
    "faq_df.reset_index(drop=True, inplace=True)\n",
    "\n",
    "faq_questions = faq_df['question'].tolist()\n",
    "faq_answers = faq_df['answer'].tolist()"
   ]
  },
  {
   "cell_type": "code",
   "execution_count": 3,
   "metadata": {},
   "outputs": [
    {
     "name": "stdout",
     "output_type": "stream",
     "text": [
      "🔄 Encoding FAQ questions...\n"
     ]
    },
    {
     "data": {
      "application/vnd.jupyter.widget-view+json": {
       "model_id": "4255ea1cf0074fd0b13d1d202e0a1dea",
       "version_major": 2,
       "version_minor": 0
      },
      "text/plain": [
       "Batches:   0%|          | 0/66 [00:00<?, ?it/s]"
      ]
     },
     "metadata": {},
     "output_type": "display_data"
    }
   ],
   "source": [
    "# -----------------------------------\n",
    "# STEP 2: Encode FAQ questions using BERT\n",
    "# -----------------------------------\n",
    "print(\"🔄 Encoding FAQ questions...\")\n",
    "model = SentenceTransformer('all-MiniLM-L6-v2')\n",
    "question_embeddings = model.encode(faq_questions, show_progress_bar=True)"
   ]
  },
  {
   "cell_type": "code",
   "execution_count": 4,
   "metadata": {},
   "outputs": [],
   "source": [
    "# -----------------------------------\n",
    "# STEP 3: Define response function\n",
    "# -----------------------------------\n",
    "def get_response_with_score(user_query):\n",
    "    query_embedding = model.encode([user_query])\n",
    "    similarities = cosine_similarity(query_embedding, question_embeddings)\n",
    "    best_idx = np.argmax(similarities)\n",
    "    best_score = similarities[0][best_idx]\n",
    "    return faq_answers[best_idx], faq_questions[best_idx], best_score"
   ]
  },
  {
   "cell_type": "code",
   "execution_count": null,
   "metadata": {},
   "outputs": [
    {
     "name": "stdout",
     "output_type": "stream",
     "text": [
      "\n",
      "📝 Validation Dataset Columns: ['question', 'answer']\n",
      "📝 Test Dataset Columns: ['question', 'answer']\n"
     ]
    }
   ],
   "source": [
    "\n",
    "validation_df = pd.read_csv('/Users/tshmacm1172/Desktop/DimowKay_FinBot/val_data.csv')  # your validation file with user queries\n",
    "test_df = pd.read_csv('/Users/tshmacm1172/Desktop/DimowKay_FinBot/test_data.csv')  # your test file with user queries\n",
    "\n",
    "print(\"\\n📝 Validation Dataset Columns:\", validation_df.columns.tolist())\n",
    "print(\"📝 Test Dataset Columns:\", test_df.columns.tolist())\n",
    "\n",
    "# Adjust these if your columns are named differently\n",
    "input_col = 'question'\n",
    "expected_col = 'answer'\n",
    "\n",
    "validation_df.dropna(subset=[input_col, expected_col], inplace=True)\n",
    "test_df.dropna(subset=[input_col, expected_col], inplace=True)"
   ]
  },
  {
   "cell_type": "code",
   "execution_count": null,
   "metadata": {},
   "outputs": [
    {
     "name": "stdout",
     "output_type": "stream",
     "text": [
      "\n",
      "🔍 Running evaluation on Validation dataset...\n",
      "\n",
      "🟢 Query: Stability of a Broker What if your broker goes bankrupt? Could you lose equity in your account?\n",
      "✅ Expected: The Securities Investor Protection Corporation is roughly analogous to the FDIC for investments. There are some important differences like a lack of 100 guarantee you get all of your funds back. The SIPC understands you invested knowing there was some risk, and therefore you take that same risk in getting your money from a failed brokerage. However there is still a level of commitment and trust that lessen the risk of investing in the wrong place. Also, do not typo the acronym at your work computer. In the US and perhaps elsewhere it is a racist term, and you are likely to get some bad search results. httpwww.sipc.orghowbrochure.cfm\n",
      "🤖 Predicted: Ill give the credit to Quid in the comments section of the question. You put out 10k, you got back 20k, thats a cash gain of 10k, how the asset was valued between your purchase and sale isnt relevant. From an accounting perspective, the company is the only party that is realizing the loss as they have sold the asset for 40K less than par. You the buyer, only get to see the initial buy and sale of such capital asset. Example A company purchases a car for 20,000 and after depreciation it is worth book valued at 2,000. It is then sold to a customer for 3,000. Does the customer realize a loss of 1,000? No. Does the company realize a gain of 1,000? Yes. Your bank analogy is flawed in two ways\n",
      "🧠 Matched FAQ Question: If I invest in a company that goes bankrupt, is that a gain or a loss?\n",
      "📊 Similarity Score: 0.57\n",
      "------------------------------------------------------------\n",
      "\n",
      "🟢 Query: Investment options for f1 visa students in USA\n",
      "✅ Expected: Theres no limitation on what you can invest in, including trading stocks as long as trading is not a business activity, like daytrading or investing for others. You just need to make sure you have a tax ID either ITIN or SSN and pay taxes on all the gains and dividends. Also, consider your home country tax laws, since youre still tax resident in your home country most likely.\n",
      "🤖 Predicted: You have a high risk tolerance? Then learn about exchange traded options, and futures. Or the variety of markets that governments have decided that people without high income are too stupid to invest in, not even kidding. It appears that a lot of this discussion about your risk profile and investing has centered around \"stocks\" and \"bonds\". The similarities being that they are assets issued by collections of humans corporations, with risk profiles based on the collective decisions of those humans. That doesnt even scratch the surface of the different kinds of asset classes to invest in. Bonds? boring. Bond futures? craziness happening over there  Also, there are potentially very favorable tax treatments for other asset classes. For instance, you mentioned your desire to hold an investment for over a year for tax reasons... well EVERY FUTURES TRADE gets that kind of tax treatment partially, whether you hold it for one day or more, see the 6040 rule. A rebuttal being that some of these asset classes should be left to professionals. Stocks are no different in that regards. Either educate yourself or stick with the managed 401k funds.\n",
      "🧠 Matched FAQ Question: Ideal investments for a recent college grad with very high risk tolerance?\n",
      "📊 Similarity Score: 0.57\n",
      "------------------------------------------------------------\n",
      "\n",
      "🟢 Query: Prices go up and salary doesnt where goes delta?\n",
      "✅ Expected: I expected a word or two on the price elasticity of demand here  Andrey, Your question needs slight revision in its current form. Rising prices actually do not mean increased profitability for a company. The quantity they sell also pays a huge part and actually is correlated to the price at which they sell the goods and other factors such as the price at which their competitor sells the goods etc., but we will ignore it for simplicity. The net profit of sales for any firm is equal to Qty x Sale Price  COGS  SGA  taxes  other expenses where, COGS means cost of goods sold SGA means sales, general and admin costs e.g., cleaning the inventory storage area daily so that the goods stay fresh etc. other expenses include any miscellaneous other costs that the firm incurs to make the sale. Now, if everything in that equation remains same COGS, SGA, taxes, and other expenditures, rising prices will only translate into a higher profit if the quantity does not fall by the same margin. Prices may also rise simply as a response to risking COGS, SGA or other expenditures the latter may be observed in inflationary environments. In such a case, the supplying firm can end up losing its profit margin if the quantity falls by more than the price rise.\n",
      "🤖 Predicted: One of the byproducts of free trade is that there is now a global labor market. So companies routinely review their operations and think strategically about where the company is going. Standard options are Because the disincentives that once existed in the past are gone the need for humans to do work, tariffs, regulation, poor infrastructure in the developing world, the available supply of labor is greater and demand lower  thus wages are falling in real terms. Think in the simplest terms in an office environment. In 1980 to make photocopies, you needed a Xerox machine that required a technician on site every couple of weeks to make adjustments, change toner, etc. There was probably a local rep you called to schedule breakfix serivce. Now technology has replaced that copy machine with a cheap multifunction device that requires no maintenance and any technical support is delivered by a person sitting in a Indian call center. So to answer your question, the incremental money from rising prices goes to a number a places. Alot of it goes to oil producers and other commodity producers. Much of it consists of indirect costs that fulfill other mandated services  when you buy something, buried in that cost are things like health insurance, prescription drugs and school taxes.\n",
      "🧠 Matched FAQ Question: Prices go up and salary doesnt where goes delta?\n",
      "📊 Similarity Score: 1.00\n",
      "------------------------------------------------------------\n",
      "\n",
      "🟢 Query: Was this a good deal on a mortgage?\n",
      "✅ Expected: Some part of the payment is probably also going for tax escrow, insurance payments, probably PMI if you arent putting at least 20 down. Get a complete breakdown of the costs. Remember to budget for upkeep. And please see past discussion of why buying a home at this point in your careerlife may be very, very premature.\n",
      "🤖 Predicted: Im calculating that to about a 7 apr, which given loan rates available today seems a bit high. I wouldnt get too caught up on what that equates to over the life of the loan. There are a lot of forces in play over a 30 year period, namely the time value of money. 30 years from now a dollar will be less valuable in real terms due to the forces of inflation. At 2 per year in inflation todays 1 will be worth about 0.55 in 30 years.\n",
      "🧠 Matched FAQ Question: Was this a good deal on a mortgage?\n",
      "📊 Similarity Score: 1.00\n",
      "------------------------------------------------------------\n",
      "\n",
      "🟢 Query: Why do banks require small businesses to open a business bank account instead of a cheaper personal one?\n",
      "✅ Expected: You could, but the bank wont let you... If youre a sole proprietor  then you could probably open a personal account and just use it, and never tell them that is actually a business. However, depending on your volume of operations, they may switch you on their own to business account by the pattern of your transactions. For corporations, you cannot use a personal account since the corporation is a separate legal entity that owns the funds. Also, youre generally required to separate corporate and personal funds to keep the limited liability protection which is why you have the corporation to begin with. Generally, business accounts have much higher volumes and much more transactions than personal accounts, and it costs more for the banks to run them. In the US, some banks offer free, or very lowcost, business accounts for small businesses that dont need too many transactions. Im sure if you shop around, youll find those in Canada as well.\n",
      "🤖 Predicted: From my experience, I opened a business account to handle my LLC which owns a rental property. The account process and features were similar to shopping for a personal checking account. There would be fees for falling below a minimum balance, and for wanting a paper statement. In my case, keeping 2000 avoids the fee, and I pull the statements online and save the PDFs. Once open for a certain amount of time, you might be able to get credit extended based on the money that flows through that account. The online access is similar to my personal checking, as is the sending of payments electronically.\n",
      "🧠 Matched FAQ Question: What should one look for when opening a business bank account?\n",
      "📊 Similarity Score: 0.73\n",
      "------------------------------------------------------------\n",
      "\n",
      "✅ Validation Accuracy: 0.00% (0/2581)\n",
      "\n",
      "🔍 Running evaluation on Test dataset...\n",
      "\n",
      "🟢 Query: Company revenue increased however stock price did not\n",
      "✅ Expected: The company released its 2nd Quarter Revenue of 1,957,921 a couple days ago however the stock did not move up in any way. Why? If the company is making money shouldnt the stock go up. But that result doesnt indicate that the company is making money. The word for making money is profit, not revenue. Profit equals revenue minus costs. An increasing revenue could mean decreasing profits. For example, marketing expenses could eat up the entirety of the new revenue. This is one of the most basic aspects of researching stocks. If you are having trouble with this, you might find yourself better suited to invest in mutual funds, where they do this research for you. In particular, the safest kind of mutual funds for an inexperienced investor are index funds that track a major index, like the SP 500. Another issue is that stock prices arent based on historical results but on expected future results. Many a company has reported smaller than expected profits and had their price fall even though profits increased from previous results. Looking at it long term would it hurt me in anyway to buy 100,000 shares which right now would run be about 24 including to fee and sit on it? It would cost you 24. You might get a return some day. Or you might waste your money. Given the comparatively large upside, the consensus seems to be that you will probably waste your money. That said, its not a lot of money to waste. So it wont hurt you that much. The most likely result remains that the company will go bankrupt, leaving your stock worthless.\n",
      "🤖 Predicted: The company released its 2nd Quarter Revenue of 1,957,921 a couple days ago however the stock did not move up in any way. Why? If the company is making money shouldnt the stock go up. But that result doesnt indicate that the company is making money. The word for making money is profit, not revenue. Profit equals revenue minus costs. An increasing revenue could mean decreasing profits. For example, marketing expenses could eat up the entirety of the new revenue. This is one of the most basic aspects of researching stocks. If you are having trouble with this, you might find yourself better suited to invest in mutual funds, where they do this research for you. In particular, the safest kind of mutual funds for an inexperienced investor are index funds that track a major index, like the SP 500. Another issue is that stock prices arent based on historical results but on expected future results. Many a company has reported smaller than expected profits and had their price fall even though profits increased from previous results. Looking at it long term would it hurt me in anyway to buy 100,000 shares which right now would run be about 24 including to fee and sit on it? It would cost you 24. You might get a return some day. Or you might waste your money. Given the comparatively large upside, the consensus seems to be that you will probably waste your money. That said, its not a lot of money to waste. So it wont hurt you that much. The most likely result remains that the company will go bankrupt, leaving your stock worthless.\n",
      "🧠 Matched FAQ Question: Company revenue increased however stock price did not\n",
      "📊 Similarity Score: 1.00\n",
      "------------------------------------------------------------\n",
      "\n",
      "🟢 Query: Should I invest in my house, when its in my wifes name?\n",
      "✅ Expected: If you are concerned about it being inequitable due to the prenuptial agreement, discuss the idea of amending the prenuptial agreement to give you some consideration for your investments in the house. Prenuptial agreements often get amended over the course of a marriage. How do you proceed? It has to start with discussion. Its not an unreasonable concern given your legal separation of assets, so broach the subject and go from there. Perhaps youll find theres a good reason for you to invest in the property even without having interest in it, who knows.\n",
      "🤖 Predicted: If you are concerned about it being inequitable due to the prenuptial agreement, discuss the idea of amending the prenuptial agreement to give you some consideration for your investments in the house. Prenuptial agreements often get amended over the course of a marriage. How do you proceed? It has to start with discussion. Its not an unreasonable concern given your legal separation of assets, so broach the subject and go from there. Perhaps youll find theres a good reason for you to invest in the property even without having interest in it, who knows.\n",
      "🧠 Matched FAQ Question: Should I invest in my house, when its in my wifes name?\n",
      "📊 Similarity Score: 1.00\n",
      "------------------------------------------------------------\n",
      "\n",
      "🟢 Query: Proscons for buying gold vs. saving money in an interestbased account?\n",
      "✅ Expected: Just because gold performed that well in the past does not mean it will perform that well in the future. Im not saying you should or should not buy gold, but the mere fact that it went up a lot recently is not sufficient reason to buy it. Also note that on the house, an investment that accrues continuous interest for 30 years at an annual rate of about 7.7 will multiply by a factor of 10 in 30 years. That rate is pretty high by todays standards, but it might have been more feasible in the past I dont know historical interest rates very well. Yet again note that the fact that houses went up a lot over the last 30 years does not mean they will continue to do so.\n",
      "🤖 Predicted: Just because gold performed that well in the past does not mean it will perform that well in the future. Im not saying you should or should not buy gold, but the mere fact that it went up a lot recently is not sufficient reason to buy it. Also note that on the house, an investment that accrues continuous interest for 30 years at an annual rate of about 7.7 will multiply by a factor of 10 in 30 years. That rate is pretty high by todays standards, but it might have been more feasible in the past I dont know historical interest rates very well. Yet again note that the fact that houses went up a lot over the last 30 years does not mean they will continue to do so.\n",
      "🧠 Matched FAQ Question: Proscons for buying gold vs. saving money in an interestbased account?\n",
      "📊 Similarity Score: 1.00\n",
      "------------------------------------------------------------\n",
      "\n",
      "🟢 Query: still have mortgage on old house to be torn down want to build new house\n",
      "✅ Expected: I could be wrong, but I doubt youre going to be able to roll the current mortgage into a new one. The problem is that the bank is going to require that the new loan is fully collateralized by the new house. So the only way that you can ensure that is if you can construct the house cheaply enough that the difference between the construction cost and the end market value is enough to cover the current loan AND keep the loantovalue LTV low enough that the bank is secured. So say you currently owe 40k on your mortgage, and you want to build a house that will be worth 200k. In order to avoid PMI, youre going to have to have an LTV of 80 or less, which means that you can spend no more than 160k to build the house. If you want to roll the existing loan in, now you have to build for less than 120k, and theres no way that you can build a 200k house for 120k unless you live in an area with very high land value and hire the builders directly and even then it may not be possible. Otherwise youre going to have to make up the difference in cash. When you tear down a house, you are essentially throwing away the value of the house  when you have a mortgage on the house, you throw away that value plus you still owe the money, which is a difficult hole to climb out of. A better solution might be to try and sell the house asis, perhaps to someone else who can tear down the house and rebuild with cash. If that is not a viable option or you dont want to move then you might consider a home equity loan to renovate parts of the house, provided that they increase the market value enough to justify the cost e.g. modernize the kitchen, add on a room, remodel bathrooms, etc. So it all depends on what the house is worth today asis, how much it will cost you to rebuild, and what the value of the new house will be.\n",
      "🤖 Predicted: I could be wrong, but I doubt youre going to be able to roll the current mortgage into a new one. The problem is that the bank is going to require that the new loan is fully collateralized by the new house. So the only way that you can ensure that is if you can construct the house cheaply enough that the difference between the construction cost and the end market value is enough to cover the current loan AND keep the loantovalue LTV low enough that the bank is secured. So say you currently owe 40k on your mortgage, and you want to build a house that will be worth 200k. In order to avoid PMI, youre going to have to have an LTV of 80 or less, which means that you can spend no more than 160k to build the house. If you want to roll the existing loan in, now you have to build for less than 120k, and theres no way that you can build a 200k house for 120k unless you live in an area with very high land value and hire the builders directly and even then it may not be possible. Otherwise youre going to have to make up the difference in cash. When you tear down a house, you are essentially throwing away the value of the house  when you have a mortgage on the house, you throw away that value plus you still owe the money, which is a difficult hole to climb out of. A better solution might be to try and sell the house asis, perhaps to someone else who can tear down the house and rebuild with cash. If that is not a viable option or you dont want to move then you might consider a home equity loan to renovate parts of the house, provided that they increase the market value enough to justify the cost e.g. modernize the kitchen, add on a room, remodel bathrooms, etc. So it all depends on what the house is worth today asis, how much it will cost you to rebuild, and what the value of the new house will be.\n",
      "🧠 Matched FAQ Question: still have mortgage on old house to be torn down want to build new house\n",
      "📊 Similarity Score: 1.00\n",
      "------------------------------------------------------------\n",
      "\n",
      "🟢 Query: Deal with stock PSEC\n",
      "✅ Expected: It looks like it has to deal with an expiration of rights as a taxable event. I found this link via google, which states that Not only does the PSEC shareholder have a TAXABLE EVENT, but he has TWO taxable events. The net effect of these two taxable events has DIFFERENT CONSEQUENCES for DIFFERENT SHAREHOLDERS depending upon their peculiar TAX SITUATIONS. The CORRECT STATEMENT of the tax treatment of unexercised PYLDR rights is in the N2 on page 32, which reads in relevant part as follows , if you receive a Subscription Right from PSEC and do not sell or exercise that right before it expires, you should generally expect to have 1 taxable dividend income equal to the fair market value if any of the Subscription Right on the date of its distribution by PSEC to the extent of PSECs current and accumulated earnings and profits and 2 a capital loss upon the expiration of such right in an amount equal to your adjusted tax basis if any in such right which should generally equal the fair market value if any of the Subscription Right on the date of its distribution by PSEC. Please note, for quarterly estimated taxes purposes, that the DIVIDEND taxable events occur ON THE DATE OF ITS DISTRIBUTION BY PSEC my emphasis, while the CAPITAL LOSS occurs UPON EXPIRATION OF SUCH RIGHT my emphasis. They do NOT occur on 31 December 2015 or some other date. However, to my knowledge, neither of the taxable events he mentions would be taxed by 415. If you are worried about it, I would recommend seeing a tax professional. Otherwise Id wait to see the tax forms sent by your brokerage.\n",
      "🤖 Predicted: It looks like it has to deal with an expiration of rights as a taxable event. I found this link via google, which states that Not only does the PSEC shareholder have a TAXABLE EVENT, but he has TWO taxable events. The net effect of these two taxable events has DIFFERENT CONSEQUENCES for DIFFERENT SHAREHOLDERS depending upon their peculiar TAX SITUATIONS. The CORRECT STATEMENT of the tax treatment of unexercised PYLDR rights is in the N2 on page 32, which reads in relevant part as follows , if you receive a Subscription Right from PSEC and do not sell or exercise that right before it expires, you should generally expect to have 1 taxable dividend income equal to the fair market value if any of the Subscription Right on the date of its distribution by PSEC to the extent of PSECs current and accumulated earnings and profits and 2 a capital loss upon the expiration of such right in an amount equal to your adjusted tax basis if any in such right which should generally equal the fair market value if any of the Subscription Right on the date of its distribution by PSEC. Please note, for quarterly estimated taxes purposes, that the DIVIDEND taxable events occur ON THE DATE OF ITS DISTRIBUTION BY PSEC my emphasis, while the CAPITAL LOSS occurs UPON EXPIRATION OF SUCH RIGHT my emphasis. They do NOT occur on 31 December 2015 or some other date. However, to my knowledge, neither of the taxable events he mentions would be taxed by 415. If you are worried about it, I would recommend seeing a tax professional. Otherwise Id wait to see the tax forms sent by your brokerage.\n",
      "🧠 Matched FAQ Question: Deal with stock PSEC\n",
      "📊 Similarity Score: 1.00\n",
      "------------------------------------------------------------\n",
      "\n",
      "✅ Test Accuracy: 0.19% (5/2582)\n"
     ]
    }
   ],
   "source": [
    "\n",
    "\n",
    "def evaluate_on_dataset(dataset, dataset_name):\n",
    "    print(f\"\\n🔍 Running evaluation on {dataset_name} dataset...\")\n",
    "    correct = 0\n",
    "    total = len(dataset)\n",
    "    for i in range(min(5, total)):\n",
    "        user_query = dataset.loc[i, input_col]\n",
    "        expected = dataset.loc[i, expected_col]\n",
    "\n",
    "        predicted_answer, matched_question, score = get_response_with_score(user_query)\n",
    "\n",
    "        print(f\"\\n Query: {user_query}\")\n",
    "        print(f\" Expected: {expected}\")\n",
    "        print(f\" Predicted: {predicted_answer}\")\n",
    "        print(f\" Matched FAQ Question: {matched_question}\")\n",
    "        print(f\" Similarity Score: {score:.2f}\")\n",
    "        print(\"-\" * 60)\n",
    "\n",
    "        if predicted_answer.strip().lower() == expected.strip().lower():\n",
    "            correct += 1\n",
    "    \n",
    "    accuracy = correct / total * 100\n",
    "    print(f\"\\n {dataset_name} Accuracy: {accuracy:.2f}% ({correct}/{total})\")\n",
    "\n",
    "# Evaluate on validation dataset\n",
    "evaluate_on_dataset(validation_df, 'Validation')\n",
    "\n",
    "# Evaluate on test dataset\n",
    "evaluate_on_dataset(test_df, 'Test')\n"
   ]
  },
  {
   "cell_type": "code",
   "execution_count": null,
   "metadata": {},
   "outputs": [
    {
     "data": {
      "application/vnd.jupyter.widget-view+json": {
       "model_id": "a77147cd9c204f8484a5d4a020c2b4dd",
       "version_major": 2,
       "version_minor": 0
      },
      "text/plain": [
       "Computing widget examples:   0%|          | 0/1 [00:00<?, ?example/s]"
      ]
     },
     "metadata": {},
     "output_type": "display_data"
    },
    {
     "data": {
      "text/html": [
       "\n",
       "    <div>\n",
       "      \n",
       "      <progress value='526' max='526' style='width:300px; height:20px; vertical-align: middle;'></progress>\n",
       "      [526/526 09:28, Epoch 2/2]\n",
       "    </div>\n",
       "    <table border=\"1\" class=\"dataframe\">\n",
       "  <thead>\n",
       " <tr style=\"text-align: left;\">\n",
       "      <th>Step</th>\n",
       "      <th>Training Loss</th>\n",
       "    </tr>\n",
       "  </thead>\n",
       "  <tbody>\n",
       "    <tr>\n",
       "      <td>500</td>\n",
       "      <td>0.094400</td>\n",
       "    </tr>\n",
       "  </tbody>\n",
       "</table><p>"
      ],
      "text/plain": [
       "<IPython.core.display.HTML object>"
      ]
     },
     "metadata": {},
     "output_type": "display_data"
    }
   ],
   "source": [
    "model = SentenceTransformer('all-MiniLM-L6-v2')\n",
    "\n",
    "\n",
    "train_examples = []\n",
    "\n",
    "\n",
    "for i in range(len(faq_df)):\n",
    "    question = faq_df.loc[i, 'question']\n",
    "    answer = faq_df.loc[i, 'answer']\n",
    "    train_examples.append(InputExample(texts=[question, answer], label=1.0))\n",
    "\n",
    "\n",
    "for _ in range(len(faq_df)):\n",
    "    q_idx = random.randint(0, len(faq_df)-1)\n",
    "    a_idx = random.randint(0, len(faq_df)-1)\n",
    "    if q_idx != a_idx:\n",
    "        q = faq_df.loc[q_idx, 'question']\n",
    "        a = faq_df.loc[a_idx, 'answer']\n",
    "        train_examples.append(InputExample(texts=[q, a], label=0.0))\n",
    "\n",
    "\n",
    "train_dataloader = DataLoader(train_examples, shuffle=True, batch_size=16)\n",
    "\n",
    "\n",
    "train_loss = losses.CosineSimilarityLoss(model=model)\n",
    "\n",
    "\n",
    "model.fit(\n",
    "    train_objectives=[(train_dataloader, train_loss)],\n",
    "    epochs=2,\n",
    "    warmup_steps=10,\n",
    "    show_progress_bar=True\n",
    ")\n",
    "\n",
    "\n",
    "model.save(\"fine_tuned_faq_model\")\n"
   ]
  },
  {
   "cell_type": "code",
   "execution_count": null,
   "metadata": {},
   "outputs": [
    {
     "name": "stdout",
     "output_type": "stream",
     "text": [
      "Evaluation Results:\n",
      "Accuracy: 0.9300\n",
      "F1 Score: 0.9278\n",
      "ROC AUC: 0.9775\n"
     ]
    }
   ],
   "source": [
    "from sentence_transformers import SentenceTransformer, util\n",
    "\n",
    "\n",
    "\n",
    "model = SentenceTransformer(\"fine_tuned_faq_model\")\n",
    "\n",
    "\n",
    "test_examples = []\n",
    "\n",
    "# Positive pairs\n",
    "for i in range(100):  # Choose smaller number if needed\n",
    "    question = faq_df.loc[i, 'question']\n",
    "    answer = faq_df.loc[i, 'answer']\n",
    "    test_examples.append((question, answer, 1.0))\n",
    "\n",
    "# Negative pairs\n",
    "for i in range(100):\n",
    "    q_idx = random.randint(0, len(faq_df) - 1)\n",
    "    a_idx = random.randint(0, len(faq_df) - 1)\n",
    "    if q_idx != a_idx:\n",
    "        q = faq_df.loc[q_idx, 'question']\n",
    "        a = faq_df.loc[a_idx, 'answer']\n",
    "        test_examples.append((q, a, 0.0))\n",
    "\n",
    "\n",
    "random.shuffle(test_examples)\n",
    "\n",
    "\n",
    "y_true = []\n",
    "y_pred = []\n",
    "\n",
    "for q, a, label in test_examples:\n",
    "    embedding_q = model.encode(q, convert_to_tensor=True)\n",
    "    embedding_a = model.encode(a, convert_to_tensor=True)\n",
    "    cosine_score = util.cos_sim(embedding_q, embedding_a).item()\n",
    "\n",
    "    y_true.append(label)\n",
    "    y_pred.append(cosine_score)\n",
    "\n",
    "# Convert predictions to binary: similarity > 0.5 = match\n",
    "from sklearn.metrics import accuracy_score, f1_score, roc_auc_score\n",
    "\n",
    "binary_pred = [1 if score > 0.5 else 0 for score in y_pred]\n",
    "\n",
    "# Print metrics\n",
    "print(\"Evaluation Results:\")\n",
    "print(f\"Accuracy: {accuracy_score(y_true, binary_pred):.4f}\")\n",
    "print(f\"F1 Score: {f1_score(y_true, binary_pred):.4f}\")\n",
    "print(f\"ROC AUC: {roc_auc_score(y_true, y_pred):.4f}\")"
   ]
  }
 ],
 "metadata": {
  "kernelspec": {
   "display_name": "base",
   "language": "python",
   "name": "python3"
  },
  "language_info": {
   "codemirror_mode": {
    "name": "ipython",
    "version": 3
   },
   "file_extension": ".py",
   "mimetype": "text/x-python",
   "name": "python",
   "nbconvert_exporter": "python",
   "pygments_lexer": "ipython3",
   "version": "3.12.2"
  }
 },
 "nbformat": 4,
 "nbformat_minor": 2
}
