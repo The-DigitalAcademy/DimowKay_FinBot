{
 "cells": [
  {
   "cell_type": "markdown",
   "metadata": {},
   "source": [
    "# Sentence BERT"
   ]
  },
  {
   "cell_type": "code",
   "execution_count": null,
   "metadata": {},
   "outputs": [],
   "source": [
    "import pandas as pd\n",
    "import numpy as np\n",
    "from sklearn.metrics.pairwise import cosine_similarity\n",
    "from sentence_transformers import SentenceTransformer\n",
    "\n",
    "\n",
    "faq_df = pd.read_csv('/Users/tshmacm1172/Desktop/DimowKay_FinBot/train_data.csv')  \n",
    "faq_df.dropna(subset=['question', 'answer'], inplace=True)\n",
    "faq_df['question'] = faq_df['question'].str.strip()\n",
    "faq_df['answer'] = faq_df['answer'].str.strip()\n",
    "faq_df.drop_duplicates(subset='question', inplace=True)\n",
    "faq_df.reset_index(drop=True, inplace=True)\n",
    "\n",
    "faq_questions = faq_df['question'].tolist()\n",
    "faq_answers = faq_df['answer'].tolist()\n",
    "\n",
    "\n",
    "# Model\n",
    "print(\"Encoding FAQ questions...\")\n",
    "model = SentenceTransformer('all-MiniLM-L6-v2')\n",
    "question_embeddings = model.encode(faq_questions, show_progress_bar=True)\n",
    "\n",
    "# Response\n",
    "def get_response_with_score(user_query):\n",
    "    query_embedding = model.encode([user_query])\n",
    "    similarities = cosine_similarity(query_embedding, question_embeddings)\n",
    "    best_idx = np.argmax(similarities)\n",
    "    best_score = similarities[0][best_idx]\n",
    "    return faq_answers[best_idx], faq_questions[best_idx], best_score\n",
    "\n",
    "\n",
    "test_df = pd.read_csv('/Users/tshmacm1172/Desktop/DimowKay_FinBot/test_data.csv')  \n",
    "print(\"\\n📝 Test Columns:\", test_df.columns.tolist())\n",
    "\n",
    "\n",
    "input_col = 'question'\n",
    "expected_col = 'answer'\n",
    "\n",
    "test_df.dropna(subset=[input_col, expected_col], inplace=True)\n",
    "\n",
    "\n",
    "print(\"\\n Running test queries...\")\n",
    "for i in range(min(5, len(test_df))):\n",
    "    user_query = test_df.loc[i, input_col]\n",
    "    expected = test_df.loc[i, expected_col]\n",
    "\n",
    "    predicted_answer, matched_question, score = get_response_with_score(user_query)\n",
    "\n",
    "    print(f\"\\n Query: {user_query}\")\n",
    "    print(f\" Expected: {expected}\")\n",
    "    print(f\" Predicted: {predicted_answer}\")\n",
    "    print(f\" Matched FAQ Question: {matched_question}\")\n",
    "    print(f\" Similarity Score: {score:.2f}\")\n",
    "    print(\"-\" * 60)\n"
   ]
  }
 ],
 "metadata": {
  "kernelspec": {
   "display_name": "base",
   "language": "python",
   "name": "python3"
  },
  "language_info": {
   "codemirror_mode": {
    "name": "ipython",
    "version": 3
   },
   "file_extension": ".py",
   "mimetype": "text/x-python",
   "name": "python",
   "nbconvert_exporter": "python",
   "pygments_lexer": "ipython3",
   "version": "3.12.7"
  }
 },
 "nbformat": 4,
 "nbformat_minor": 2
}
